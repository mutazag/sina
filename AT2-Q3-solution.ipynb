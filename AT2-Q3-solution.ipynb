{
 "cells": [
  {
   "cell_type": "code",
   "execution_count": 13,
   "metadata": {},
   "outputs": [
    {
     "output_type": "display_data",
     "data": {
      "text/plain": "<Figure size 432x288 with 1 Axes>",
      "image/png": "[encoded data removed]"
     },
     "metadata": {}
    }
   ],
   "source": [
    "from helpers import samples\n",
    "sample  = samples.at1q3()\n",
    "sample.Get_Networkx_Graph()\n",
    "sample.Draw_Networkx_Graph()"
   ]
  },
  {
   "cell_type": "code",
   "execution_count": 4,
   "metadata": {},
   "outputs": [],
   "source": [
    "import networkx as nx\n",
    "from networkx.algorithms import centrality"
   ]
  },
  {
   "cell_type": "markdown",
   "metadata": {},
   "source": [
    "## degree centrality "
   ]
  },
  {
   "cell_type": "code",
   "execution_count": 5,
   "metadata": {},
   "outputs": [
    {
     "output_type": "execute_result",
     "data": {
      "text/plain": "{'A': 0.6666666666666666,\n 'B': 0.6666666666666666,\n 'C': 0.5,\n 'D': 0.6666666666666666,\n 'E': 1.0,\n 'F': 0.6666666666666666,\n 'G': 0.5}"
     },
     "metadata": {},
     "execution_count": 5
    }
   ],
   "source": [
    "centrality.degree_centrality(sample.G)"
   ]
  },
  {
   "cell_type": "markdown",
   "metadata": {},
   "source": [
    "## closeness centrality"
   ]
  },
  {
   "cell_type": "code",
   "execution_count": 11,
   "metadata": {},
   "outputs": [
    {
     "output_type": "execute_result",
     "data": {
      "text/plain": "{'A': 0.75,\n 'B': 0.75,\n 'C': 0.6666666666666666,\n 'D': 0.75,\n 'E': 1.0,\n 'F': 0.75,\n 'G': 0.6666666666666666}"
     },
     "metadata": {},
     "execution_count": 11
    }
   ],
   "source": [
    "centrality.closeness_centrality(sample.G)"
   ]
  },
  {
   "cell_type": "markdown",
   "metadata": {},
   "source": [
    "## betweenness centrality "
   ]
  },
  {
   "cell_type": "code",
   "execution_count": 16,
   "metadata": {},
   "outputs": [
    {
     "output_type": "execute_result",
     "data": {
      "text/plain": "[['A', 'F', 'B'], ['A', 'E', 'B'], ['A', 'D', 'B']]"
     },
     "metadata": {},
     "execution_count": 16
    }
   ],
   "source": [
    "[p for p in nx.all_shortest_paths(sample.G, 'A', 'B')]"
   ]
  },
  {
   "cell_type": "code",
   "execution_count": 44,
   "metadata": {},
   "outputs": [],
   "source": [
    "nodes = sorted(set(sample.G.nodes))"
   ]
  },
  {
   "cell_type": "code",
   "execution_count": 82,
   "metadata": {},
   "outputs": [
    {
     "output_type": "stream",
     "name": "stdout",
     "text": "A B [['A', 'F', 'B'], ['A', 'E', 'B'], ['A', 'D', 'B']] 3 1 1 before\nA B [['A', 'F', 'B'], ['A', 'E', 'B'], ['A', 'D', 'B']] 3 1 1 adjusted\n0.33 0.33\nA C [['A', 'E', 'C'], ['A', 'D', 'C']] 2 1 0 before\nA C [['A', 'E', 'C'], ['A', 'D', 'C']] 2 1 0 adjusted\n0.83 0.33\nA D [['A', 'D']] 1 0 0 before\nA D [['A', 'D']] 1 0 0 adjusted\n0.83 0.33\nA E [['A', 'E']] 1 1 0 before\nA E [['A', 'E']] 1 0 0 adjusted\n0.83 0.33\nA F [['A', 'F']] 1 0 1 before\nA F [['A', 'F']] 1 0 0 adjusted\n0.83 0.33\nA G [['A', 'G']] 1 0 0 before\nA G [['A', 'G']] 1 0 0 adjusted\n0.83 0.33\nB C [['B', 'C']] 1 0 0 before\nB C [['B', 'C']] 1 0 0 adjusted\n0.83 0.33\nB D [['B', 'D']] 1 0 0 before\nB D [['B', 'D']] 1 0 0 adjusted\n0.83 0.33\nB E [['B', 'E']] 1 1 0 before\nB E [['B', 'E']] 1 0 0 adjusted\n0.83 0.33\nB F [['B', 'F']] 1 0 1 before\nB F [['B', 'F']] 1 0 0 adjusted\n0.83 0.33\nB G [['B', 'F', 'G'], ['B', 'E', 'G']] 2 1 1 before\nB G [['B', 'F', 'G'], ['B', 'E', 'G']] 2 1 1 adjusted\n1.33 0.83\nC D [['C', 'D']] 1 0 0 before\nC D [['C', 'D']] 1 0 0 adjusted\n1.33 0.83\nC E [['C', 'E']] 1 1 0 before\nC E [['C', 'E']] 1 0 0 adjusted\n1.33 0.83\nC F [['C', 'B', 'F'], ['C', 'E', 'F']] 2 1 2 before\nC F [['C', 'B', 'F'], ['C', 'E', 'F']] 2 1 0 adjusted\n1.83 0.83\nC G [['C', 'E', 'G']] 1 1 0 before\nC G [['C', 'E', 'G']] 1 1 0 adjusted\n2.83 0.83\nD E [['D', 'E']] 1 1 0 before\nD E [['D', 'E']] 1 0 0 adjusted\n2.83 0.83\nD F [['D', 'A', 'F'], ['D', 'B', 'F'], ['D', 'E', 'F']] 3 1 3 before\nD F [['D', 'A', 'F'], ['D', 'B', 'F'], ['D', 'E', 'F']] 3 1 0 adjusted\n3.17 0.83\nD G [['D', 'A', 'G'], ['D', 'E', 'G']] 2 1 0 before\nD G [['D', 'A', 'G'], ['D', 'E', 'G']] 2 1 0 adjusted\n3.67 0.83\nE F [['E', 'F']] 1 1 1 before\nE F [['E', 'F']] 1 0 0 adjusted\n3.67 0.83\nE G [['E', 'G']] 1 1 0 before\nE G [['E', 'G']] 1 0 0 adjusted\n3.67 0.83\nF G [['F', 'G']] 1 0 1 before\nF G [['F', 'G']] 1 0 0 adjusted\n3.67 0.83\n3.6666666666666665\n0.8333333333333333\n"
    }
   ],
   "source": [
    "shortest_paths = {}\n",
    "nodes1 = nodes.copy()\n",
    "CBE = 0\n",
    "CBF = 0\n",
    "for s in nodes: \n",
    "    nodes1.remove(s)\n",
    "    # print(s)\n",
    "    # print(nodes1)\n",
    "    for t in nodes1: \n",
    "        gjk = [g for g in nx.all_shortest_paths(sample.G, s, t)]\n",
    "        print(s, t, gjk, len(gjk),  sum(['E' in p for p in gjk]), sum(['F' in p for p in gjk]), 'before')\n",
    "        gEjk = sum(['E' in p if (t != 'E' and s != 'E') else 0 for p in gjk])\n",
    "        gFjk = sum(['F' in p if (t != 'F' and s != 'F') else 0 for p in gjk])\n",
    "        print(s, t, gjk, len(gjk),  gEjk, gFjk, 'adjusted')\n",
    "        CBE = CBE + (gEjk/len(gjk))\n",
    "        CBF = CBF + (gFjk/len(gjk))\n",
    "        print('%.2f'%CBE, '%.2f'%CBF)\n",
    "print(CBE)\n",
    "print(CBF)  "
   ]
  },
  {
   "cell_type": "code",
   "execution_count": 58,
   "metadata": {},
   "outputs": [
    {
     "output_type": "execute_result",
     "data": {
      "text/plain": "{'A': 0.8333333333333333,\n 'B': 0.8333333333333333,\n 'C': 0.0,\n 'D': 0.8333333333333333,\n 'E': 3.6666666666666665,\n 'F': 0.8333333333333333,\n 'G': 0.0}"
     },
     "metadata": {},
     "execution_count": 58
    }
   ],
   "source": [
    "nx.betweenness_centrality(sample.G,normalized=False)"
   ]
  },
  {
   "cell_type": "code",
   "execution_count": 69,
   "metadata": {},
   "outputs": [
    {
     "output_type": "execute_result",
     "data": {
      "text/plain": "True"
     },
     "metadata": {},
     "execution_count": 69
    }
   ],
   "source": [
    "aa = ['A', 'B', 'C']\n",
    "'C' in aa"
   ]
  },
  {
   "cell_type": "code",
   "execution_count": 72,
   "metadata": {},
   "outputs": [],
   "source": [
    "tt = ('C', 'B')"
   ]
  },
  {
   "cell_type": "code",
   "execution_count": 74,
   "metadata": {},
   "outputs": [
    {
     "output_type": "execute_result",
     "data": {
      "text/plain": "[False, False]"
     },
     "metadata": {},
     "execution_count": 74
    }
   ],
   "source": [
    "list(map(lambda n: n in aa , zip(tt)))"
   ]
  },
  {
   "cell_type": "code",
   "execution_count": 76,
   "metadata": {},
   "outputs": [
    {
     "output_type": "stream",
     "name": "stdout",
     "text": "[('C',), ('B',)]\n"
    }
   ],
   "source": [
    "print(list(zip(tt)))"
   ]
  },
  {
   "cell_type": "code",
   "execution_count": null,
   "metadata": {},
   "outputs": [],
   "source": []
  }
 ],
 "metadata": {
  "language_info": {
   "codemirror_mode": {
    "name": "ipython",
    "version": 3
   },
   "file_extension": ".py",
   "mimetype": "text/x-python",
   "name": "python",
   "nbconvert_exporter": "python",
   "pygments_lexer": "ipython3",
   "version": 3
  },
  "orig_nbformat": 2,
  "kernelspec": {
   "name": "python36864bit181a16556299482b9f42a2b25c9baf89",
   "display_name": "Python 3.6.8 64-bit"
  }
 },
 "nbformat": 4,
 "nbformat_minor": 2
}