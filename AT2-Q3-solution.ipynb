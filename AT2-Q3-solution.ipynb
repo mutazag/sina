{
 "cells": [
  {
   "cell_type": "code",
   "execution_count": 1,
   "metadata": {},
   "outputs": [
    {
     "output_type": "display_data",
     "data": {
      "text/plain": "<Figure size 432x288 with 1 Axes>",
      "image/svg+xml": "<?xml version=\"1.0\" encoding=\"utf-8\" standalone=\"no\"?>\r\n<!DOCTYPE svg PUBLIC \"-//W3C//DTD SVG 1.1//EN\"\r\n  \"http://www.w3.org/Graphics/SVG/1.1/DTD/svg11.dtd\">\r\n<!-- Created with matplotlib (https://matplotlib.org/) -->\r\n<svg height=\"231.84pt\" version=\"1.1\" viewBox=\"0 0 349.2 231.84\" width=\"349.2pt\" xmlns=\"http://www.w3.org/2000/svg\" xmlns:xlink=\"http://www.w3.org/1999/xlink\">\r\n <defs>\r\n  <style type=\"text/css\">\r\n*{stroke-linecap:butt;stroke-linejoin:round;}\r\n  </style>\r\n </defs>\r\n <g id=\"figure_1\">\r\n  <g id=\"patch_1\">\r\n   <path d=\"M 0 231.84 \r\nL 349.2 231.84 \r\nL 349.2 0 \r\nL 0 0 \r\nz\r\n\" style=\"fill:none;\"/>\r\n  </g>\r\n  <g id=\"axes_1\">\r\n   <g id=\"patch_2\">\r\n    <path d=\"M 7.2 224.64 \r\nL 342 224.64 \r\nL 342 7.2 \r\nL 7.2 7.2 \r\nz\r\n\" style=\"fill:#ffffff;\"/>\r\n   </g>\r\n   <g id=\"LineCollection_1\">\r\n    <path clip-path=\"url(#p7e77fb3fc3)\" d=\"M 22.418182 214.756364 \r\nL 22.418182 115.92 \r\n\" style=\"fill:none;stroke:#008000;stroke-opacity:0.5;stroke-width:1.5;\"/>\r\n    <path clip-path=\"url(#p7e77fb3fc3)\" d=\"M 22.418182 214.756364 \r\nL 174.6 17.083636 \r\n\" style=\"fill:none;stroke:#008000;stroke-opacity:0.5;stroke-width:1.5;\"/>\r\n    <path clip-path=\"url(#p7e77fb3fc3)\" d=\"M 22.418182 214.756364 \r\nL 174.6 115.92 \r\n\" style=\"fill:none;stroke:#008000;stroke-opacity:0.5;stroke-width:1.5;\"/>\r\n    <path clip-path=\"url(#p7e77fb3fc3)\" d=\"M 22.418182 214.756364 \r\nL 174.6 214.756364 \r\n\" style=\"fill:none;stroke:#008000;stroke-opacity:0.5;stroke-width:1.5;\"/>\r\n    <path clip-path=\"url(#p7e77fb3fc3)\" d=\"M 326.781818 115.92 \r\nL 174.6 17.083636 \r\n\" style=\"fill:none;stroke:#008000;stroke-opacity:0.5;stroke-width:1.5;\"/>\r\n    <path clip-path=\"url(#p7e77fb3fc3)\" d=\"M 326.781818 115.92 \r\nL 174.6 115.92 \r\n\" style=\"fill:none;stroke:#008000;stroke-opacity:0.5;stroke-width:1.5;\"/>\r\n    <path clip-path=\"url(#p7e77fb3fc3)\" d=\"M 326.781818 115.92 \r\nL 174.6 214.756364 \r\n\" style=\"fill:none;stroke:#008000;stroke-opacity:0.5;stroke-width:1.5;\"/>\r\n    <path clip-path=\"url(#p7e77fb3fc3)\" d=\"M 326.781818 115.92 \r\nL 326.781818 214.756364 \r\n\" style=\"fill:none;stroke:#008000;stroke-opacity:0.5;stroke-width:1.5;\"/>\r\n    <path clip-path=\"url(#p7e77fb3fc3)\" d=\"M 326.781818 214.756364 \r\nL 174.6 115.92 \r\n\" style=\"fill:none;stroke:#008000;stroke-opacity:0.5;stroke-width:1.5;\"/>\r\n    <path clip-path=\"url(#p7e77fb3fc3)\" d=\"M 326.781818 214.756364 \r\nL 174.6 214.756364 \r\n\" style=\"fill:none;stroke:#008000;stroke-opacity:0.5;stroke-width:1.5;\"/>\r\n    <path clip-path=\"url(#p7e77fb3fc3)\" d=\"M 174.6 214.756364 \r\nL 174.6 115.92 \r\n\" style=\"fill:none;stroke:#008000;stroke-opacity:0.5;stroke-width:1.5;\"/>\r\n    <path clip-path=\"url(#p7e77fb3fc3)\" d=\"M 174.6 115.92 \r\nL 174.6 17.083636 \r\n\" style=\"fill:none;stroke:#008000;stroke-opacity:0.5;stroke-width:1.5;\"/>\r\n    <path clip-path=\"url(#p7e77fb3fc3)\" d=\"M 174.6 115.92 \r\nL 22.418182 115.92 \r\n\" style=\"fill:none;stroke:#008000;stroke-opacity:0.5;stroke-width:1.5;\"/>\r\n    <path clip-path=\"url(#p7e77fb3fc3)\" d=\"M 174.6 17.083636 \r\nL 22.418182 115.92 \r\n\" style=\"fill:none;stroke:#008000;stroke-opacity:0.5;stroke-width:1.5;\"/>\r\n   </g>\r\n   <g id=\"matplotlib.axis_1\">\r\n    <g id=\"xtick_1\"/>\r\n    <g id=\"xtick_2\"/>\r\n    <g id=\"xtick_3\"/>\r\n    <g id=\"xtick_4\"/>\r\n    <g id=\"xtick_5\"/>\r\n    <g id=\"xtick_6\"/>\r\n    <g id=\"xtick_7\"/>\r\n    <g id=\"xtick_8\"/>\r\n    <g id=\"xtick_9\"/>\r\n   </g>\r\n   <g id=\"matplotlib.axis_2\">\r\n    <g id=\"ytick_1\"/>\r\n    <g id=\"ytick_2\"/>\r\n    <g id=\"ytick_3\"/>\r\n    <g id=\"ytick_4\"/>\r\n    <g id=\"ytick_5\"/>\r\n    <g id=\"ytick_6\"/>\r\n    <g id=\"ytick_7\"/>\r\n    <g id=\"ytick_8\"/>\r\n    <g id=\"ytick_9\"/>\r\n   </g>\r\n   <g id=\"PathCollection_1\">\r\n    <defs>\r\n     <path d=\"M 0 11.18034 \r\nC 2.965061 11.18034 5.80908 10.002309 7.905694 7.905694 \r\nC 10.002309 5.80908 11.18034 2.965061 11.18034 0 \r\nC 11.18034 -2.965061 10.002309 -5.80908 7.905694 -7.905694 \r\nC 5.80908 -10.002309 2.965061 -11.18034 0 -11.18034 \r\nC -2.965061 -11.18034 -5.80908 -10.002309 -7.905694 -7.905694 \r\nC -10.002309 -5.80908 -11.18034 -2.965061 -11.18034 0 \r\nC -11.18034 2.965061 -10.002309 5.80908 -7.905694 7.905694 \r\nC -5.80908 10.002309 -2.965061 11.18034 0 11.18034 \r\nz\r\n\" id=\"m6fa27cb9ab\" style=\"stroke:#808080;stroke-opacity:0.8;\"/>\r\n    </defs>\r\n    <g clip-path=\"url(#p7e77fb3fc3)\">\r\n     <use style=\"fill:#808080;fill-opacity:0.8;stroke:#808080;stroke-opacity:0.8;\" x=\"22.418182\" xlink:href=\"#m6fa27cb9ab\" y=\"214.756364\"/>\r\n     <use style=\"fill:#808080;fill-opacity:0.8;stroke:#808080;stroke-opacity:0.8;\" x=\"326.781818\" xlink:href=\"#m6fa27cb9ab\" y=\"115.92\"/>\r\n     <use style=\"fill:#808080;fill-opacity:0.8;stroke:#808080;stroke-opacity:0.8;\" x=\"326.781818\" xlink:href=\"#m6fa27cb9ab\" y=\"214.756364\"/>\r\n     <use style=\"fill:#808080;fill-opacity:0.8;stroke:#808080;stroke-opacity:0.8;\" x=\"174.6\" xlink:href=\"#m6fa27cb9ab\" y=\"214.756364\"/>\r\n     <use style=\"fill:#808080;fill-opacity:0.8;stroke:#808080;stroke-opacity:0.8;\" x=\"174.6\" xlink:href=\"#m6fa27cb9ab\" y=\"115.92\"/>\r\n     <use style=\"fill:#808080;fill-opacity:0.8;stroke:#808080;stroke-opacity:0.8;\" x=\"174.6\" xlink:href=\"#m6fa27cb9ab\" y=\"17.083636\"/>\r\n     <use style=\"fill:#808080;fill-opacity:0.8;stroke:#808080;stroke-opacity:0.8;\" x=\"22.418182\" xlink:href=\"#m6fa27cb9ab\" y=\"115.92\"/>\r\n    </g>\r\n   </g>\r\n   <g id=\"patch_3\">\r\n    <path d=\"M 7.2 224.64 \r\nL 7.2 7.2 \r\n\" style=\"fill:none;stroke:#000000;stroke-linecap:square;stroke-linejoin:miter;stroke-width:0.8;\"/>\r\n   </g>\r\n   <g id=\"patch_4\">\r\n    <path d=\"M 342 224.64 \r\nL 342 7.2 \r\n\" style=\"fill:none;stroke:#000000;stroke-linecap:square;stroke-linejoin:miter;stroke-width:0.8;\"/>\r\n   </g>\r\n   <g id=\"patch_5\">\r\n    <path d=\"M 7.2 224.64 \r\nL 342 224.64 \r\n\" style=\"fill:none;stroke:#000000;stroke-linecap:square;stroke-linejoin:miter;stroke-width:0.8;\"/>\r\n   </g>\r\n   <g id=\"patch_6\">\r\n    <path d=\"M 7.2 7.2 \r\nL 342 7.2 \r\n\" style=\"fill:none;stroke:#000000;stroke-linecap:square;stroke-linejoin:miter;stroke-width:0.8;\"/>\r\n   </g>\r\n   <g id=\"text_1\">\r\n    <g clip-path=\"url(#p7e77fb3fc3)\">\r\n     <!-- $A$ -->\r\n     <defs>\r\n      <path d=\"M 36.8125 72.90625 \r\nL 48 72.90625 \r\nL 61.53125 0 \r\nL 51.21875 0 \r\nL 48.1875 18.703125 \r\nL 15.375 18.703125 \r\nL 5.078125 0 \r\nL -5.328125 0 \r\nz\r\nM 40.375 63.1875 \r\nL 19.921875 26.90625 \r\nL 46.6875 26.90625 \r\nz\r\n\" id=\"DejaVuSans-Oblique-65\"/>\r\n     </defs>\r\n     <g transform=\"translate(16.898182 219.171364)scale(0.16 -0.16)\">\r\n      <use transform=\"translate(0 0.09375)\" xlink:href=\"#DejaVuSans-Oblique-65\"/>\r\n     </g>\r\n    </g>\r\n   </g>\r\n   <g id=\"text_2\">\r\n    <g clip-path=\"url(#p7e77fb3fc3)\">\r\n     <!-- $B$ -->\r\n     <defs>\r\n      <path d=\"M 16.890625 72.90625 \r\nL 42.09375 72.90625 \r\nQ 52.34375 72.90625 57.421875 69.09375 \r\nQ 62.5 65.28125 62.5 57.625 \r\nQ 62.5 50.59375 58.125 45.484375 \r\nQ 53.765625 40.375 46.6875 39.3125 \r\nQ 52.734375 37.9375 55.765625 34.078125 \r\nQ 58.796875 30.21875 58.796875 23.78125 \r\nQ 58.796875 12.796875 50.65625 6.390625 \r\nQ 42.53125 0 28.421875 0 \r\nL 2.6875 0 \r\nz\r\nM 19.28125 34.8125 \r\nL 14.109375 8.109375 \r\nL 29.984375 8.109375 \r\nQ 38.921875 8.109375 43.75 12.203125 \r\nQ 48.578125 16.3125 48.578125 23.78125 \r\nQ 48.578125 29.546875 45.375 32.171875 \r\nQ 42.1875 34.8125 35.109375 34.8125 \r\nz\r\nM 25.09375 64.796875 \r\nL 20.796875 42.828125 \r\nL 35.5 42.828125 \r\nQ 43.359375 42.828125 47.78125 46.234375 \r\nQ 52.203125 49.65625 52.203125 55.71875 \r\nQ 52.203125 60.453125 49.21875 62.625 \r\nQ 46.234375 64.796875 39.703125 64.796875 \r\nz\r\n\" id=\"DejaVuSans-Oblique-66\"/>\r\n     </defs>\r\n     <g transform=\"translate(321.261818 120.335)scale(0.16 -0.16)\">\r\n      <use transform=\"translate(0 0.09375)\" xlink:href=\"#DejaVuSans-Oblique-66\"/>\r\n     </g>\r\n    </g>\r\n   </g>\r\n   <g id=\"text_3\">\r\n    <g clip-path=\"url(#p7e77fb3fc3)\">\r\n     <!-- $C$ -->\r\n     <defs>\r\n      <path d=\"M 69.484375 67.28125 \r\nL 67.484375 56.890625 \r\nQ 62.796875 61.625 57.546875 63.921875 \r\nQ 52.296875 66.21875 46.1875 66.21875 \r\nQ 37.84375 66.21875 31.515625 62.203125 \r\nQ 25.203125 58.203125 20.609375 50 \r\nQ 17.671875 44.734375 16.125 38.84375 \r\nQ 14.59375 32.953125 14.59375 27 \r\nQ 14.59375 17.046875 19.75 11.8125 \r\nQ 24.90625 6.59375 34.71875 6.59375 \r\nQ 41.5 6.59375 47.75 8.765625 \r\nQ 54 10.9375 59.90625 15.28125 \r\nL 57.625 3.609375 \r\nQ 51.8125 1.125 45.875 -0.140625 \r\nQ 39.9375 -1.421875 33.984375 -1.421875 \r\nQ 19.96875 -1.421875 12.078125 6.1875 \r\nQ 4.203125 13.8125 4.203125 27.390625 \r\nQ 4.203125 36.078125 7.203125 44.46875 \r\nQ 10.203125 52.875 15.828125 59.8125 \r\nQ 21.78125 67.1875 29.421875 70.703125 \r\nQ 37.0625 74.21875 47.21875 74.21875 \r\nQ 53.46875 74.21875 59.0625 72.484375 \r\nQ 64.65625 70.75 69.484375 67.28125 \r\nz\r\n\" id=\"DejaVuSans-Oblique-67\"/>\r\n     </defs>\r\n     <g transform=\"translate(321.181818 219.171364)scale(0.16 -0.16)\">\r\n      <use transform=\"translate(0 0.78125)\" xlink:href=\"#DejaVuSans-Oblique-67\"/>\r\n     </g>\r\n    </g>\r\n   </g>\r\n   <g id=\"text_4\">\r\n    <g clip-path=\"url(#p7e77fb3fc3)\">\r\n     <!-- $D$ -->\r\n     <defs>\r\n      <path d=\"M 16.890625 72.90625 \r\nL 38.09375 72.90625 \r\nQ 54.984375 72.90625 63.59375 65.75 \r\nQ 72.21875 58.59375 72.21875 44.484375 \r\nQ 72.21875 35.15625 68.9375 26.53125 \r\nQ 65.671875 17.921875 59.90625 12.015625 \r\nQ 54.109375 5.953125 45.171875 2.96875 \r\nQ 36.234375 0 24.03125 0 \r\nL 2.6875 0 \r\nz\r\nM 25.203125 64.796875 \r\nL 14.203125 8.109375 \r\nL 27.09375 8.109375 \r\nQ 43.65625 8.109375 52.734375 17.625 \r\nQ 61.8125 27.15625 61.8125 44.484375 \r\nQ 61.8125 54.984375 55.953125 59.890625 \r\nQ 50.09375 64.796875 37.59375 64.796875 \r\nz\r\n\" id=\"DejaVuSans-Oblique-68\"/>\r\n     </defs>\r\n     <g transform=\"translate(168.36 219.171364)scale(0.16 -0.16)\">\r\n      <use transform=\"translate(0 0.09375)\" xlink:href=\"#DejaVuSans-Oblique-68\"/>\r\n     </g>\r\n    </g>\r\n   </g>\r\n   <g id=\"text_5\">\r\n    <g clip-path=\"url(#p7e77fb3fc3)\">\r\n     <!-- $E$ -->\r\n     <defs>\r\n      <path d=\"M 16.890625 72.90625 \r\nL 62.984375 72.90625 \r\nL 61.375 64.59375 \r\nL 25.09375 64.59375 \r\nL 20.90625 43.015625 \r\nL 55.71875 43.015625 \r\nL 54.109375 34.71875 \r\nL 19.28125 34.71875 \r\nL 14.203125 8.296875 \r\nL 51.3125 8.296875 \r\nL 49.703125 0 \r\nL 2.6875 0 \r\nz\r\n\" id=\"DejaVuSans-Oblique-69\"/>\r\n     </defs>\r\n     <g transform=\"translate(169.48 120.335)scale(0.16 -0.16)\">\r\n      <use transform=\"translate(0 0.09375)\" xlink:href=\"#DejaVuSans-Oblique-69\"/>\r\n     </g>\r\n    </g>\r\n   </g>\r\n   <g id=\"text_6\">\r\n    <g clip-path=\"url(#p7e77fb3fc3)\">\r\n     <!-- $F$ -->\r\n     <defs>\r\n      <path d=\"M 16.890625 72.90625 \r\nL 58.6875 72.90625 \r\nL 57.078125 64.59375 \r\nL 25.09375 64.59375 \r\nL 20.90625 43.109375 \r\nL 49.8125 43.109375 \r\nL 48.1875 34.8125 \r\nL 19.28125 34.8125 \r\nL 12.5 0 \r\nL 2.6875 0 \r\nz\r\n\" id=\"DejaVuSans-Oblique-70\"/>\r\n     </defs>\r\n     <g transform=\"translate(169.96 21.498636)scale(0.16 -0.16)\">\r\n      <use transform=\"translate(0 0.09375)\" xlink:href=\"#DejaVuSans-Oblique-70\"/>\r\n     </g>\r\n    </g>\r\n   </g>\r\n   <g id=\"text_7\">\r\n    <g clip-path=\"url(#p7e77fb3fc3)\">\r\n     <!-- $G$ -->\r\n     <defs>\r\n      <path d=\"M 54.59375 10.890625 \r\nL 58.40625 29.984375 \r\nL 42.1875 29.984375 \r\nL 43.703125 38.09375 \r\nL 69.578125 38.09375 \r\nL 63.28125 6 \r\nQ 56.78125 2.4375 49.109375 0.5 \r\nQ 41.453125 -1.421875 33.6875 -1.421875 \r\nQ 19.96875 -1.421875 12.234375 6.1875 \r\nQ 4.5 13.8125 4.5 27.390625 \r\nQ 4.5 38.671875 9.203125 48.84375 \r\nQ 13.921875 59.03125 22.21875 65.828125 \r\nQ 27.4375 70.0625 33.640625 72.140625 \r\nQ 39.84375 74.21875 47.40625 74.21875 \r\nQ 54.25 74.21875 60.515625 72.484375 \r\nQ 66.796875 70.75 72.515625 67.28125 \r\nL 70.515625 56.78125 \r\nQ 66.109375 61.375 60.203125 63.796875 \r\nQ 54.296875 66.21875 47.609375 66.21875 \r\nQ 39.84375 66.21875 33.9375 63.25 \r\nQ 28.03125 60.296875 23.390625 54.109375 \r\nQ 19.4375 48.828125 17.15625 41.671875 \r\nQ 14.890625 34.515625 14.890625 27.09375 \r\nQ 14.890625 16.890625 20.109375 11.734375 \r\nQ 25.34375 6.59375 35.6875 6.59375 \r\nQ 40.875 6.59375 45.703125 7.6875 \r\nQ 50.53125 8.796875 54.59375 10.890625 \r\nz\r\n\" id=\"DejaVuSans-Oblique-71\"/>\r\n     </defs>\r\n     <g transform=\"translate(16.178182 120.335)scale(0.16 -0.16)\">\r\n      <use transform=\"translate(0 0.78125)\" xlink:href=\"#DejaVuSans-Oblique-71\"/>\r\n     </g>\r\n    </g>\r\n   </g>\r\n  </g>\r\n </g>\r\n <defs>\r\n  <clipPath id=\"p7e77fb3fc3\">\r\n   <rect height=\"217.44\" width=\"334.8\" x=\"7.2\" y=\"7.2\"/>\r\n  </clipPath>\r\n </defs>\r\n</svg>\r\n",
      "image/png": "[encoded data removed]"
     },
     "metadata": {}
    }
   ],
   "source": [
    "from helpers import samples\n",
    "sample  = samples.at1q3()\n",
    "sample.Get_Networkx_Graph()\n",
    "sample.Draw_Networkx_Graph()"
   ]
  },
  {
   "cell_type": "code",
   "execution_count": 2,
   "metadata": {},
   "outputs": [],
   "source": [
    "import networkx as nx\n",
    "from networkx.algorithms import centrality\n",
    "\n",
    "import pandas as pd"
   ]
  },
  {
   "cell_type": "markdown",
   "metadata": {},
   "source": [
    "## degree centrality \n",
    "\n",
    "degree centrality is the degree of the node \n",
    "\n",
    "normalised by (n - 1)"
   ]
  },
  {
   "cell_type": "code",
   "execution_count": 3,
   "metadata": {},
   "outputs": [
    {
     "output_type": "execute_result",
     "data": {
      "text/plain": "  node  degree  normalised\n0    A       4    0.666667\n1    B       4    0.666667\n2    C       3    0.500000\n3    D       4    0.666667\n4    E       6    1.000000\n5    F       4    0.666667\n6    G       3    0.500000",
      "text/html": "<div>\n<style scoped>\n    .dataframe tbody tr th:only-of-type {\n        vertical-align: middle;\n    }\n\n    .dataframe tbody tr th {\n        vertical-align: top;\n    }\n\n    .dataframe thead th {\n        text-align: right;\n    }\n</style>\n<table border=\"1\" class=\"dataframe\">\n  <thead>\n    <tr style=\"text-align: right;\">\n      <th></th>\n      <th>node</th>\n      <th>degree</th>\n      <th>normalised</th>\n    </tr>\n  </thead>\n  <tbody>\n    <tr>\n      <th>0</th>\n      <td>A</td>\n      <td>4</td>\n      <td>0.666667</td>\n    </tr>\n    <tr>\n      <th>1</th>\n      <td>B</td>\n      <td>4</td>\n      <td>0.666667</td>\n    </tr>\n    <tr>\n      <th>2</th>\n      <td>C</td>\n      <td>3</td>\n      <td>0.500000</td>\n    </tr>\n    <tr>\n      <th>3</th>\n      <td>D</td>\n      <td>4</td>\n      <td>0.666667</td>\n    </tr>\n    <tr>\n      <th>4</th>\n      <td>E</td>\n      <td>6</td>\n      <td>1.000000</td>\n    </tr>\n    <tr>\n      <th>5</th>\n      <td>F</td>\n      <td>4</td>\n      <td>0.666667</td>\n    </tr>\n    <tr>\n      <th>6</th>\n      <td>G</td>\n      <td>3</td>\n      <td>0.500000</td>\n    </tr>\n  </tbody>\n</table>\n</div>"
     },
     "metadata": {},
     "execution_count": 3
    }
   ],
   "source": [
    "n_nodes = len(sample.G.nodes)\n",
    "degree_centrality = [{'node': n, 'degree': nx.degree(sample.G, n), 'normalised': nx.degree(sample.G,n)/(n_nodes-1)} for n in sample.G.nodes]\n",
    "\n",
    "\n",
    "pd.DataFrame(degree_centrality)"
   ]
  },
  {
   "cell_type": "code",
   "execution_count": 4,
   "metadata": {},
   "outputs": [
    {
     "output_type": "execute_result",
     "data": {
      "text/plain": "{'A': 0.6666666666666666,\n 'B': 0.6666666666666666,\n 'C': 0.5,\n 'D': 0.6666666666666666,\n 'E': 1.0,\n 'F': 0.6666666666666666,\n 'G': 0.5}"
     },
     "metadata": {},
     "execution_count": 4
    }
   ],
   "source": [
    "centrality.degree_centrality(sample.G)"
   ]
  },
  {
   "cell_type": "markdown",
   "metadata": {},
   "source": [
    "## closeness centrality\n",
    "\n",
    "Inverse of sum of shortest paths to the node\n",
    "\n",
    "the smaller the shortest paths the higher the closeness of the nodes to others in the graph\n",
    "\n",
    "closness  = (sum(shortest path length)) /  (n-1)) to the power -1\n"
   ]
  },
  {
   "cell_type": "code",
   "execution_count": 5,
   "metadata": {},
   "outputs": [
    {
     "output_type": "stream",
     "name": "stdout",
     "text": "0 ['A']\n2 ['A', 'F', 'B']\n2 ['A', 'E', 'C']\n1 ['A', 'D']\n1 ['A', 'E']\n1 ['A', 'F']\n1 ['A', 'G']\n2 ['B', 'F', 'A']\n0 ['B']\n1 ['B', 'C']\n1 ['B', 'D']\n1 ['B', 'E']\n1 ['B', 'F']\n2 ['B', 'E', 'G']\n2 ['C', 'E', 'A']\n1 ['C', 'B']\n0 ['C']\n1 ['C', 'D']\n1 ['C', 'E']\n2 ['C', 'B', 'F']\n2 ['C', 'E', 'G']\n1 ['D', 'A']\n1 ['D', 'B']\n1 ['D', 'C']\n0 ['D']\n1 ['D', 'E']\n2 ['D', 'A', 'F']\n2 ['D', 'A', 'G']\n1 ['E', 'A']\n1 ['E', 'B']\n1 ['E', 'C']\n1 ['E', 'D']\n0 ['E']\n1 ['E', 'F']\n1 ['E', 'G']\n1 ['F', 'A']\n1 ['F', 'B']\n2 ['F', 'B', 'C']\n2 ['F', 'A', 'D']\n1 ['F', 'E']\n0 ['F']\n1 ['F', 'G']\n1 ['G', 'A']\n2 ['G', 'F', 'B']\n2 ['G', 'E', 'C']\n2 ['G', 'A', 'D']\n1 ['G', 'E']\n1 ['G', 'F']\n0 ['G']\n"
    }
   ],
   "source": [
    "nodes = list(sample.G.nodes) \n",
    "# for each node, find all the shortest paths to the node from all other nodes, then add up the lengths of these shortest paths \n",
    "\n",
    "shortest_paths_dict = {}\n",
    "for s in nodes: \n",
    "    s_shortest_path_lengths = []\n",
    "    for t in nodes: \n",
    "        # if s == t: \n",
    "        #     continue\n",
    "        print(nx.shortest_path_length(sample.G, s, t), list(nx.shortest_path(sample.G, s, t)))\n",
    "        s_shortest_path_lengths.append(nx.shortest_path_length(sample.G, s, t))\n",
    "    shortest_paths_dict[s]  = s_shortest_path_lengths\n",
    "\n",
    "closness_df = pd.DataFrame.from_dict(shortest_paths_dict, orient='index', columns=list(shortest_paths_dict.keys()))\n",
    "# closness_df.index.set_names('n', inplace=True)\n",
    "closness_df['sum_shortest_path_lengths'] = closness_df.apply(lambda row: sum(row[0:]), axis=1)\n",
    "n = len(nodes)\n",
    "closness_df['closeness'] = (closness_df['sum_shortest_path_lengths'] / (n-1)) ** -1\n",
    "\n"
   ]
  },
  {
   "cell_type": "code",
   "execution_count": 6,
   "metadata": {},
   "outputs": [
    {
     "output_type": "execute_result",
     "data": {
      "text/plain": "   A  B  C  D  E  F  G  sum_shortest_path_lengths  closeness\nA  0  2  2  1  1  1  1                          8   0.750000\nB  2  0  1  1  1  1  2                          8   0.750000\nC  2  1  0  1  1  2  2                          9   0.666667\nD  1  1  1  0  1  2  2                          8   0.750000\nE  1  1  1  1  0  1  1                          6   1.000000\nF  1  1  2  2  1  0  1                          8   0.750000\nG  1  2  2  2  1  1  0                          9   0.666667",
      "text/html": "<div>\n<style scoped>\n    .dataframe tbody tr th:only-of-type {\n        vertical-align: middle;\n    }\n\n    .dataframe tbody tr th {\n        vertical-align: top;\n    }\n\n    .dataframe thead th {\n        text-align: right;\n    }\n</style>\n<table border=\"1\" class=\"dataframe\">\n  <thead>\n    <tr style=\"text-align: right;\">\n      <th></th>\n      <th>A</th>\n      <th>B</th>\n      <th>C</th>\n      <th>D</th>\n      <th>E</th>\n      <th>F</th>\n      <th>G</th>\n      <th>sum_shortest_path_lengths</th>\n      <th>closeness</th>\n    </tr>\n  </thead>\n  <tbody>\n    <tr>\n      <th>A</th>\n      <td>0</td>\n      <td>2</td>\n      <td>2</td>\n      <td>1</td>\n      <td>1</td>\n      <td>1</td>\n      <td>1</td>\n      <td>8</td>\n      <td>0.750000</td>\n    </tr>\n    <tr>\n      <th>B</th>\n      <td>2</td>\n      <td>0</td>\n      <td>1</td>\n      <td>1</td>\n      <td>1</td>\n      <td>1</td>\n      <td>2</td>\n      <td>8</td>\n      <td>0.750000</td>\n    </tr>\n    <tr>\n      <th>C</th>\n      <td>2</td>\n      <td>1</td>\n      <td>0</td>\n      <td>1</td>\n      <td>1</td>\n      <td>2</td>\n      <td>2</td>\n      <td>9</td>\n      <td>0.666667</td>\n    </tr>\n    <tr>\n      <th>D</th>\n      <td>1</td>\n      <td>1</td>\n      <td>1</td>\n      <td>0</td>\n      <td>1</td>\n      <td>2</td>\n      <td>2</td>\n      <td>8</td>\n      <td>0.750000</td>\n    </tr>\n    <tr>\n      <th>E</th>\n      <td>1</td>\n      <td>1</td>\n      <td>1</td>\n      <td>1</td>\n      <td>0</td>\n      <td>1</td>\n      <td>1</td>\n      <td>6</td>\n      <td>1.000000</td>\n    </tr>\n    <tr>\n      <th>F</th>\n      <td>1</td>\n      <td>1</td>\n      <td>2</td>\n      <td>2</td>\n      <td>1</td>\n      <td>0</td>\n      <td>1</td>\n      <td>8</td>\n      <td>0.750000</td>\n    </tr>\n    <tr>\n      <th>G</th>\n      <td>1</td>\n      <td>2</td>\n      <td>2</td>\n      <td>2</td>\n      <td>1</td>\n      <td>1</td>\n      <td>0</td>\n      <td>9</td>\n      <td>0.666667</td>\n    </tr>\n  </tbody>\n</table>\n</div>"
     },
     "metadata": {},
     "execution_count": 6
    }
   ],
   "source": [
    "closness_df"
   ]
  },
  {
   "cell_type": "code",
   "execution_count": 7,
   "metadata": {},
   "outputs": [
    {
     "output_type": "execute_result",
     "data": {
      "text/plain": "{'A': 0.75,\n 'B': 0.75,\n 'C': 0.6666666666666666,\n 'D': 0.75,\n 'E': 1.0,\n 'F': 0.75,\n 'G': 0.6666666666666666}"
     },
     "metadata": {},
     "execution_count": 7
    }
   ],
   "source": [
    "centrality.closeness_centrality(sample.G)"
   ]
  },
  {
   "cell_type": "markdown",
   "metadata": {},
   "source": [
    "## betweenness centrality \n",
    "\n",
    "betweenness is a measure of shortests paths that run through a node, the higher the shortest paths that run through the node that more betweenness this node has in the network\n",
    "\n",
    "to find betweenness we need to calculate the total number of shortest paths between two ends which node in question is on the path, divided by the total number of shortest paths between the two ends. \n",
    "\n",
    "algo for the calculation: \n",
    "\n",
    "to calculate betweeness for node in question N: \n",
    "\n",
    "```\n",
    "for each node in the graph: \n",
    "\n",
    "    mark as a start node s\n",
    "    \n",
    "    find all shortest path between this node and all other nodes: \n",
    "    for each other node in the network: \n",
    "        mark as a terminal node t to shortest path \n",
    "        find and count all shortest paths between start and terminal  -> number of shortest paths between s and t\n",
    "        if node N in question is on the path, increment the relative count for number of paths this N lies on  \n",
    "        -> number of shortest paths between s and t that N is on\n",
    "        ensure that N is not s or t in this iteration (this also exclude shortest paths to self)\n",
    "\n",
    "        this iteration betweeness measure is: \n",
    "            number of shortest paths between s and t that N is on / number of shortest paths between s and t\n",
    "        add iteration betweeness measure to overall betweeness of N \n",
    "\n",
    "        loop, make sure that you dont double count shortest paths, do so by removing any start node that is already processsed \n",
    "```\n",
    "\n"
   ]
  },
  {
   "cell_type": "code",
   "execution_count": 8,
   "metadata": {},
   "outputs": [
    {
     "output_type": "execute_result",
     "data": {
      "text/plain": "[['A', 'F', 'B'], ['A', 'E', 'B'], ['A', 'D', 'B']]"
     },
     "metadata": {},
     "execution_count": 8
    }
   ],
   "source": [
    "[p for p in nx.all_shortest_paths(sample.G, 'A', 'B')]"
   ]
  },
  {
   "cell_type": "code",
   "execution_count": 9,
   "metadata": {},
   "outputs": [],
   "source": [
    "nodes = sorted(set(sample.G.nodes))"
   ]
  },
  {
   "cell_type": "code",
   "execution_count": 10,
   "metadata": {},
   "outputs": [
    {
     "output_type": "stream",
     "name": "stdout",
     "text": "A B [['A', 'F', 'B'], ['A', 'E', 'B'], ['A', 'D', 'B']] 3 1 1 before\nA B [['A', 'F', 'B'], ['A', 'E', 'B'], ['A', 'D', 'B']] 3 1 1 adjusted\ncumulative betweenness for E and F: 0.33 0.33\nA C [['A', 'E', 'C'], ['A', 'D', 'C']] 2 1 0 before\nA C [['A', 'E', 'C'], ['A', 'D', 'C']] 2 1 0 adjusted\ncumulative betweenness for E and F: 0.83 0.33\nA D [['A', 'D']] 1 0 0 before\nA D [['A', 'D']] 1 0 0 adjusted\ncumulative betweenness for E and F: 0.83 0.33\nA E [['A', 'E']] 1 1 0 before\nA E [['A', 'E']] 1 0 0 adjusted\ncumulative betweenness for E and F: 0.83 0.33\nA F [['A', 'F']] 1 0 1 before\nA F [['A', 'F']] 1 0 0 adjusted\ncumulative betweenness for E and F: 0.83 0.33\nA G [['A', 'G']] 1 0 0 before\nA G [['A', 'G']] 1 0 0 adjusted\ncumulative betweenness for E and F: 0.83 0.33\nB C [['B', 'C']] 1 0 0 before\nB C [['B', 'C']] 1 0 0 adjusted\ncumulative betweenness for E and F: 0.83 0.33\nB D [['B', 'D']] 1 0 0 before\nB D [['B', 'D']] 1 0 0 adjusted\ncumulative betweenness for E and F: 0.83 0.33\nB E [['B', 'E']] 1 1 0 before\nB E [['B', 'E']] 1 0 0 adjusted\ncumulative betweenness for E and F: 0.83 0.33\nB F [['B', 'F']] 1 0 1 before\nB F [['B', 'F']] 1 0 0 adjusted\ncumulative betweenness for E and F: 0.83 0.33\nB G [['B', 'F', 'G'], ['B', 'E', 'G']] 2 1 1 before\nB G [['B', 'F', 'G'], ['B', 'E', 'G']] 2 1 1 adjusted\ncumulative betweenness for E and F: 1.33 0.83\nC D [['C', 'D']] 1 0 0 before\nC D [['C', 'D']] 1 0 0 adjusted\ncumulative betweenness for E and F: 1.33 0.83\nC E [['C', 'E']] 1 1 0 before\nC E [['C', 'E']] 1 0 0 adjusted\ncumulative betweenness for E and F: 1.33 0.83\nC F [['C', 'B', 'F'], ['C', 'E', 'F']] 2 1 2 before\nC F [['C', 'B', 'F'], ['C', 'E', 'F']] 2 1 0 adjusted\ncumulative betweenness for E and F: 1.83 0.83\nC G [['C', 'E', 'G']] 1 1 0 before\nC G [['C', 'E', 'G']] 1 1 0 adjusted\ncumulative betweenness for E and F: 2.83 0.83\nD E [['D', 'E']] 1 1 0 before\nD E [['D', 'E']] 1 0 0 adjusted\ncumulative betweenness for E and F: 2.83 0.83\nD F [['D', 'A', 'F'], ['D', 'B', 'F'], ['D', 'E', 'F']] 3 1 3 before\nD F [['D', 'A', 'F'], ['D', 'B', 'F'], ['D', 'E', 'F']] 3 1 0 adjusted\ncumulative betweenness for E and F: 3.17 0.83\nD G [['D', 'A', 'G'], ['D', 'E', 'G']] 2 1 0 before\nD G [['D', 'A', 'G'], ['D', 'E', 'G']] 2 1 0 adjusted\ncumulative betweenness for E and F: 3.67 0.83\nE F [['E', 'F']] 1 1 1 before\nE F [['E', 'F']] 1 0 0 adjusted\ncumulative betweenness for E and F: 3.67 0.83\nE G [['E', 'G']] 1 1 0 before\nE G [['E', 'G']] 1 0 0 adjusted\ncumulative betweenness for E and F: 3.67 0.83\nF G [['F', 'G']] 1 0 1 before\nF G [['F', 'G']] 1 0 0 adjusted\ncumulative betweenness for E and F: 3.67 0.83\n"
    }
   ],
   "source": [
    "shortest_paths = {}\n",
    "nodes1 = nodes.copy()\n",
    "CBE = 0\n",
    "CBF = 0\n",
    "for s in nodes: \n",
    "    nodes1.remove(s)\n",
    "    # print(s)\n",
    "    # print(nodes1)\n",
    "    for t in nodes1: \n",
    "        gjk = [g for g in nx.all_shortest_paths(sample.G, s, t)]\n",
    "        print(s, t, gjk, len(gjk),  sum(['E' in p for p in gjk]), sum(['F' in p for p in gjk]), 'before')\n",
    "        gEjk = sum(['E' in p if (t != 'E' and s != 'E') else 0 for p in gjk])\n",
    "        gFjk = sum(['F' in p if (t != 'F' and s != 'F') else 0 for p in gjk])\n",
    "        # adjusted means that path is not counted if node in question is an end point in path \n",
    "        print(s, t, gjk, len(gjk),  gEjk, gFjk, 'adjusted')\n",
    "        CBE = CBE + (gEjk/len(gjk))\n",
    "        CBF = CBF + (gFjk/len(gjk))\n",
    "        print('cumulative betweenness for E and F:','%.2f'%CBE, '%.2f'%CBF)\n",
    "\n"
   ]
  },
  {
   "cell_type": "code",
   "execution_count": 11,
   "metadata": {},
   "outputs": [
    {
     "output_type": "stream",
     "name": "stdout",
     "text": "final Cb(E) 3.67 0.2444\nfinal Cb(F) 0.83 0.0556\n"
    }
   ],
   "source": [
    "n = len(nodes)\n",
    "normalisation_factor = (n-2)*(n-1)/2\n",
    "print('final Cb(E)',f'{CBE:.2f}', f'{(CBE/normalisation_factor):.4f}')\n",
    "print('final Cb(F)',f'{CBF:.2f}', f'{(CBF/normalisation_factor):.4f}') "
   ]
  },
  {
   "cell_type": "code",
   "execution_count": 12,
   "metadata": {},
   "outputs": [
    {
     "output_type": "execute_result",
     "data": {
      "text/plain": "{'A': 0.8333333333333333,\n 'B': 0.8333333333333333,\n 'C': 0.0,\n 'D': 0.8333333333333333,\n 'E': 3.6666666666666665,\n 'F': 0.8333333333333333,\n 'G': 0.0}"
     },
     "metadata": {},
     "execution_count": 12
    }
   ],
   "source": [
    "nx.betweenness_centrality(sample.G,normalized=False)"
   ]
  },
  {
   "cell_type": "code",
   "execution_count": 13,
   "metadata": {},
   "outputs": [
    {
     "output_type": "execute_result",
     "data": {
      "text/plain": "{'A': 0.05555555555555555,\n 'B': 0.05555555555555555,\n 'C': 0.0,\n 'D': 0.05555555555555555,\n 'E': 0.24444444444444444,\n 'F': 0.05555555555555555,\n 'G': 0.0}"
     },
     "metadata": {},
     "execution_count": 13
    }
   ],
   "source": [
    "nx.betweenness_centrality(sample.G,normalized=True)"
   ]
  }
 ],
 "metadata": {
  "language_info": {
   "codemirror_mode": {
    "name": "ipython",
    "version": 3
   },
   "file_extension": ".py",
   "mimetype": "text/x-python",
   "name": "python",
   "nbconvert_exporter": "python",
   "pygments_lexer": "ipython3",
   "version": "3.8.2-final"
  },
  "orig_nbformat": 2,
  "kernelspec": {
   "name": "python38264bita77b78139ed74c0680b374d0446532ec",
   "display_name": "Python 3.8.2 64-bit"
  }
 },
 "nbformat": 4,
 "nbformat_minor": 2
}