{
 "cells": [
  {
   "cell_type": "markdown",
   "metadata": {},
   "source": [
    "# Closeness centrality example"
   ]
  },
  {
   "cell_type": "code",
   "execution_count": 1,
   "metadata": {},
   "outputs": [],
   "source": [
    "from helpers import samples"
   ]
  },
  {
   "cell_type": "code",
   "execution_count": 2,
   "metadata": {},
   "outputs": [],
   "source": [
    "sample  = samples.closeness_centrality_graph()"
   ]
  },
  {
   "cell_type": "code",
   "execution_count": 3,
   "metadata": {},
   "outputs": [
    {
     "output_type": "execute_result",
     "data": {
      "text/plain": "<networkx.classes.graph.Graph at 0x22425e24da0>"
     },
     "metadata": {},
     "execution_count": 3
    }
   ],
   "source": [
    "sample.Get_Networkx_Graph()"
   ]
  },
  {
   "cell_type": "code",
   "execution_count": 4,
   "metadata": {},
   "outputs": [
    {
     "output_type": "display_data",
     "data": {
      "text/plain": "<Figure size 432x288 with 1 Axes>",
      "image/svg+xml": "<?xml version=\"1.0\" encoding=\"utf-8\" standalone=\"no\"?>\r\n<!DOCTYPE svg PUBLIC \"-//W3C//DTD SVG 1.1//EN\"\r\n  \"http://www.w3.org/Graphics/SVG/1.1/DTD/svg11.dtd\">\r\n<!-- Created with matplotlib (https://matplotlib.org/) -->\r\n<svg height=\"238.84pt\" version=\"1.1\" viewBox=\"0 0 356.2 238.84\" width=\"356.2pt\" xmlns=\"http://www.w3.org/2000/svg\" xmlns:xlink=\"http://www.w3.org/1999/xlink\">\r\n <defs>\r\n  <style type=\"text/css\">\r\n*{stroke-linecap:butt;stroke-linejoin:round;}\r\n  </style>\r\n </defs>\r\n <g id=\"figure_1\">\r\n  <g id=\"patch_1\">\r\n   <path d=\"M 0 238.84 \r\nL 356.2 238.84 \r\nL 356.2 0 \r\nL 0 0 \r\nz\r\n\" style=\"fill:none;\"/>\r\n  </g>\r\n  <g id=\"axes_1\">\r\n   <g id=\"patch_2\">\r\n    <path d=\"M 10.7 228.14 \r\nL 345.5 228.14 \r\nL 345.5 10.7 \r\nL 10.7 10.7 \r\nz\r\n\" style=\"fill:#ffffff;\"/>\r\n   </g>\r\n   <g id=\"LineCollection_1\">\r\n    <path clip-path=\"url(#p607f2218a4)\" d=\"M 28.417438 119.42 \r\nL 103.258719 119.42 \r\n\" style=\"fill:none;stroke:#008000;stroke-opacity:0.5;stroke-width:1.5;\"/>\r\n    <path clip-path=\"url(#p607f2218a4)\" d=\"M 103.258719 119.42 \r\nL 178.1 119.42 \r\n\" style=\"fill:none;stroke:#008000;stroke-opacity:0.5;stroke-width:1.5;\"/>\r\n    <path clip-path=\"url(#p607f2218a4)\" d=\"M 178.1 119.42 \r\nL 252.941281 119.42 \r\n\" style=\"fill:none;stroke:#008000;stroke-opacity:0.5;stroke-width:1.5;\"/>\r\n    <path clip-path=\"url(#p607f2218a4)\" d=\"M 252.941281 119.42 \r\nL 327.782562 119.42 \r\n\" style=\"fill:none;stroke:#008000;stroke-opacity:0.5;stroke-width:1.5;\"/>\r\n   </g>\r\n   <g id=\"matplotlib.axis_1\">\r\n    <g id=\"xtick_1\"/>\r\n    <g id=\"xtick_2\"/>\r\n    <g id=\"xtick_3\"/>\r\n    <g id=\"xtick_4\"/>\r\n    <g id=\"xtick_5\"/>\r\n    <g id=\"xtick_6\"/>\r\n    <g id=\"xtick_7\"/>\r\n    <g id=\"xtick_8\"/>\r\n    <g id=\"xtick_9\"/>\r\n   </g>\r\n   <g id=\"matplotlib.axis_2\">\r\n    <g id=\"ytick_1\"/>\r\n    <g id=\"ytick_2\"/>\r\n    <g id=\"ytick_3\"/>\r\n    <g id=\"ytick_4\"/>\r\n    <g id=\"ytick_5\"/>\r\n   </g>\r\n   <g id=\"PathCollection_1\">\r\n    <defs>\r\n     <path d=\"M 0 11.18034 \r\nC 2.965061 11.18034 5.80908 10.002309 7.905694 7.905694 \r\nC 10.002309 5.80908 11.18034 2.965061 11.18034 0 \r\nC 11.18034 -2.965061 10.002309 -5.80908 7.905694 -7.905694 \r\nC 5.80908 -10.002309 2.965061 -11.18034 0 -11.18034 \r\nC -2.965061 -11.18034 -5.80908 -10.002309 -7.905694 -7.905694 \r\nC -10.002309 -5.80908 -11.18034 -2.965061 -11.18034 0 \r\nC -11.18034 2.965061 -10.002309 5.80908 -7.905694 7.905694 \r\nC -5.80908 10.002309 -2.965061 11.18034 0 11.18034 \r\nz\r\n\" id=\"m6b98437766\" style=\"stroke:#808080;stroke-opacity:0.8;\"/>\r\n    </defs>\r\n    <g clip-path=\"url(#p607f2218a4)\">\r\n     <use style=\"fill:#808080;fill-opacity:0.8;stroke:#808080;stroke-opacity:0.8;\" x=\"28.417438\" xlink:href=\"#m6b98437766\" y=\"119.42\"/>\r\n     <use style=\"fill:#808080;fill-opacity:0.8;stroke:#808080;stroke-opacity:0.8;\" x=\"103.258719\" xlink:href=\"#m6b98437766\" y=\"119.42\"/>\r\n     <use style=\"fill:#808080;fill-opacity:0.8;stroke:#808080;stroke-opacity:0.8;\" x=\"178.1\" xlink:href=\"#m6b98437766\" y=\"119.42\"/>\r\n     <use style=\"fill:#808080;fill-opacity:0.8;stroke:#808080;stroke-opacity:0.8;\" x=\"252.941281\" xlink:href=\"#m6b98437766\" y=\"119.42\"/>\r\n     <use style=\"fill:#808080;fill-opacity:0.8;stroke:#808080;stroke-opacity:0.8;\" x=\"327.782562\" xlink:href=\"#m6b98437766\" y=\"119.42\"/>\r\n    </g>\r\n   </g>\r\n   <g id=\"patch_3\">\r\n    <path d=\"M 10.7 228.14 \r\nL 10.7 10.7 \r\n\" style=\"fill:none;stroke:#000000;stroke-linecap:square;stroke-linejoin:miter;stroke-width:0.8;\"/>\r\n   </g>\r\n   <g id=\"patch_4\">\r\n    <path d=\"M 345.5 228.14 \r\nL 345.5 10.7 \r\n\" style=\"fill:none;stroke:#000000;stroke-linecap:square;stroke-linejoin:miter;stroke-width:0.8;\"/>\r\n   </g>\r\n   <g id=\"patch_5\">\r\n    <path d=\"M 10.7 228.14 \r\nL 345.5 228.14 \r\n\" style=\"fill:none;stroke:#000000;stroke-linecap:square;stroke-linejoin:miter;stroke-width:0.8;\"/>\r\n   </g>\r\n   <g id=\"patch_6\">\r\n    <path d=\"M 10.7 10.7 \r\nL 345.5 10.7 \r\n\" style=\"fill:none;stroke:#000000;stroke-linecap:square;stroke-linejoin:miter;stroke-width:0.8;\"/>\r\n   </g>\r\n   <g id=\"text_1\">\r\n    <g clip-path=\"url(#p607f2218a4)\">\r\n     <!-- $A$ -->\r\n     <defs>\r\n      <path d=\"M 36.8125 72.90625 \r\nL 48 72.90625 \r\nL 61.53125 0 \r\nL 51.21875 0 \r\nL 48.1875 18.703125 \r\nL 15.375 18.703125 \r\nL 5.078125 0 \r\nL -5.328125 0 \r\nz\r\nM 40.375 63.1875 \r\nL 19.921875 26.90625 \r\nL 46.6875 26.90625 \r\nz\r\n\" id=\"DejaVuSans-Oblique-65\"/>\r\n     </defs>\r\n     <g transform=\"translate(22.897438 123.835)scale(0.16 -0.16)\">\r\n      <use transform=\"translate(0 0.09375)\" xlink:href=\"#DejaVuSans-Oblique-65\"/>\r\n     </g>\r\n    </g>\r\n   </g>\r\n   <g id=\"text_2\">\r\n    <g clip-path=\"url(#p607f2218a4)\">\r\n     <!-- $B$ -->\r\n     <defs>\r\n      <path d=\"M 16.890625 72.90625 \r\nL 42.09375 72.90625 \r\nQ 52.34375 72.90625 57.421875 69.09375 \r\nQ 62.5 65.28125 62.5 57.625 \r\nQ 62.5 50.59375 58.125 45.484375 \r\nQ 53.765625 40.375 46.6875 39.3125 \r\nQ 52.734375 37.9375 55.765625 34.078125 \r\nQ 58.796875 30.21875 58.796875 23.78125 \r\nQ 58.796875 12.796875 50.65625 6.390625 \r\nQ 42.53125 0 28.421875 0 \r\nL 2.6875 0 \r\nz\r\nM 19.28125 34.8125 \r\nL 14.109375 8.109375 \r\nL 29.984375 8.109375 \r\nQ 38.921875 8.109375 43.75 12.203125 \r\nQ 48.578125 16.3125 48.578125 23.78125 \r\nQ 48.578125 29.546875 45.375 32.171875 \r\nQ 42.1875 34.8125 35.109375 34.8125 \r\nz\r\nM 25.09375 64.796875 \r\nL 20.796875 42.828125 \r\nL 35.5 42.828125 \r\nQ 43.359375 42.828125 47.78125 46.234375 \r\nQ 52.203125 49.65625 52.203125 55.71875 \r\nQ 52.203125 60.453125 49.21875 62.625 \r\nQ 46.234375 64.796875 39.703125 64.796875 \r\nz\r\n\" id=\"DejaVuSans-Oblique-66\"/>\r\n     </defs>\r\n     <g transform=\"translate(97.738719 123.835)scale(0.16 -0.16)\">\r\n      <use transform=\"translate(0 0.09375)\" xlink:href=\"#DejaVuSans-Oblique-66\"/>\r\n     </g>\r\n    </g>\r\n   </g>\r\n   <g id=\"text_3\">\r\n    <g clip-path=\"url(#p607f2218a4)\">\r\n     <!-- $C$ -->\r\n     <defs>\r\n      <path d=\"M 69.484375 67.28125 \r\nL 67.484375 56.890625 \r\nQ 62.796875 61.625 57.546875 63.921875 \r\nQ 52.296875 66.21875 46.1875 66.21875 \r\nQ 37.84375 66.21875 31.515625 62.203125 \r\nQ 25.203125 58.203125 20.609375 50 \r\nQ 17.671875 44.734375 16.125 38.84375 \r\nQ 14.59375 32.953125 14.59375 27 \r\nQ 14.59375 17.046875 19.75 11.8125 \r\nQ 24.90625 6.59375 34.71875 6.59375 \r\nQ 41.5 6.59375 47.75 8.765625 \r\nQ 54 10.9375 59.90625 15.28125 \r\nL 57.625 3.609375 \r\nQ 51.8125 1.125 45.875 -0.140625 \r\nQ 39.9375 -1.421875 33.984375 -1.421875 \r\nQ 19.96875 -1.421875 12.078125 6.1875 \r\nQ 4.203125 13.8125 4.203125 27.390625 \r\nQ 4.203125 36.078125 7.203125 44.46875 \r\nQ 10.203125 52.875 15.828125 59.8125 \r\nQ 21.78125 67.1875 29.421875 70.703125 \r\nQ 37.0625 74.21875 47.21875 74.21875 \r\nQ 53.46875 74.21875 59.0625 72.484375 \r\nQ 64.65625 70.75 69.484375 67.28125 \r\nz\r\n\" id=\"DejaVuSans-Oblique-67\"/>\r\n     </defs>\r\n     <g transform=\"translate(172.5 123.835)scale(0.16 -0.16)\">\r\n      <use transform=\"translate(0 0.78125)\" xlink:href=\"#DejaVuSans-Oblique-67\"/>\r\n     </g>\r\n    </g>\r\n   </g>\r\n   <g id=\"text_4\">\r\n    <g clip-path=\"url(#p607f2218a4)\">\r\n     <!-- $D$ -->\r\n     <defs>\r\n      <path d=\"M 16.890625 72.90625 \r\nL 38.09375 72.90625 \r\nQ 54.984375 72.90625 63.59375 65.75 \r\nQ 72.21875 58.59375 72.21875 44.484375 \r\nQ 72.21875 35.15625 68.9375 26.53125 \r\nQ 65.671875 17.921875 59.90625 12.015625 \r\nQ 54.109375 5.953125 45.171875 2.96875 \r\nQ 36.234375 0 24.03125 0 \r\nL 2.6875 0 \r\nz\r\nM 25.203125 64.796875 \r\nL 14.203125 8.109375 \r\nL 27.09375 8.109375 \r\nQ 43.65625 8.109375 52.734375 17.625 \r\nQ 61.8125 27.15625 61.8125 44.484375 \r\nQ 61.8125 54.984375 55.953125 59.890625 \r\nQ 50.09375 64.796875 37.59375 64.796875 \r\nz\r\n\" id=\"DejaVuSans-Oblique-68\"/>\r\n     </defs>\r\n     <g transform=\"translate(246.701281 123.835)scale(0.16 -0.16)\">\r\n      <use transform=\"translate(0 0.09375)\" xlink:href=\"#DejaVuSans-Oblique-68\"/>\r\n     </g>\r\n    </g>\r\n   </g>\r\n   <g id=\"text_5\">\r\n    <g clip-path=\"url(#p607f2218a4)\">\r\n     <!-- $E$ -->\r\n     <defs>\r\n      <path d=\"M 16.890625 72.90625 \r\nL 62.984375 72.90625 \r\nL 61.375 64.59375 \r\nL 25.09375 64.59375 \r\nL 20.90625 43.015625 \r\nL 55.71875 43.015625 \r\nL 54.109375 34.71875 \r\nL 19.28125 34.71875 \r\nL 14.203125 8.296875 \r\nL 51.3125 8.296875 \r\nL 49.703125 0 \r\nL 2.6875 0 \r\nz\r\n\" id=\"DejaVuSans-Oblique-69\"/>\r\n     </defs>\r\n     <g transform=\"translate(322.662562 123.835)scale(0.16 -0.16)\">\r\n      <use transform=\"translate(0 0.09375)\" xlink:href=\"#DejaVuSans-Oblique-69\"/>\r\n     </g>\r\n    </g>\r\n   </g>\r\n  </g>\r\n </g>\r\n <defs>\r\n  <clipPath id=\"p607f2218a4\">\r\n   <rect height=\"217.44\" width=\"334.8\" x=\"10.7\" y=\"10.7\"/>\r\n  </clipPath>\r\n </defs>\r\n</svg>\r\n",
      "image/png": "[encoded data removed]"
     },
     "metadata": {}
    }
   ],
   "source": [
    "sample.Draw_Networkx_Graph()"
   ]
  },
  {
   "cell_type": "code",
   "execution_count": 6,
   "metadata": {},
   "outputs": [],
   "source": [
    "import networkx as nx\n",
    "from networkx.algorithms import centrality"
   ]
  },
  {
   "cell_type": "code",
   "execution_count": 8,
   "metadata": {},
   "outputs": [
    {
     "output_type": "execute_result",
     "data": {
      "text/plain": "{'A': 0.25, 'B': 0.5, 'C': 0.5, 'D': 0.5, 'E': 0.25}"
     },
     "metadata": {},
     "execution_count": 8
    }
   ],
   "source": [
    "centrality.degree_centrality(sample.G)"
   ]
  },
  {
   "cell_type": "code",
   "execution_count": 15,
   "metadata": {},
   "outputs": [
    {
     "output_type": "execute_result",
     "data": {
      "text/plain": "{'A': 0.25, 'B': 0.5, 'C': 0.5, 'D': 0.5, 'E': 0.25}"
     },
     "metadata": {},
     "execution_count": 15
    }
   ],
   "source": [
    "centrality.degree_alg.degree_centrality(sample.G)\n"
   ]
  },
  {
   "cell_type": "code",
   "execution_count": 18,
   "metadata": {},
   "outputs": [
    {
     "output_type": "execute_result",
     "data": {
      "text/plain": "{'A': 0.0, 'B': 0.5, 'C': 0.6666666666666666, 'D': 0.5, 'E': 0.0}"
     },
     "metadata": {},
     "execution_count": 18
    }
   ],
   "source": [
    "centrality.betweenness_centrality(sample.G)"
   ]
  },
  {
   "cell_type": "code",
   "execution_count": 20,
   "metadata": {},
   "outputs": [
    {
     "output_type": "execute_result",
     "data": {
      "text/plain": "{'A': 0.0, 'B': 3.0, 'C': 4.0, 'D': 3.0, 'E': 0.0}"
     },
     "metadata": {},
     "execution_count": 20
    }
   ],
   "source": [
    "centrality.betweenness_centrality(sample.G, normalized=False)"
   ]
  },
  {
   "cell_type": "code",
   "execution_count": null,
   "metadata": {},
   "outputs": [],
   "source": []
  }
 ],
 "metadata": {
  "language_info": {
   "codemirror_mode": {
    "name": "ipython",
    "version": 3
   },
   "file_extension": ".py",
   "mimetype": "text/x-python",
   "name": "python",
   "nbconvert_exporter": "python",
   "pygments_lexer": "ipython3",
   "version": "3.6.8-final"
  },
  "orig_nbformat": 2,
  "kernelspec": {
   "name": "python36864bit181a16556299482b9f42a2b25c9baf89",
   "display_name": "Python 3.6.8 64-bit"
  }
 },
 "nbformat": 4,
 "nbformat_minor": 2
}