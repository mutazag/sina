{
 "cells": [
  {
   "cell_type": "markdown",
   "metadata": {},
   "source": [
    "For a give set of edges: \n",
    "- load edges file\n",
    "- construct network\n",
    "- do a bunch of excercises and calculations: \n",
    "    - cliques \n",
    "\n"
   ]
  },
  {
   "cell_type": "code",
   "execution_count": 170,
   "metadata": {},
   "outputs": [],
   "source": [
    "import pandas as pd\n",
    "import networkx as nx\n",
    "from networkx import centrality\n",
    "from networkx.algorithms import clique\n",
    "from networkx.algorithms import core\n",
    "from networkx.algorithms import traversal"
   ]
  },
  {
   "cell_type": "code",
   "execution_count": 171,
   "metadata": {},
   "outputs": [],
   "source": [
    "# filename  = 'edges/example1.txt'\n",
    "filename = 'edges/week5_kcore.txt'\n",
    "# filename = 'edges/at2_q1.txt'\n",
    "\n",
    "df_edges = pd.read_csv(filename, sep=':', header=None, names=['from', 'to_list'])\n",
    "df_edges['to_list_split'] = df_edges.to_list.str.strip().str.split(',')\n",
    "df_edges = df_edges.explode('to_list_split')\n",
    "df_edges['from'] = df_edges['from'].astype(str)\n",
    "# keep hold of nodes with no edges \n",
    "add_nodes = df_edges['from'][df_edges.to_list_split.isna()]\n",
    "# drop incomplete edges \n",
    "df_edges.drop(list(add_nodes.index), inplace=True)\n",
    "# list(df_edges[['from','to_list_split']].itertuples(index=False))\n",
    "# [tuple(e) for i,e in df_edges[['from','to_list_split']].iterrows()]\n",
    "# list(zip(df_edges['from'], df_edges['to_list_split']))\n",
    "edges = [tuple(e) for e in df_edges[['from','to_list_split']].to_records(index=False)]"
   ]
  },
  {
   "cell_type": "code",
   "execution_count": 172,
   "metadata": {},
   "outputs": [
    {
     "output_type": "execute_result",
     "data": {
      "text/plain": "{'A', 'B', 'C', 'D', 'E', 'F', 'G', 'H', 'I'}"
     },
     "metadata": {},
     "execution_count": 172
    }
   ],
   "source": [
    "set(df_edges['to_list_split'].astype(df_edges['from'].dtype))"
   ]
  },
  {
   "cell_type": "code",
   "execution_count": 173,
   "metadata": {},
   "outputs": [
    {
     "output_type": "display_data",
     "data": {
      "text/plain": "<Figure size 432x288 with 1 Axes>",
      "image/svg+xml": "<?xml version=\"1.0\" encoding=\"utf-8\" standalone=\"no\"?>\r\n<!DOCTYPE svg PUBLIC \"-//W3C//DTD SVG 1.1//EN\"\r\n  \"http://www.w3.org/Graphics/SVG/1.1/DTD/svg11.dtd\">\r\n<!-- Created with matplotlib (https://matplotlib.org/) -->\r\n<svg height=\"231.84pt\" version=\"1.1\" viewBox=\"0 0 349.2 231.84\" width=\"349.2pt\" xmlns=\"http://www.w3.org/2000/svg\" xmlns:xlink=\"http://www.w3.org/1999/xlink\">\r\n <defs>\r\n  <style type=\"text/css\">\r\n*{stroke-linecap:butt;stroke-linejoin:round;}\r\n  </style>\r\n </defs>\r\n <g id=\"figure_1\">\r\n  <g id=\"patch_1\">\r\n   <path d=\"M 0 231.84 \r\nL 349.2 231.84 \r\nL 349.2 0 \r\nL 0 0 \r\nz\r\n\" style=\"fill:none;\"/>\r\n  </g>\r\n  <g id=\"axes_1\">\r\n   <g id=\"patch_2\">\r\n    <path d=\"M 7.2 224.64 \r\nL 342 224.64 \r\nL 342 7.2 \r\nL 7.2 7.2 \r\nz\r\n\" style=\"fill:#ffffff;\"/>\r\n   </g>\r\n   <g id=\"LineCollection_1\">\r\n    <path clip-path=\"url(#p3cf547b2f4)\" d=\"M 80.408377 33.389039 \r\nL 22.418182 17.083636 \r\n\" style=\"fill:none;stroke:#000000;\"/>\r\n    <path clip-path=\"url(#p3cf547b2f4)\" d=\"M 80.408377 33.389039 \r\nL 123.374786 55.260833 \r\n\" style=\"fill:none;stroke:#000000;\"/>\r\n    <path clip-path=\"url(#p3cf547b2f4)\" d=\"M 80.408377 33.389039 \r\nL 147.838577 43.494525 \r\n\" style=\"fill:none;stroke:#000000;\"/>\r\n    <path clip-path=\"url(#p3cf547b2f4)\" d=\"M 123.374786 55.260833 \r\nL 147.838577 43.494525 \r\n\" style=\"fill:none;stroke:#000000;\"/>\r\n    <path clip-path=\"url(#p3cf547b2f4)\" d=\"M 123.374786 55.260833 \r\nL 192.536651 59.078356 \r\n\" style=\"fill:none;stroke:#000000;\"/>\r\n    <path clip-path=\"url(#p3cf547b2f4)\" d=\"M 123.374786 55.260833 \r\nL 147.95927 71.988162 \r\n\" style=\"fill:none;stroke:#000000;\"/>\r\n    <path clip-path=\"url(#p3cf547b2f4)\" d=\"M 123.374786 55.260833 \r\nL 166.652772 57.003933 \r\n\" style=\"fill:none;stroke:#000000;\"/>\r\n    <path clip-path=\"url(#p3cf547b2f4)\" d=\"M 147.838577 43.494525 \r\nL 147.95927 71.988162 \r\n\" style=\"fill:none;stroke:#000000;\"/>\r\n    <path clip-path=\"url(#p3cf547b2f4)\" d=\"M 147.838577 43.494525 \r\nL 166.652772 57.003933 \r\n\" style=\"fill:none;stroke:#000000;\"/>\r\n    <path clip-path=\"url(#p3cf547b2f4)\" d=\"M 147.838577 43.494525 \r\nL 192.536651 59.078356 \r\n\" style=\"fill:none;stroke:#000000;\"/>\r\n    <path clip-path=\"url(#p3cf547b2f4)\" d=\"M 147.838577 43.494525 \r\nL 209.657616 42.053649 \r\n\" style=\"fill:none;stroke:#000000;\"/>\r\n    <path clip-path=\"url(#p3cf547b2f4)\" d=\"M 147.95927 71.988162 \r\nL 192.536651 59.078356 \r\n\" style=\"fill:none;stroke:#000000;\"/>\r\n    <path clip-path=\"url(#p3cf547b2f4)\" d=\"M 147.95927 71.988162 \r\nL 166.652772 57.003933 \r\n\" style=\"fill:none;stroke:#000000;\"/>\r\n    <path clip-path=\"url(#p3cf547b2f4)\" d=\"M 166.652772 57.003933 \r\nL 209.657616 42.053649 \r\n\" style=\"fill:none;stroke:#000000;\"/>\r\n    <path clip-path=\"url(#p3cf547b2f4)\" d=\"M 166.652772 57.003933 \r\nL 192.536651 59.078356 \r\n\" style=\"fill:none;stroke:#000000;\"/>\r\n    <path clip-path=\"url(#p3cf547b2f4)\" d=\"M 192.536651 59.078356 \r\nL 209.657616 42.053649 \r\n\" style=\"fill:none;stroke:#000000;\"/>\r\n    <path clip-path=\"url(#p3cf547b2f4)\" d=\"M 192.536651 59.078356 \r\nL 255.050972 52.407054 \r\n\" style=\"fill:none;stroke:#000000;\"/>\r\n    <path clip-path=\"url(#p3cf547b2f4)\" d=\"M 209.657616 42.053649 \r\nL 255.050972 52.407054 \r\n\" style=\"fill:none;stroke:#000000;\"/>\r\n   </g>\r\n   <g id=\"matplotlib.axis_1\">\r\n    <g id=\"xtick_1\"/>\r\n    <g id=\"xtick_2\"/>\r\n    <g id=\"xtick_3\"/>\r\n    <g id=\"xtick_4\"/>\r\n    <g id=\"xtick_5\"/>\r\n   </g>\r\n   <g id=\"matplotlib.axis_2\">\r\n    <g id=\"ytick_1\"/>\r\n    <g id=\"ytick_2\"/>\r\n    <g id=\"ytick_3\"/>\r\n    <g id=\"ytick_4\"/>\r\n    <g id=\"ytick_5\"/>\r\n    <g id=\"ytick_6\"/>\r\n    <g id=\"ytick_7\"/>\r\n   </g>\r\n   <g id=\"PathCollection_1\">\r\n    <defs>\r\n     <path d=\"M 0 11.18034 \r\nC 2.965061 11.18034 5.80908 10.002309 7.905694 7.905694 \r\nC 10.002309 5.80908 11.18034 2.965061 11.18034 0 \r\nC 11.18034 -2.965061 10.002309 -5.80908 7.905694 -7.905694 \r\nC 5.80908 -10.002309 2.965061 -11.18034 0 -11.18034 \r\nC -2.965061 -11.18034 -5.80908 -10.002309 -7.905694 -7.905694 \r\nC -10.002309 -5.80908 -11.18034 -2.965061 -11.18034 0 \r\nC -11.18034 2.965061 -10.002309 5.80908 -7.905694 7.905694 \r\nC -5.80908 10.002309 -2.965061 11.18034 0 11.18034 \r\nz\r\n\" id=\"m35fc9ef1f4\" style=\"stroke:#808080;\"/>\r\n    </defs>\r\n    <g clip-path=\"url(#p3cf547b2f4)\">\r\n     <use style=\"fill:#808080;stroke:#808080;\" x=\"80.408377\" xlink:href=\"#m35fc9ef1f4\" y=\"33.389039\"/>\r\n     <use style=\"fill:#808080;stroke:#808080;\" x=\"22.418182\" xlink:href=\"#m35fc9ef1f4\" y=\"17.083636\"/>\r\n     <use style=\"fill:#808080;stroke:#808080;\" x=\"123.374786\" xlink:href=\"#m35fc9ef1f4\" y=\"55.260833\"/>\r\n     <use style=\"fill:#808080;stroke:#808080;\" x=\"147.838577\" xlink:href=\"#m35fc9ef1f4\" y=\"43.494525\"/>\r\n     <use style=\"fill:#808080;stroke:#808080;\" x=\"147.95927\" xlink:href=\"#m35fc9ef1f4\" y=\"71.988162\"/>\r\n     <use style=\"fill:#808080;stroke:#808080;\" x=\"166.652772\" xlink:href=\"#m35fc9ef1f4\" y=\"57.003933\"/>\r\n     <use style=\"fill:#808080;stroke:#808080;\" x=\"192.536651\" xlink:href=\"#m35fc9ef1f4\" y=\"59.078356\"/>\r\n     <use style=\"fill:#808080;stroke:#808080;\" x=\"209.657616\" xlink:href=\"#m35fc9ef1f4\" y=\"42.053649\"/>\r\n     <use style=\"fill:#808080;stroke:#808080;\" x=\"255.050972\" xlink:href=\"#m35fc9ef1f4\" y=\"52.407054\"/>\r\n     <use style=\"fill:#808080;stroke:#808080;\" x=\"326.781818\" xlink:href=\"#m35fc9ef1f4\" y=\"214.756364\"/>\r\n    </g>\r\n   </g>\r\n   <g id=\"patch_3\">\r\n    <path d=\"M 7.2 224.64 \r\nL 7.2 7.2 \r\n\" style=\"fill:none;stroke:#000000;stroke-linecap:square;stroke-linejoin:miter;stroke-width:0.8;\"/>\r\n   </g>\r\n   <g id=\"patch_4\">\r\n    <path d=\"M 342 224.64 \r\nL 342 7.2 \r\n\" style=\"fill:none;stroke:#000000;stroke-linecap:square;stroke-linejoin:miter;stroke-width:0.8;\"/>\r\n   </g>\r\n   <g id=\"patch_5\">\r\n    <path d=\"M 7.2 224.64 \r\nL 342 224.64 \r\n\" style=\"fill:none;stroke:#000000;stroke-linecap:square;stroke-linejoin:miter;stroke-width:0.8;\"/>\r\n   </g>\r\n   <g id=\"patch_6\">\r\n    <path d=\"M 7.2 7.2 \r\nL 342 7.2 \r\n\" style=\"fill:none;stroke:#000000;stroke-linecap:square;stroke-linejoin:miter;stroke-width:0.8;\"/>\r\n   </g>\r\n   <g id=\"text_1\">\r\n    <g clip-path=\"url(#p3cf547b2f4)\">\r\n     <!-- A -->\r\n     <defs>\r\n      <path d=\"M 34.1875 63.1875 \r\nL 20.796875 26.90625 \r\nL 47.609375 26.90625 \r\nz\r\nM 28.609375 72.90625 \r\nL 39.796875 72.90625 \r\nL 67.578125 0 \r\nL 57.328125 0 \r\nL 50.6875 18.703125 \r\nL 17.828125 18.703125 \r\nL 11.1875 0 \r\nL 0.78125 0 \r\nz\r\n\" id=\"DejaVuSans-65\"/>\r\n     </defs>\r\n     <g transform=\"translate(76.304002 36.700289)scale(0.12 -0.12)\">\r\n      <use xlink:href=\"#DejaVuSans-65\"/>\r\n     </g>\r\n    </g>\r\n   </g>\r\n   <g id=\"text_2\">\r\n    <g clip-path=\"url(#p3cf547b2f4)\">\r\n     <!-- F -->\r\n     <defs>\r\n      <path d=\"M 9.8125 72.90625 \r\nL 51.703125 72.90625 \r\nL 51.703125 64.59375 \r\nL 19.671875 64.59375 \r\nL 19.671875 43.109375 \r\nL 48.578125 43.109375 \r\nL 48.578125 34.8125 \r\nL 19.671875 34.8125 \r\nL 19.671875 0 \r\nL 9.8125 0 \r\nz\r\n\" id=\"DejaVuSans-70\"/>\r\n     </defs>\r\n     <g transform=\"translate(18.967244 20.394886)scale(0.12 -0.12)\">\r\n      <use xlink:href=\"#DejaVuSans-70\"/>\r\n     </g>\r\n    </g>\r\n   </g>\r\n   <g id=\"text_3\">\r\n    <g clip-path=\"url(#p3cf547b2f4)\">\r\n     <!-- C -->\r\n     <defs>\r\n      <path d=\"M 64.40625 67.28125 \r\nL 64.40625 56.890625 \r\nQ 59.421875 61.53125 53.78125 63.8125 \r\nQ 48.140625 66.109375 41.796875 66.109375 \r\nQ 29.296875 66.109375 22.65625 58.46875 \r\nQ 16.015625 50.828125 16.015625 36.375 \r\nQ 16.015625 21.96875 22.65625 14.328125 \r\nQ 29.296875 6.6875 41.796875 6.6875 \r\nQ 48.140625 6.6875 53.78125 8.984375 \r\nQ 59.421875 11.28125 64.40625 15.921875 \r\nL 64.40625 5.609375 \r\nQ 59.234375 2.09375 53.4375 0.328125 \r\nQ 47.65625 -1.421875 41.21875 -1.421875 \r\nQ 24.65625 -1.421875 15.125 8.703125 \r\nQ 5.609375 18.84375 5.609375 36.375 \r\nQ 5.609375 53.953125 15.125 64.078125 \r\nQ 24.65625 74.21875 41.21875 74.21875 \r\nQ 47.75 74.21875 53.53125 72.484375 \r\nQ 59.328125 70.75 64.40625 67.28125 \r\nz\r\n\" id=\"DejaVuSans-67\"/>\r\n     </defs>\r\n     <g transform=\"translate(119.185098 58.572083)scale(0.12 -0.12)\">\r\n      <use xlink:href=\"#DejaVuSans-67\"/>\r\n     </g>\r\n    </g>\r\n   </g>\r\n   <g id=\"text_4\">\r\n    <g clip-path=\"url(#p3cf547b2f4)\">\r\n     <!-- B -->\r\n     <defs>\r\n      <path d=\"M 19.671875 34.8125 \r\nL 19.671875 8.109375 \r\nL 35.5 8.109375 \r\nQ 43.453125 8.109375 47.28125 11.40625 \r\nQ 51.125 14.703125 51.125 21.484375 \r\nQ 51.125 28.328125 47.28125 31.5625 \r\nQ 43.453125 34.8125 35.5 34.8125 \r\nz\r\nM 19.671875 64.796875 \r\nL 19.671875 42.828125 \r\nL 34.28125 42.828125 \r\nQ 41.5 42.828125 45.03125 45.53125 \r\nQ 48.578125 48.25 48.578125 53.8125 \r\nQ 48.578125 59.328125 45.03125 62.0625 \r\nQ 41.5 64.796875 34.28125 64.796875 \r\nz\r\nM 9.8125 72.90625 \r\nL 35.015625 72.90625 \r\nQ 46.296875 72.90625 52.390625 68.21875 \r\nQ 58.5 63.53125 58.5 54.890625 \r\nQ 58.5 48.1875 55.375 44.234375 \r\nQ 52.25 40.28125 46.1875 39.3125 \r\nQ 53.46875 37.75 57.5 32.78125 \r\nQ 61.53125 27.828125 61.53125 20.40625 \r\nQ 61.53125 10.640625 54.890625 5.3125 \r\nQ 48.25 0 35.984375 0 \r\nL 9.8125 0 \r\nz\r\n\" id=\"DejaVuSans-66\"/>\r\n     </defs>\r\n     <g transform=\"translate(143.722014 46.805775)scale(0.12 -0.12)\">\r\n      <use xlink:href=\"#DejaVuSans-66\"/>\r\n     </g>\r\n    </g>\r\n   </g>\r\n   <g id=\"text_5\">\r\n    <g clip-path=\"url(#p3cf547b2f4)\">\r\n     <!-- G -->\r\n     <defs>\r\n      <path d=\"M 59.515625 10.40625 \r\nL 59.515625 29.984375 \r\nL 43.40625 29.984375 \r\nL 43.40625 38.09375 \r\nL 69.28125 38.09375 \r\nL 69.28125 6.78125 \r\nQ 63.578125 2.734375 56.6875 0.65625 \r\nQ 49.8125 -1.421875 42 -1.421875 \r\nQ 24.90625 -1.421875 15.25 8.5625 \r\nQ 5.609375 18.5625 5.609375 36.375 \r\nQ 5.609375 54.25 15.25 64.234375 \r\nQ 24.90625 74.21875 42 74.21875 \r\nQ 49.125 74.21875 55.546875 72.453125 \r\nQ 61.96875 70.703125 67.390625 67.28125 \r\nL 67.390625 56.78125 \r\nQ 61.921875 61.421875 55.765625 63.765625 \r\nQ 49.609375 66.109375 42.828125 66.109375 \r\nQ 29.4375 66.109375 22.71875 58.640625 \r\nQ 16.015625 51.171875 16.015625 36.375 \r\nQ 16.015625 21.625 22.71875 14.15625 \r\nQ 29.4375 6.6875 42.828125 6.6875 \r\nQ 48.046875 6.6875 52.140625 7.59375 \r\nQ 56.25 8.5 59.515625 10.40625 \r\nz\r\n\" id=\"DejaVuSans-71\"/>\r\n     </defs>\r\n     <g transform=\"translate(143.310208 75.299412)scale(0.12 -0.12)\">\r\n      <use xlink:href=\"#DejaVuSans-71\"/>\r\n     </g>\r\n    </g>\r\n   </g>\r\n   <g id=\"text_6\">\r\n    <g clip-path=\"url(#p3cf547b2f4)\">\r\n     <!-- D -->\r\n     <defs>\r\n      <path d=\"M 19.671875 64.796875 \r\nL 19.671875 8.109375 \r\nL 31.59375 8.109375 \r\nQ 46.6875 8.109375 53.6875 14.9375 \r\nQ 60.6875 21.78125 60.6875 36.53125 \r\nQ 60.6875 51.171875 53.6875 57.984375 \r\nQ 46.6875 64.796875 31.59375 64.796875 \r\nz\r\nM 9.8125 72.90625 \r\nL 30.078125 72.90625 \r\nQ 51.265625 72.90625 61.171875 64.09375 \r\nQ 71.09375 55.28125 71.09375 36.53125 \r\nQ 71.09375 17.671875 61.125 8.828125 \r\nQ 51.171875 0 30.078125 0 \r\nL 9.8125 0 \r\nz\r\n\" id=\"DejaVuSans-68\"/>\r\n     </defs>\r\n     <g transform=\"translate(162.032772 60.315183)scale(0.12 -0.12)\">\r\n      <use xlink:href=\"#DejaVuSans-68\"/>\r\n     </g>\r\n    </g>\r\n   </g>\r\n   <g id=\"text_7\">\r\n    <g clip-path=\"url(#p3cf547b2f4)\">\r\n     <!-- H -->\r\n     <defs>\r\n      <path d=\"M 9.8125 72.90625 \r\nL 19.671875 72.90625 \r\nL 19.671875 43.015625 \r\nL 55.515625 43.015625 \r\nL 55.515625 72.90625 \r\nL 65.375 72.90625 \r\nL 65.375 0 \r\nL 55.515625 0 \r\nL 55.515625 34.71875 \r\nL 19.671875 34.71875 \r\nL 19.671875 0 \r\nL 9.8125 0 \r\nz\r\n\" id=\"DejaVuSans-72\"/>\r\n     </defs>\r\n     <g transform=\"translate(188.024463 62.389606)scale(0.12 -0.12)\">\r\n      <use xlink:href=\"#DejaVuSans-72\"/>\r\n     </g>\r\n    </g>\r\n   </g>\r\n   <g id=\"text_8\">\r\n    <g clip-path=\"url(#p3cf547b2f4)\">\r\n     <!-- E -->\r\n     <defs>\r\n      <path d=\"M 9.8125 72.90625 \r\nL 55.90625 72.90625 \r\nL 55.90625 64.59375 \r\nL 19.671875 64.59375 \r\nL 19.671875 43.015625 \r\nL 54.390625 43.015625 \r\nL 54.390625 34.71875 \r\nL 19.671875 34.71875 \r\nL 19.671875 8.296875 \r\nL 56.78125 8.296875 \r\nL 56.78125 0 \r\nL 9.8125 0 \r\nz\r\n\" id=\"DejaVuSans-69\"/>\r\n     </defs>\r\n     <g transform=\"translate(205.866366 45.364899)scale(0.12 -0.12)\">\r\n      <use xlink:href=\"#DejaVuSans-69\"/>\r\n     </g>\r\n    </g>\r\n   </g>\r\n   <g id=\"text_9\">\r\n    <g clip-path=\"url(#p3cf547b2f4)\">\r\n     <!-- I -->\r\n     <defs>\r\n      <path d=\"M 9.8125 72.90625 \r\nL 19.671875 72.90625 \r\nL 19.671875 0 \r\nL 9.8125 0 \r\nz\r\n\" id=\"DejaVuSans-73\"/>\r\n     </defs>\r\n     <g transform=\"translate(253.280972 55.718304)scale(0.12 -0.12)\">\r\n      <use xlink:href=\"#DejaVuSans-73\"/>\r\n     </g>\r\n    </g>\r\n   </g>\r\n   <g id=\"text_10\">\r\n    <g clip-path=\"url(#p3cf547b2f4)\">\r\n     <!-- K -->\r\n     <defs>\r\n      <path d=\"M 9.8125 72.90625 \r\nL 19.671875 72.90625 \r\nL 19.671875 42.09375 \r\nL 52.390625 72.90625 \r\nL 65.09375 72.90625 \r\nL 28.90625 38.921875 \r\nL 67.671875 0 \r\nL 54.6875 0 \r\nL 19.671875 35.109375 \r\nL 19.671875 0 \r\nL 9.8125 0 \r\nz\r\n\" id=\"DejaVuSans-75\"/>\r\n     </defs>\r\n     <g transform=\"translate(322.847131 218.067614)scale(0.12 -0.12)\">\r\n      <use xlink:href=\"#DejaVuSans-75\"/>\r\n     </g>\r\n    </g>\r\n   </g>\r\n  </g>\r\n </g>\r\n <defs>\r\n  <clipPath id=\"p3cf547b2f4\">\r\n   <rect height=\"217.44\" width=\"334.8\" x=\"7.2\" y=\"7.2\"/>\r\n  </clipPath>\r\n </defs>\r\n</svg>\r\n",
      "image/png": "[encoded data removed]"
     },
     "metadata": {}
    }
   ],
   "source": [
    "G = nx.Graph()\n",
    "G.add_edges_from(edges)\n",
    "G.add_nodes_from(add_nodes)\n",
    "\n",
    "pos = nx.layout.spring_layout(G)\n",
    "nx.draw_networkx(G, pos=pos, node_size=500, node_color='grey')"
   ]
  },
  {
   "cell_type": "code",
   "execution_count": 174,
   "metadata": {},
   "outputs": [
    {
     "output_type": "stream",
     "name": "stdout",
     "text": "Name: \nType: Graph\nNumber of nodes: 10\nNumber of edges: 18\nAverage degree:   3.6000\n"
    }
   ],
   "source": [
    "print(nx.info(G))"
   ]
  },
  {
   "cell_type": "code",
   "execution_count": 175,
   "metadata": {},
   "outputs": [],
   "source": [
    "def get_df(measure, column_name):\n",
    "    return pd.DataFrame(dict(measure).items(), columns=['node', column_name])\n",
    "\n",
    "def add_measure(df, measure,column_name): \n",
    "    temp = df.join(get_df(measure,column_name),lsuffix='',rsuffix='_r')\n",
    "    return temp.drop(columns=temp.columns[temp.columns.str.endswith('_r')])"
   ]
  },
  {
   "cell_type": "code",
   "execution_count": 176,
   "metadata": {},
   "outputs": [
    {
     "output_type": "execute_result",
     "data": {
      "text/plain": "  node\n0    A\n1    F\n2    C\n3    B\n4    G\n5    D\n6    H\n7    E\n8    I\n9    K",
      "text/html": "<div>\n<style scoped>\n    .dataframe tbody tr th:only-of-type {\n        vertical-align: middle;\n    }\n\n    .dataframe tbody tr th {\n        vertical-align: top;\n    }\n\n    .dataframe thead th {\n        text-align: right;\n    }\n</style>\n<table border=\"1\" class=\"dataframe\">\n  <thead>\n    <tr style=\"text-align: right;\">\n      <th></th>\n      <th>node</th>\n    </tr>\n  </thead>\n  <tbody>\n    <tr>\n      <th>0</th>\n      <td>A</td>\n    </tr>\n    <tr>\n      <th>1</th>\n      <td>F</td>\n    </tr>\n    <tr>\n      <th>2</th>\n      <td>C</td>\n    </tr>\n    <tr>\n      <th>3</th>\n      <td>B</td>\n    </tr>\n    <tr>\n      <th>4</th>\n      <td>G</td>\n    </tr>\n    <tr>\n      <th>5</th>\n      <td>D</td>\n    </tr>\n    <tr>\n      <th>6</th>\n      <td>H</td>\n    </tr>\n    <tr>\n      <th>7</th>\n      <td>E</td>\n    </tr>\n    <tr>\n      <th>8</th>\n      <td>I</td>\n    </tr>\n    <tr>\n      <th>9</th>\n      <td>K</td>\n    </tr>\n  </tbody>\n</table>\n</div>"
     },
     "metadata": {},
     "execution_count": 176
    }
   ],
   "source": [
    "df_measures = pd.DataFrame(list(G.nodes()), columns=['node'])\n",
    "df_measures"
   ]
  },
  {
   "cell_type": "markdown",
   "metadata": {},
   "source": [
    "# add measures \n",
    "\n",
    "* clustering coefficient \n",
    "* degree\n",
    "* degree centrality \n",
    "* closenness cenrality \n",
    "* betweenness cenrality "
   ]
  },
  {
   "cell_type": "code",
   "execution_count": 177,
   "metadata": {},
   "outputs": [],
   "source": [
    "df_measures = add_measure(df_measures, nx.clustering(G), 'clustring')\n",
    "df_measures = add_measure(df_measures, nx.degree(G), 'degree')\n",
    "df_measures = add_measure(df_measures, centrality.degree_centrality(G), 'degree_centrality')\n",
    "df_measures = add_measure(df_measures, centrality.closeness_centrality(G), 'closeness_centrality')\n",
    "df_measures['closeness_inv'] = 1/df_measures['closeness_centrality']\n",
    "df_measures = add_measure(df_measures, centrality.betweenness_centrality(G, normalized=False), 'betweenness')\n",
    "df_measures = add_measure(df_measures, centrality.betweenness_centrality(G, normalized=True), 'betweenness_centrality')\n",
    "df_measures = add_measure(df_measures, core.core_number(G), 'core')\n"
   ]
  },
  {
   "cell_type": "code",
   "execution_count": 178,
   "metadata": {},
   "outputs": [
    {
     "output_type": "execute_result",
     "data": {
      "text/plain": "  node  clustring  degree  degree_centrality  closeness_centrality  \\\n0    A   0.333333       3           0.333333              0.507937   \n1    F   0.000000       1           0.111111              0.338624   \n2    C   0.700000       5           0.555556              0.646465   \n3    B   0.600000       6           0.666667              0.711111   \n4    G   1.000000       4           0.444444              0.547009   \n5    D   0.800000       5           0.555556              0.592593   \n6    H   0.600000       6           0.666667              0.646465   \n7    E   0.666667       4           0.444444              0.547009   \n8    I   1.000000       2           0.222222              0.418301   \n9    K   0.000000       0           0.000000              0.000000   \n\n   closeness_inv  betweenness  betweenness_centrality  core  \n0       1.968750     7.000000                0.194444     2  \n1       2.953125     0.000000                0.000000     1  \n2       1.546875     3.666667                0.101852     4  \n3       1.406250     7.000000                0.194444     4  \n4       1.828125     0.000000                0.000000     4  \n5       1.687500     0.666667                0.018519     4  \n6       1.546875     5.000000                0.138889     4  \n7       1.828125     1.666667                0.046296     3  \n8       2.390625     0.000000                0.000000     2  \n9            inf     0.000000                0.000000     0  ",
      "text/html": "<div>\n<style scoped>\n    .dataframe tbody tr th:only-of-type {\n        vertical-align: middle;\n    }\n\n    .dataframe tbody tr th {\n        vertical-align: top;\n    }\n\n    .dataframe thead th {\n        text-align: right;\n    }\n</style>\n<table border=\"1\" class=\"dataframe\">\n  <thead>\n    <tr style=\"text-align: right;\">\n      <th></th>\n      <th>node</th>\n      <th>clustring</th>\n      <th>degree</th>\n      <th>degree_centrality</th>\n      <th>closeness_centrality</th>\n      <th>closeness_inv</th>\n      <th>betweenness</th>\n      <th>betweenness_centrality</th>\n      <th>core</th>\n    </tr>\n  </thead>\n  <tbody>\n    <tr>\n      <th>0</th>\n      <td>A</td>\n      <td>0.333333</td>\n      <td>3</td>\n      <td>0.333333</td>\n      <td>0.507937</td>\n      <td>1.968750</td>\n      <td>7.000000</td>\n      <td>0.194444</td>\n      <td>2</td>\n    </tr>\n    <tr>\n      <th>1</th>\n      <td>F</td>\n      <td>0.000000</td>\n      <td>1</td>\n      <td>0.111111</td>\n      <td>0.338624</td>\n      <td>2.953125</td>\n      <td>0.000000</td>\n      <td>0.000000</td>\n      <td>1</td>\n    </tr>\n    <tr>\n      <th>2</th>\n      <td>C</td>\n      <td>0.700000</td>\n      <td>5</td>\n      <td>0.555556</td>\n      <td>0.646465</td>\n      <td>1.546875</td>\n      <td>3.666667</td>\n      <td>0.101852</td>\n      <td>4</td>\n    </tr>\n    <tr>\n      <th>3</th>\n      <td>B</td>\n      <td>0.600000</td>\n      <td>6</td>\n      <td>0.666667</td>\n      <td>0.711111</td>\n      <td>1.406250</td>\n      <td>7.000000</td>\n      <td>0.194444</td>\n      <td>4</td>\n    </tr>\n    <tr>\n      <th>4</th>\n      <td>G</td>\n      <td>1.000000</td>\n      <td>4</td>\n      <td>0.444444</td>\n      <td>0.547009</td>\n      <td>1.828125</td>\n      <td>0.000000</td>\n      <td>0.000000</td>\n      <td>4</td>\n    </tr>\n    <tr>\n      <th>5</th>\n      <td>D</td>\n      <td>0.800000</td>\n      <td>5</td>\n      <td>0.555556</td>\n      <td>0.592593</td>\n      <td>1.687500</td>\n      <td>0.666667</td>\n      <td>0.018519</td>\n      <td>4</td>\n    </tr>\n    <tr>\n      <th>6</th>\n      <td>H</td>\n      <td>0.600000</td>\n      <td>6</td>\n      <td>0.666667</td>\n      <td>0.646465</td>\n      <td>1.546875</td>\n      <td>5.000000</td>\n      <td>0.138889</td>\n      <td>4</td>\n    </tr>\n    <tr>\n      <th>7</th>\n      <td>E</td>\n      <td>0.666667</td>\n      <td>4</td>\n      <td>0.444444</td>\n      <td>0.547009</td>\n      <td>1.828125</td>\n      <td>1.666667</td>\n      <td>0.046296</td>\n      <td>3</td>\n    </tr>\n    <tr>\n      <th>8</th>\n      <td>I</td>\n      <td>1.000000</td>\n      <td>2</td>\n      <td>0.222222</td>\n      <td>0.418301</td>\n      <td>2.390625</td>\n      <td>0.000000</td>\n      <td>0.000000</td>\n      <td>2</td>\n    </tr>\n    <tr>\n      <th>9</th>\n      <td>K</td>\n      <td>0.000000</td>\n      <td>0</td>\n      <td>0.000000</td>\n      <td>0.000000</td>\n      <td>inf</td>\n      <td>0.000000</td>\n      <td>0.000000</td>\n      <td>0</td>\n    </tr>\n  </tbody>\n</table>\n</div>"
     },
     "metadata": {},
     "execution_count": 178
    }
   ],
   "source": [
    "add_measure(df_measures, centrality.closeness_centrality(G), 'closeness_centrality')"
   ]
  },
  {
   "cell_type": "markdown",
   "metadata": {},
   "source": [
    "The core number of a node is the largest value k of a k-core containing that node."
   ]
  },
  {
   "cell_type": "markdown",
   "metadata": {},
   "source": [
    "# find all cliques and maximal cliques "
   ]
  },
  {
   "cell_type": "code",
   "execution_count": 179,
   "metadata": {},
   "outputs": [
    {
     "output_type": "stream",
     "name": "stdout",
     "text": "maximal cliques\n['EHI', 'K', 'ABC', 'BDEH', 'BCDGH', 'AF']\n"
    }
   ],
   "source": [
    "\n",
    "maximal_cliques = [''.join(sorted(c)) for c in clique.find_cliques(G)]\n",
    "print('maximal cliques')\n",
    "print(maximal_cliques)"
   ]
  },
  {
   "cell_type": "code",
   "execution_count": 180,
   "metadata": {},
   "outputs": [
    {
     "output_type": "execute_result",
     "data": {
      "text/plain": "    clique_size      clique_list clique  maximal_clique\n0             3        [A, B, C]    ABC            True\n14            3        [E, H, I]    EHI            True\n20            4     [B, D, E, H]   BDEH            True\n21            5  [B, C, D, G, H]  BCDGH            True",
      "text/html": "<div>\n<style scoped>\n    .dataframe tbody tr th:only-of-type {\n        vertical-align: middle;\n    }\n\n    .dataframe tbody tr th {\n        vertical-align: top;\n    }\n\n    .dataframe thead th {\n        text-align: right;\n    }\n</style>\n<table border=\"1\" class=\"dataframe\">\n  <thead>\n    <tr style=\"text-align: right;\">\n      <th></th>\n      <th>clique_size</th>\n      <th>clique_list</th>\n      <th>clique</th>\n      <th>maximal_clique</th>\n    </tr>\n  </thead>\n  <tbody>\n    <tr>\n      <th>0</th>\n      <td>3</td>\n      <td>[A, B, C]</td>\n      <td>ABC</td>\n      <td>True</td>\n    </tr>\n    <tr>\n      <th>14</th>\n      <td>3</td>\n      <td>[E, H, I]</td>\n      <td>EHI</td>\n      <td>True</td>\n    </tr>\n    <tr>\n      <th>20</th>\n      <td>4</td>\n      <td>[B, D, E, H]</td>\n      <td>BDEH</td>\n      <td>True</td>\n    </tr>\n    <tr>\n      <th>21</th>\n      <td>5</td>\n      <td>[B, C, D, G, H]</td>\n      <td>BCDGH</td>\n      <td>True</td>\n    </tr>\n  </tbody>\n</table>\n</div>"
     },
     "metadata": {},
     "execution_count": 180
    }
   ],
   "source": [
    "df_cliques = pd.DataFrame([(len(c), sorted(c), ''.join(sorted(c))) for c in clique.enumerate_all_cliques(G) if len(c) > 2], columns=['clique_size', 'clique_list', 'clique'])\n",
    "df_cliques['maximal_clique'] = df_cliques.clique.isin(maximal_cliques)\n",
    "df_cliques.query( \"maximal_clique == True\")"
   ]
  },
  {
   "cell_type": "code",
   "execution_count": 181,
   "metadata": {},
   "outputs": [
    {
     "output_type": "execute_result",
     "data": {
      "text/plain": "    clique_size clique_list clique  maximal_clique\n0             3   [A, B, C]    ABC            True\n1             3   [B, C, G]    BCG           False\n2             3   [B, C, D]    BCD           False\n3             3   [B, C, H]    BCH           False\n4             3   [C, D, G]    CDG           False\n5             3   [C, G, H]    CGH           False\n6             3   [C, D, H]    CDH           False\n7             3   [B, D, G]    BDG           False\n8             3   [B, G, H]    BGH           False\n9             3   [B, D, H]    BDH           False\n10            3   [B, D, E]    BDE           False\n11            3   [B, E, H]    BEH           False\n12            3   [D, G, H]    DGH           False\n13            3   [D, E, H]    DEH           False\n14            3   [E, H, I]    EHI            True",
      "text/html": "<div>\n<style scoped>\n    .dataframe tbody tr th:only-of-type {\n        vertical-align: middle;\n    }\n\n    .dataframe tbody tr th {\n        vertical-align: top;\n    }\n\n    .dataframe thead th {\n        text-align: right;\n    }\n</style>\n<table border=\"1\" class=\"dataframe\">\n  <thead>\n    <tr style=\"text-align: right;\">\n      <th></th>\n      <th>clique_size</th>\n      <th>clique_list</th>\n      <th>clique</th>\n      <th>maximal_clique</th>\n    </tr>\n  </thead>\n  <tbody>\n    <tr>\n      <th>0</th>\n      <td>3</td>\n      <td>[A, B, C]</td>\n      <td>ABC</td>\n      <td>True</td>\n    </tr>\n    <tr>\n      <th>1</th>\n      <td>3</td>\n      <td>[B, C, G]</td>\n      <td>BCG</td>\n      <td>False</td>\n    </tr>\n    <tr>\n      <th>2</th>\n      <td>3</td>\n      <td>[B, C, D]</td>\n      <td>BCD</td>\n      <td>False</td>\n    </tr>\n    <tr>\n      <th>3</th>\n      <td>3</td>\n      <td>[B, C, H]</td>\n      <td>BCH</td>\n      <td>False</td>\n    </tr>\n    <tr>\n      <th>4</th>\n      <td>3</td>\n      <td>[C, D, G]</td>\n      <td>CDG</td>\n      <td>False</td>\n    </tr>\n    <tr>\n      <th>5</th>\n      <td>3</td>\n      <td>[C, G, H]</td>\n      <td>CGH</td>\n      <td>False</td>\n    </tr>\n    <tr>\n      <th>6</th>\n      <td>3</td>\n      <td>[C, D, H]</td>\n      <td>CDH</td>\n      <td>False</td>\n    </tr>\n    <tr>\n      <th>7</th>\n      <td>3</td>\n      <td>[B, D, G]</td>\n      <td>BDG</td>\n      <td>False</td>\n    </tr>\n    <tr>\n      <th>8</th>\n      <td>3</td>\n      <td>[B, G, H]</td>\n      <td>BGH</td>\n      <td>False</td>\n    </tr>\n    <tr>\n      <th>9</th>\n      <td>3</td>\n      <td>[B, D, H]</td>\n      <td>BDH</td>\n      <td>False</td>\n    </tr>\n    <tr>\n      <th>10</th>\n      <td>3</td>\n      <td>[B, D, E]</td>\n      <td>BDE</td>\n      <td>False</td>\n    </tr>\n    <tr>\n      <th>11</th>\n      <td>3</td>\n      <td>[B, E, H]</td>\n      <td>BEH</td>\n      <td>False</td>\n    </tr>\n    <tr>\n      <th>12</th>\n      <td>3</td>\n      <td>[D, G, H]</td>\n      <td>DGH</td>\n      <td>False</td>\n    </tr>\n    <tr>\n      <th>13</th>\n      <td>3</td>\n      <td>[D, E, H]</td>\n      <td>DEH</td>\n      <td>False</td>\n    </tr>\n    <tr>\n      <th>14</th>\n      <td>3</td>\n      <td>[E, H, I]</td>\n      <td>EHI</td>\n      <td>True</td>\n    </tr>\n  </tbody>\n</table>\n</div>"
     },
     "metadata": {},
     "execution_count": 181
    }
   ],
   "source": [
    "df_cliques.query('clique_size == 3')"
   ]
  },
  {
   "cell_type": "markdown",
   "metadata": {},
   "source": [
    "# k-core"
   ]
  },
  {
   "cell_type": "code",
   "execution_count": 182,
   "metadata": {},
   "outputs": [
    {
     "output_type": "stream",
     "name": "stdout",
     "text": "maximal k-core with k =  4 :  BCDGH\n"
    }
   ],
   "source": [
    "print('maximal k-core with k = ', max(df_measures.core), ': ', ''.join(sorted([k for k in core.k_core(G)])))"
   ]
  },
  {
   "cell_type": "code",
   "execution_count": 183,
   "metadata": {},
   "outputs": [
    {
     "output_type": "execute_result",
     "data": {
      "text/plain": "'ABCDEGHI'"
     },
     "metadata": {},
     "execution_count": 183
    }
   ],
   "source": [
    "k = 2\n",
    "''.join(sorted(df_measures.query(f'core >= {k}')['node']))"
   ]
  },
  {
   "cell_type": "code",
   "execution_count": 184,
   "metadata": {},
   "outputs": [
    {
     "output_type": "execute_result",
     "data": {
      "text/plain": "['K']"
     },
     "metadata": {},
     "execution_count": 184
    }
   ],
   "source": [
    "[c for c in nx.isolates(G)]"
   ]
  },
  {
   "cell_type": "markdown",
   "metadata": {},
   "source": [
    "# network traversal: BFS and DFS"
   ]
  },
  {
   "cell_type": "code",
   "execution_count": 188,
   "metadata": {},
   "outputs": [],
   "source": [
    "start_node = 'A'"
   ]
  },
  {
   "cell_type": "code",
   "execution_count": 189,
   "metadata": {},
   "outputs": [
    {
     "output_type": "stream",
     "name": "stdout",
     "text": "BFS traversal start at A:  A F C B H G D E I\n"
    }
   ],
   "source": [
    "print(f'BFS traversal start at {start_node}: ', ' '.join([b for b in traversal.bfs_tree(G, start_node)]))"
   ]
  },
  {
   "cell_type": "code",
   "execution_count": 190,
   "metadata": {},
   "outputs": [
    {
     "output_type": "stream",
     "name": "stdout",
     "text": "DFS traversal start at A:  A F C B G H E D I\n"
    }
   ],
   "source": [
    "print(f'DFS traversal start at {start_node}: ', ' '.join([b for b in traversal.dfs_tree(G, start_node)]))"
   ]
  },
  {
   "cell_type": "code",
   "execution_count": null,
   "metadata": {},
   "outputs": [],
   "source": []
  },
  {
   "cell_type": "code",
   "execution_count": null,
   "metadata": {},
   "outputs": [],
   "source": []
  }
 ],
 "metadata": {
  "language_info": {
   "codemirror_mode": {
    "name": "ipython",
    "version": 3
   },
   "file_extension": ".py",
   "mimetype": "text/x-python",
   "name": "python",
   "nbconvert_exporter": "python",
   "pygments_lexer": "ipython3",
   "version": "3.8.3-final"
  },
  "orig_nbformat": 2,
  "kernelspec": {
   "name": "python38364bitb680b9ea85ba4b86b35b18465fd75df3",
   "display_name": "Python 3.8.3 64-bit"
  }
 },
 "nbformat": 4,
 "nbformat_minor": 2
}