{
 "cells": [
  {
   "cell_type": "markdown",
   "metadata": {},
   "source": [
    "For a give set of edges: \n",
    "- load edges file\n",
    "- construct network\n",
    "- do a bunch of excercises and calculations: \n",
    "    - cliques \n",
    "\n"
   ]
  },
  {
   "cell_type": "code",
   "execution_count": 1,
   "metadata": {},
   "outputs": [],
   "source": [
    "import pandas as pd\n",
    "import networkx as nx\n",
    "from networkx import centrality\n",
    "from networkx.algorithms import clique\n",
    "from networkx.algorithms import core\n",
    "from networkx.algorithms import traversal"
   ]
  },
  {
   "cell_type": "code",
   "execution_count": 2,
   "metadata": {},
   "outputs": [],
   "source": [
    "# filename  = 'edges/example1.txt'\n",
    "# filename = 'edges/week5_kcore.txt'\n",
    "# filename = 'edges/at2_q1.txt'\n",
    "filename = 'edges/edge_betweeness_flow.txt'\n",
    "\n",
    "df_edges = pd.read_csv(filename, sep=':', header=None, names=['from', 'to_list'])\n",
    "df_edges['to_list_split'] = df_edges.to_list.str.strip().str.split(',')\n",
    "df_edges = df_edges.explode('to_list_split')\n",
    "df_edges['from'] = df_edges['from'].astype(str)\n",
    "# keep hold of nodes with no edges \n",
    "add_nodes = df_edges['from'][df_edges.to_list_split.isna()]\n",
    "# drop incomplete edges \n",
    "df_edges.drop(list(add_nodes.index), inplace=True)\n",
    "# list(df_edges[['from','to_list_split']].itertuples(index=False))\n",
    "# [tuple(e) for i,e in df_edges[['from','to_list_split']].iterrows()]\n",
    "# list(zip(df_edges['from'], df_edges['to_list_split']))\n",
    "edges = [tuple(e) for e in df_edges[['from','to_list_split']].to_records(index=False)]"
   ]
  },
  {
   "cell_type": "code",
   "execution_count": 3,
   "metadata": {},
   "outputs": [
    {
     "output_type": "execute_result",
     "data": {
      "text/plain": "{'A', 'B', 'C', 'D', 'E', 'F', 'G', 'H', 'I'}"
     },
     "metadata": {},
     "execution_count": 3
    }
   ],
   "source": [
    "set(df_edges['to_list_split'].astype(df_edges['from'].dtype))"
   ]
  },
  {
   "cell_type": "code",
   "execution_count": 4,
   "metadata": {},
   "outputs": [
    {
     "output_type": "display_data",
     "data": {
      "text/plain": "<Figure size 432x288 with 1 Axes>",
      "image/svg+xml": "<?xml version=\"1.0\" encoding=\"utf-8\" standalone=\"no\"?>\r\n<!DOCTYPE svg PUBLIC \"-//W3C//DTD SVG 1.1//EN\"\r\n  \"http://www.w3.org/Graphics/SVG/1.1/DTD/svg11.dtd\">\r\n<!-- Created with matplotlib (https://matplotlib.org/) -->\r\n<svg height=\"231.84pt\" version=\"1.1\" viewBox=\"0 0 349.2 231.84\" width=\"349.2pt\" xmlns=\"http://www.w3.org/2000/svg\" xmlns:xlink=\"http://www.w3.org/1999/xlink\">\r\n <defs>\r\n  <style type=\"text/css\">\r\n*{stroke-linecap:butt;stroke-linejoin:round;}\r\n  </style>\r\n </defs>\r\n <g id=\"figure_1\">\r\n  <g id=\"patch_1\">\r\n   <path d=\"M 0 231.84 \r\nL 349.2 231.84 \r\nL 349.2 0 \r\nL 0 0 \r\nz\r\n\" style=\"fill:none;\"/>\r\n  </g>\r\n  <g id=\"axes_1\">\r\n   <g id=\"patch_2\">\r\n    <path d=\"M 7.2 224.64 \r\nL 342 224.64 \r\nL 342 7.2 \r\nL 7.2 7.2 \r\nz\r\n\" style=\"fill:#ffffff;\"/>\r\n   </g>\r\n   <g id=\"LineCollection_1\">\r\n    <path clip-path=\"url(#p9cc9706227)\" d=\"M 80.722321 185.995455 \r\nL 22.418182 98.725827 \r\n\" style=\"fill:none;stroke:#000000;\"/>\r\n    <path clip-path=\"url(#p9cc9706227)\" d=\"M 80.722321 185.995455 \r\nL 209.795184 163.72043 \r\n\" style=\"fill:none;stroke:#000000;\"/>\r\n    <path clip-path=\"url(#p9cc9706227)\" d=\"M 80.722321 185.995455 \r\nL 204.753729 214.756364 \r\n\" style=\"fill:none;stroke:#000000;\"/>\r\n    <path clip-path=\"url(#p9cc9706227)\" d=\"M 22.418182 98.725827 \r\nL 69.597303 17.083636 \r\n\" style=\"fill:none;stroke:#000000;\"/>\r\n    <path clip-path=\"url(#p9cc9706227)\" d=\"M 22.418182 98.725827 \r\nL 151.345083 100.184667 \r\n\" style=\"fill:none;stroke:#000000;\"/>\r\n    <path clip-path=\"url(#p9cc9706227)\" d=\"M 209.795184 163.72043 \r\nL 204.753729 214.756364 \r\n\" style=\"fill:none;stroke:#000000;\"/>\r\n    <path clip-path=\"url(#p9cc9706227)\" d=\"M 209.795184 163.72043 \r\nL 151.345083 100.184667 \r\n\" style=\"fill:none;stroke:#000000;\"/>\r\n    <path clip-path=\"url(#p9cc9706227)\" d=\"M 209.795184 163.72043 \r\nL 326.781818 96.038235 \r\n\" style=\"fill:none;stroke:#000000;\"/>\r\n    <path clip-path=\"url(#p9cc9706227)\" d=\"M 204.753729 214.756364 \r\nL 260.580243 125.72115 \r\n\" style=\"fill:none;stroke:#000000;\"/>\r\n    <path clip-path=\"url(#p9cc9706227)\" d=\"M 69.597303 17.083636 \r\nL 217.506747 47.679552 \r\n\" style=\"fill:none;stroke:#000000;\"/>\r\n    <path clip-path=\"url(#p9cc9706227)\" d=\"M 151.345083 100.184667 \r\nL 217.506747 47.679552 \r\n\" style=\"fill:none;stroke:#000000;\"/>\r\n    <path clip-path=\"url(#p9cc9706227)\" d=\"M 151.345083 100.184667 \r\nL 260.580243 125.72115 \r\n\" style=\"fill:none;stroke:#000000;\"/>\r\n    <path clip-path=\"url(#p9cc9706227)\" d=\"M 326.781818 96.038235 \r\nL 260.580243 125.72115 \r\n\" style=\"fill:none;stroke:#000000;\"/>\r\n    <path clip-path=\"url(#p9cc9706227)\" d=\"M 326.781818 96.038235 \r\nL 217.506747 47.679552 \r\n\" style=\"fill:none;stroke:#000000;\"/>\r\n    <path clip-path=\"url(#p9cc9706227)\" d=\"M 260.580243 125.72115 \r\nL 217.506747 47.679552 \r\n\" style=\"fill:none;stroke:#000000;\"/>\r\n   </g>\r\n   <g id=\"matplotlib.axis_1\">\r\n    <g id=\"xtick_1\"/>\r\n    <g id=\"xtick_2\"/>\r\n    <g id=\"xtick_3\"/>\r\n    <g id=\"xtick_4\"/>\r\n    <g id=\"xtick_5\"/>\r\n    <g id=\"xtick_6\"/>\r\n    <g id=\"xtick_7\"/>\r\n   </g>\r\n   <g id=\"matplotlib.axis_2\">\r\n    <g id=\"ytick_1\"/>\r\n    <g id=\"ytick_2\"/>\r\n    <g id=\"ytick_3\"/>\r\n    <g id=\"ytick_4\"/>\r\n    <g id=\"ytick_5\"/>\r\n    <g id=\"ytick_6\"/>\r\n    <g id=\"ytick_7\"/>\r\n    <g id=\"ytick_8\"/>\r\n    <g id=\"ytick_9\"/>\r\n   </g>\r\n   <g id=\"PathCollection_1\">\r\n    <defs>\r\n     <path d=\"M 0 11.18034 \r\nC 2.965061 11.18034 5.80908 10.002309 7.905694 7.905694 \r\nC 10.002309 5.80908 11.18034 2.965061 11.18034 0 \r\nC 11.18034 -2.965061 10.002309 -5.80908 7.905694 -7.905694 \r\nC 5.80908 -10.002309 2.965061 -11.18034 0 -11.18034 \r\nC -2.965061 -11.18034 -5.80908 -10.002309 -7.905694 -7.905694 \r\nC -10.002309 -5.80908 -11.18034 -2.965061 -11.18034 0 \r\nC -11.18034 2.965061 -10.002309 5.80908 -7.905694 7.905694 \r\nC -5.80908 10.002309 -2.965061 11.18034 0 11.18034 \r\nz\r\n\" id=\"m6d3706dce2\" style=\"stroke:#808080;\"/>\r\n    </defs>\r\n    <g clip-path=\"url(#p9cc9706227)\">\r\n     <use style=\"fill:#808080;stroke:#808080;\" x=\"80.722321\" xlink:href=\"#m6d3706dce2\" y=\"185.995455\"/>\r\n     <use style=\"fill:#808080;stroke:#808080;\" x=\"22.418182\" xlink:href=\"#m6d3706dce2\" y=\"98.725827\"/>\r\n     <use style=\"fill:#808080;stroke:#808080;\" x=\"209.795184\" xlink:href=\"#m6d3706dce2\" y=\"163.72043\"/>\r\n     <use style=\"fill:#808080;stroke:#808080;\" x=\"204.753729\" xlink:href=\"#m6d3706dce2\" y=\"214.756364\"/>\r\n     <use style=\"fill:#808080;stroke:#808080;\" x=\"69.597303\" xlink:href=\"#m6d3706dce2\" y=\"17.083636\"/>\r\n     <use style=\"fill:#808080;stroke:#808080;\" x=\"151.345083\" xlink:href=\"#m6d3706dce2\" y=\"100.184667\"/>\r\n     <use style=\"fill:#808080;stroke:#808080;\" x=\"326.781818\" xlink:href=\"#m6d3706dce2\" y=\"96.038235\"/>\r\n     <use style=\"fill:#808080;stroke:#808080;\" x=\"260.580243\" xlink:href=\"#m6d3706dce2\" y=\"125.72115\"/>\r\n     <use style=\"fill:#808080;stroke:#808080;\" x=\"217.506747\" xlink:href=\"#m6d3706dce2\" y=\"47.679552\"/>\r\n    </g>\r\n   </g>\r\n   <g id=\"patch_3\">\r\n    <path d=\"M 7.2 224.64 \r\nL 7.2 7.2 \r\n\" style=\"fill:none;stroke:#000000;stroke-linecap:square;stroke-linejoin:miter;stroke-width:0.8;\"/>\r\n   </g>\r\n   <g id=\"patch_4\">\r\n    <path d=\"M 342 224.64 \r\nL 342 7.2 \r\n\" style=\"fill:none;stroke:#000000;stroke-linecap:square;stroke-linejoin:miter;stroke-width:0.8;\"/>\r\n   </g>\r\n   <g id=\"patch_5\">\r\n    <path d=\"M 7.2 224.64 \r\nL 342 224.64 \r\n\" style=\"fill:none;stroke:#000000;stroke-linecap:square;stroke-linejoin:miter;stroke-width:0.8;\"/>\r\n   </g>\r\n   <g id=\"patch_6\">\r\n    <path d=\"M 7.2 7.2 \r\nL 342 7.2 \r\n\" style=\"fill:none;stroke:#000000;stroke-linecap:square;stroke-linejoin:miter;stroke-width:0.8;\"/>\r\n   </g>\r\n   <g id=\"text_1\">\r\n    <g clip-path=\"url(#p9cc9706227)\">\r\n     <!-- A -->\r\n     <defs>\r\n      <path d=\"M 34.1875 63.1875 \r\nL 20.796875 26.90625 \r\nL 47.609375 26.90625 \r\nz\r\nM 28.609375 72.90625 \r\nL 39.796875 72.90625 \r\nL 67.578125 0 \r\nL 57.328125 0 \r\nL 50.6875 18.703125 \r\nL 17.828125 18.703125 \r\nL 11.1875 0 \r\nL 0.78125 0 \r\nz\r\n\" id=\"DejaVuSans-65\"/>\r\n     </defs>\r\n     <g transform=\"translate(76.617946 189.306705)scale(0.12 -0.12)\">\r\n      <use xlink:href=\"#DejaVuSans-65\"/>\r\n     </g>\r\n    </g>\r\n   </g>\r\n   <g id=\"text_2\">\r\n    <g clip-path=\"url(#p9cc9706227)\">\r\n     <!-- B -->\r\n     <defs>\r\n      <path d=\"M 19.671875 34.8125 \r\nL 19.671875 8.109375 \r\nL 35.5 8.109375 \r\nQ 43.453125 8.109375 47.28125 11.40625 \r\nQ 51.125 14.703125 51.125 21.484375 \r\nQ 51.125 28.328125 47.28125 31.5625 \r\nQ 43.453125 34.8125 35.5 34.8125 \r\nz\r\nM 19.671875 64.796875 \r\nL 19.671875 42.828125 \r\nL 34.28125 42.828125 \r\nQ 41.5 42.828125 45.03125 45.53125 \r\nQ 48.578125 48.25 48.578125 53.8125 \r\nQ 48.578125 59.328125 45.03125 62.0625 \r\nQ 41.5 64.796875 34.28125 64.796875 \r\nz\r\nM 9.8125 72.90625 \r\nL 35.015625 72.90625 \r\nQ 46.296875 72.90625 52.390625 68.21875 \r\nQ 58.5 63.53125 58.5 54.890625 \r\nQ 58.5 48.1875 55.375 44.234375 \r\nQ 52.25 40.28125 46.1875 39.3125 \r\nQ 53.46875 37.75 57.5 32.78125 \r\nQ 61.53125 27.828125 61.53125 20.40625 \r\nQ 61.53125 10.640625 54.890625 5.3125 \r\nQ 48.25 0 35.984375 0 \r\nL 9.8125 0 \r\nz\r\n\" id=\"DejaVuSans-66\"/>\r\n     </defs>\r\n     <g transform=\"translate(18.301619 102.037077)scale(0.12 -0.12)\">\r\n      <use xlink:href=\"#DejaVuSans-66\"/>\r\n     </g>\r\n    </g>\r\n   </g>\r\n   <g id=\"text_3\">\r\n    <g clip-path=\"url(#p9cc9706227)\">\r\n     <!-- D -->\r\n     <defs>\r\n      <path d=\"M 19.671875 64.796875 \r\nL 19.671875 8.109375 \r\nL 31.59375 8.109375 \r\nQ 46.6875 8.109375 53.6875 14.9375 \r\nQ 60.6875 21.78125 60.6875 36.53125 \r\nQ 60.6875 51.171875 53.6875 57.984375 \r\nQ 46.6875 64.796875 31.59375 64.796875 \r\nz\r\nM 9.8125 72.90625 \r\nL 30.078125 72.90625 \r\nQ 51.265625 72.90625 61.171875 64.09375 \r\nQ 71.09375 55.28125 71.09375 36.53125 \r\nQ 71.09375 17.671875 61.125 8.828125 \r\nQ 51.171875 0 30.078125 0 \r\nL 9.8125 0 \r\nz\r\n\" id=\"DejaVuSans-68\"/>\r\n     </defs>\r\n     <g transform=\"translate(205.175184 167.03168)scale(0.12 -0.12)\">\r\n      <use xlink:href=\"#DejaVuSans-68\"/>\r\n     </g>\r\n    </g>\r\n   </g>\r\n   <g id=\"text_4\">\r\n    <g clip-path=\"url(#p9cc9706227)\">\r\n     <!-- F -->\r\n     <defs>\r\n      <path d=\"M 9.8125 72.90625 \r\nL 51.703125 72.90625 \r\nL 51.703125 64.59375 \r\nL 19.671875 64.59375 \r\nL 19.671875 43.109375 \r\nL 48.578125 43.109375 \r\nL 48.578125 34.8125 \r\nL 19.671875 34.8125 \r\nL 19.671875 0 \r\nL 9.8125 0 \r\nz\r\n\" id=\"DejaVuSans-70\"/>\r\n     </defs>\r\n     <g transform=\"translate(201.302792 218.067614)scale(0.12 -0.12)\">\r\n      <use xlink:href=\"#DejaVuSans-70\"/>\r\n     </g>\r\n    </g>\r\n   </g>\r\n   <g id=\"text_5\">\r\n    <g clip-path=\"url(#p9cc9706227)\">\r\n     <!-- C -->\r\n     <defs>\r\n      <path d=\"M 64.40625 67.28125 \r\nL 64.40625 56.890625 \r\nQ 59.421875 61.53125 53.78125 63.8125 \r\nQ 48.140625 66.109375 41.796875 66.109375 \r\nQ 29.296875 66.109375 22.65625 58.46875 \r\nQ 16.015625 50.828125 16.015625 36.375 \r\nQ 16.015625 21.96875 22.65625 14.328125 \r\nQ 29.296875 6.6875 41.796875 6.6875 \r\nQ 48.140625 6.6875 53.78125 8.984375 \r\nQ 59.421875 11.28125 64.40625 15.921875 \r\nL 64.40625 5.609375 \r\nQ 59.234375 2.09375 53.4375 0.328125 \r\nQ 47.65625 -1.421875 41.21875 -1.421875 \r\nQ 24.65625 -1.421875 15.125 8.703125 \r\nQ 5.609375 18.84375 5.609375 36.375 \r\nQ 5.609375 53.953125 15.125 64.078125 \r\nQ 24.65625 74.21875 41.21875 74.21875 \r\nQ 47.75 74.21875 53.53125 72.484375 \r\nQ 59.328125 70.75 64.40625 67.28125 \r\nz\r\n\" id=\"DejaVuSans-67\"/>\r\n     </defs>\r\n     <g transform=\"translate(65.407615 20.394886)scale(0.12 -0.12)\">\r\n      <use xlink:href=\"#DejaVuSans-67\"/>\r\n     </g>\r\n    </g>\r\n   </g>\r\n   <g id=\"text_6\">\r\n    <g clip-path=\"url(#p9cc9706227)\">\r\n     <!-- E -->\r\n     <defs>\r\n      <path d=\"M 9.8125 72.90625 \r\nL 55.90625 72.90625 \r\nL 55.90625 64.59375 \r\nL 19.671875 64.59375 \r\nL 19.671875 43.015625 \r\nL 54.390625 43.015625 \r\nL 54.390625 34.71875 \r\nL 19.671875 34.71875 \r\nL 19.671875 8.296875 \r\nL 56.78125 8.296875 \r\nL 56.78125 0 \r\nL 9.8125 0 \r\nz\r\n\" id=\"DejaVuSans-69\"/>\r\n     </defs>\r\n     <g transform=\"translate(147.553833 103.495917)scale(0.12 -0.12)\">\r\n      <use xlink:href=\"#DejaVuSans-69\"/>\r\n     </g>\r\n    </g>\r\n   </g>\r\n   <g id=\"text_7\">\r\n    <g clip-path=\"url(#p9cc9706227)\">\r\n     <!-- I -->\r\n     <defs>\r\n      <path d=\"M 9.8125 72.90625 \r\nL 19.671875 72.90625 \r\nL 19.671875 0 \r\nL 9.8125 0 \r\nz\r\n\" id=\"DejaVuSans-73\"/>\r\n     </defs>\r\n     <g transform=\"translate(325.011818 99.349485)scale(0.12 -0.12)\">\r\n      <use xlink:href=\"#DejaVuSans-73\"/>\r\n     </g>\r\n    </g>\r\n   </g>\r\n   <g id=\"text_8\">\r\n    <g clip-path=\"url(#p9cc9706227)\">\r\n     <!-- H -->\r\n     <defs>\r\n      <path d=\"M 9.8125 72.90625 \r\nL 19.671875 72.90625 \r\nL 19.671875 43.015625 \r\nL 55.515625 43.015625 \r\nL 55.515625 72.90625 \r\nL 65.375 72.90625 \r\nL 65.375 0 \r\nL 55.515625 0 \r\nL 55.515625 34.71875 \r\nL 19.671875 34.71875 \r\nL 19.671875 0 \r\nL 9.8125 0 \r\nz\r\n\" id=\"DejaVuSans-72\"/>\r\n     </defs>\r\n     <g transform=\"translate(256.068055 129.0324)scale(0.12 -0.12)\">\r\n      <use xlink:href=\"#DejaVuSans-72\"/>\r\n     </g>\r\n    </g>\r\n   </g>\r\n   <g id=\"text_9\">\r\n    <g clip-path=\"url(#p9cc9706227)\">\r\n     <!-- G -->\r\n     <defs>\r\n      <path d=\"M 59.515625 10.40625 \r\nL 59.515625 29.984375 \r\nL 43.40625 29.984375 \r\nL 43.40625 38.09375 \r\nL 69.28125 38.09375 \r\nL 69.28125 6.78125 \r\nQ 63.578125 2.734375 56.6875 0.65625 \r\nQ 49.8125 -1.421875 42 -1.421875 \r\nQ 24.90625 -1.421875 15.25 8.5625 \r\nQ 5.609375 18.5625 5.609375 36.375 \r\nQ 5.609375 54.25 15.25 64.234375 \r\nQ 24.90625 74.21875 42 74.21875 \r\nQ 49.125 74.21875 55.546875 72.453125 \r\nQ 61.96875 70.703125 67.390625 67.28125 \r\nL 67.390625 56.78125 \r\nQ 61.921875 61.421875 55.765625 63.765625 \r\nQ 49.609375 66.109375 42.828125 66.109375 \r\nQ 29.4375 66.109375 22.71875 58.640625 \r\nQ 16.015625 51.171875 16.015625 36.375 \r\nQ 16.015625 21.625 22.71875 14.15625 \r\nQ 29.4375 6.6875 42.828125 6.6875 \r\nQ 48.046875 6.6875 52.140625 7.59375 \r\nQ 56.25 8.5 59.515625 10.40625 \r\nz\r\n\" id=\"DejaVuSans-71\"/>\r\n     </defs>\r\n     <g transform=\"translate(212.857684 50.990802)scale(0.12 -0.12)\">\r\n      <use xlink:href=\"#DejaVuSans-71\"/>\r\n     </g>\r\n    </g>\r\n   </g>\r\n  </g>\r\n </g>\r\n <defs>\r\n  <clipPath id=\"p9cc9706227\">\r\n   <rect height=\"217.44\" width=\"334.8\" x=\"7.2\" y=\"7.2\"/>\r\n  </clipPath>\r\n </defs>\r\n</svg>\r\n",
      "image/png": "[encoded data removed]"
     },
     "metadata": {}
    }
   ],
   "source": [
    "G = nx.Graph()\n",
    "G.add_edges_from(edges)\n",
    "G.add_nodes_from(add_nodes)\n",
    "\n",
    "pos = nx.layout.spring_layout(G)\n",
    "nx.draw_networkx(G, pos=pos, node_size=500, node_color='grey')"
   ]
  },
  {
   "cell_type": "code",
   "execution_count": 5,
   "metadata": {},
   "outputs": [
    {
     "output_type": "stream",
     "name": "stdout",
     "text": "Name: \nType: Graph\nNumber of nodes: 9\nNumber of edges: 15\nAverage degree:   3.3333\n"
    }
   ],
   "source": [
    "print(nx.info(G))"
   ]
  },
  {
   "cell_type": "code",
   "execution_count": 6,
   "metadata": {},
   "outputs": [],
   "source": [
    "def get_df(measure, column_name):\n",
    "    return pd.DataFrame(dict(measure).items(), columns=['node', column_name])\n",
    "\n",
    "def add_measure(df, measure,column_name): \n",
    "    temp = df.join(get_df(measure,column_name),lsuffix='',rsuffix='_r')\n",
    "    return temp.drop(columns=temp.columns[temp.columns.str.endswith('_r')])"
   ]
  },
  {
   "cell_type": "code",
   "execution_count": 7,
   "metadata": {},
   "outputs": [
    {
     "output_type": "execute_result",
     "data": {
      "text/plain": "  node\n0    A\n1    B\n2    D\n3    F\n4    C\n5    E\n6    I\n7    H\n8    G",
      "text/html": "<div>\n<style scoped>\n    .dataframe tbody tr th:only-of-type {\n        vertical-align: middle;\n    }\n\n    .dataframe tbody tr th {\n        vertical-align: top;\n    }\n\n    .dataframe thead th {\n        text-align: right;\n    }\n</style>\n<table border=\"1\" class=\"dataframe\">\n  <thead>\n    <tr style=\"text-align: right;\">\n      <th></th>\n      <th>node</th>\n    </tr>\n  </thead>\n  <tbody>\n    <tr>\n      <th>0</th>\n      <td>A</td>\n    </tr>\n    <tr>\n      <th>1</th>\n      <td>B</td>\n    </tr>\n    <tr>\n      <th>2</th>\n      <td>D</td>\n    </tr>\n    <tr>\n      <th>3</th>\n      <td>F</td>\n    </tr>\n    <tr>\n      <th>4</th>\n      <td>C</td>\n    </tr>\n    <tr>\n      <th>5</th>\n      <td>E</td>\n    </tr>\n    <tr>\n      <th>6</th>\n      <td>I</td>\n    </tr>\n    <tr>\n      <th>7</th>\n      <td>H</td>\n    </tr>\n    <tr>\n      <th>8</th>\n      <td>G</td>\n    </tr>\n  </tbody>\n</table>\n</div>"
     },
     "metadata": {},
     "execution_count": 7
    }
   ],
   "source": [
    "df_measures = pd.DataFrame(list(G.nodes()), columns=['node'])\n",
    "df_measures"
   ]
  },
  {
   "cell_type": "markdown",
   "metadata": {},
   "source": [
    "# add measures \n",
    "\n",
    "* clustering coefficient \n",
    "* degree\n",
    "* degree centrality \n",
    "* closenness cenrality \n",
    "* betweenness cenrality "
   ]
  },
  {
   "cell_type": "code",
   "execution_count": 8,
   "metadata": {},
   "outputs": [],
   "source": [
    "df_measures = add_measure(df_measures, nx.clustering(G), 'clustring')\n",
    "df_measures = add_measure(df_measures, nx.degree(G), 'degree')\n",
    "df_measures = add_measure(df_measures, centrality.degree_centrality(G), 'degree_centrality')\n",
    "df_measures = add_measure(df_measures, centrality.closeness_centrality(G), 'closeness_centrality')\n",
    "df_measures['closeness_inv'] = 1/df_measures['closeness_centrality']\n",
    "df_measures = add_measure(df_measures, centrality.betweenness_centrality(G, normalized=False), 'betweenness')\n",
    "df_measures = add_measure(df_measures, centrality.betweenness_centrality(G, normalized=True), 'betweenness_centrality')\n",
    "df_measures = add_measure(df_measures, core.core_number(G), 'core')\n"
   ]
  },
  {
   "cell_type": "code",
   "execution_count": 9,
   "metadata": {},
   "outputs": [
    {
     "output_type": "execute_result",
     "data": {
      "text/plain": "  node  clustring  degree  degree_centrality  closeness_centrality  \\\n0    A   0.333333       3              0.375              0.571429   \n1    B   0.000000       3              0.375              0.571429   \n2    D   0.166667       4              0.500              0.615385   \n3    F   0.333333       3              0.375              0.571429   \n4    C   0.000000       2              0.250              0.500000   \n5    E   0.166667       4              0.500              0.666667   \n6    I   0.333333       3              0.375              0.571429   \n7    H   0.333333       4              0.500              0.666667   \n8    G   0.333333       4              0.500              0.615385   \n\n   closeness_inv  betweenness  betweenness_centrality  core  \n0          1.750     2.450000                0.087500     2  \n1          1.750     3.400000                0.121429     2  \n2          1.625     3.633333                0.129762     2  \n3          1.750     1.533333                0.054762     2  \n4          2.000     0.900000                0.032143     2  \n5          1.500     4.333333                0.154762     2  \n6          1.750     1.283333                0.045833     2  \n7          1.500     3.233333                0.115476     2  \n8          1.625     4.233333                0.151190     2  ",
      "text/html": "<div>\n<style scoped>\n    .dataframe tbody tr th:only-of-type {\n        vertical-align: middle;\n    }\n\n    .dataframe tbody tr th {\n        vertical-align: top;\n    }\n\n    .dataframe thead th {\n        text-align: right;\n    }\n</style>\n<table border=\"1\" class=\"dataframe\">\n  <thead>\n    <tr style=\"text-align: right;\">\n      <th></th>\n      <th>node</th>\n      <th>clustring</th>\n      <th>degree</th>\n      <th>degree_centrality</th>\n      <th>closeness_centrality</th>\n      <th>closeness_inv</th>\n      <th>betweenness</th>\n      <th>betweenness_centrality</th>\n      <th>core</th>\n    </tr>\n  </thead>\n  <tbody>\n    <tr>\n      <th>0</th>\n      <td>A</td>\n      <td>0.333333</td>\n      <td>3</td>\n      <td>0.375</td>\n      <td>0.571429</td>\n      <td>1.750</td>\n      <td>2.450000</td>\n      <td>0.087500</td>\n      <td>2</td>\n    </tr>\n    <tr>\n      <th>1</th>\n      <td>B</td>\n      <td>0.000000</td>\n      <td>3</td>\n      <td>0.375</td>\n      <td>0.571429</td>\n      <td>1.750</td>\n      <td>3.400000</td>\n      <td>0.121429</td>\n      <td>2</td>\n    </tr>\n    <tr>\n      <th>2</th>\n      <td>D</td>\n      <td>0.166667</td>\n      <td>4</td>\n      <td>0.500</td>\n      <td>0.615385</td>\n      <td>1.625</td>\n      <td>3.633333</td>\n      <td>0.129762</td>\n      <td>2</td>\n    </tr>\n    <tr>\n      <th>3</th>\n      <td>F</td>\n      <td>0.333333</td>\n      <td>3</td>\n      <td>0.375</td>\n      <td>0.571429</td>\n      <td>1.750</td>\n      <td>1.533333</td>\n      <td>0.054762</td>\n      <td>2</td>\n    </tr>\n    <tr>\n      <th>4</th>\n      <td>C</td>\n      <td>0.000000</td>\n      <td>2</td>\n      <td>0.250</td>\n      <td>0.500000</td>\n      <td>2.000</td>\n      <td>0.900000</td>\n      <td>0.032143</td>\n      <td>2</td>\n    </tr>\n    <tr>\n      <th>5</th>\n      <td>E</td>\n      <td>0.166667</td>\n      <td>4</td>\n      <td>0.500</td>\n      <td>0.666667</td>\n      <td>1.500</td>\n      <td>4.333333</td>\n      <td>0.154762</td>\n      <td>2</td>\n    </tr>\n    <tr>\n      <th>6</th>\n      <td>I</td>\n      <td>0.333333</td>\n      <td>3</td>\n      <td>0.375</td>\n      <td>0.571429</td>\n      <td>1.750</td>\n      <td>1.283333</td>\n      <td>0.045833</td>\n      <td>2</td>\n    </tr>\n    <tr>\n      <th>7</th>\n      <td>H</td>\n      <td>0.333333</td>\n      <td>4</td>\n      <td>0.500</td>\n      <td>0.666667</td>\n      <td>1.500</td>\n      <td>3.233333</td>\n      <td>0.115476</td>\n      <td>2</td>\n    </tr>\n    <tr>\n      <th>8</th>\n      <td>G</td>\n      <td>0.333333</td>\n      <td>4</td>\n      <td>0.500</td>\n      <td>0.615385</td>\n      <td>1.625</td>\n      <td>4.233333</td>\n      <td>0.151190</td>\n      <td>2</td>\n    </tr>\n  </tbody>\n</table>\n</div>"
     },
     "metadata": {},
     "execution_count": 9
    }
   ],
   "source": [
    "add_measure(df_measures, centrality.closeness_centrality(G), 'closeness_centrality')"
   ]
  },
  {
   "cell_type": "markdown",
   "metadata": {},
   "source": [
    "The core number of a node is the largest value k of a k-core containing that node."
   ]
  },
  {
   "cell_type": "markdown",
   "metadata": {},
   "source": [
    "# find all cliques and maximal cliques "
   ]
  },
  {
   "cell_type": "code",
   "execution_count": 10,
   "metadata": {},
   "outputs": [
    {
     "output_type": "stream",
     "name": "stdout",
     "text": "maximal cliques\n['AB', 'BE', 'BC', 'ADF', 'DI', 'DE', 'CG', 'GHI', 'EGH', 'FH']\n"
    }
   ],
   "source": [
    "\n",
    "maximal_cliques = [''.join(sorted(c)) for c in clique.find_cliques(G)]\n",
    "print('maximal cliques')\n",
    "print(maximal_cliques)"
   ]
  },
  {
   "cell_type": "code",
   "execution_count": 11,
   "metadata": {},
   "outputs": [
    {
     "output_type": "execute_result",
     "data": {
      "text/plain": "   clique_size clique_list clique  maximal_clique\n0            3   [A, D, F]    ADF            True\n1            3   [E, G, H]    EGH            True\n2            3   [G, H, I]    GHI            True",
      "text/html": "<div>\n<style scoped>\n    .dataframe tbody tr th:only-of-type {\n        vertical-align: middle;\n    }\n\n    .dataframe tbody tr th {\n        vertical-align: top;\n    }\n\n    .dataframe thead th {\n        text-align: right;\n    }\n</style>\n<table border=\"1\" class=\"dataframe\">\n  <thead>\n    <tr style=\"text-align: right;\">\n      <th></th>\n      <th>clique_size</th>\n      <th>clique_list</th>\n      <th>clique</th>\n      <th>maximal_clique</th>\n    </tr>\n  </thead>\n  <tbody>\n    <tr>\n      <th>0</th>\n      <td>3</td>\n      <td>[A, D, F]</td>\n      <td>ADF</td>\n      <td>True</td>\n    </tr>\n    <tr>\n      <th>1</th>\n      <td>3</td>\n      <td>[E, G, H]</td>\n      <td>EGH</td>\n      <td>True</td>\n    </tr>\n    <tr>\n      <th>2</th>\n      <td>3</td>\n      <td>[G, H, I]</td>\n      <td>GHI</td>\n      <td>True</td>\n    </tr>\n  </tbody>\n</table>\n</div>"
     },
     "metadata": {},
     "execution_count": 11
    }
   ],
   "source": [
    "df_cliques = pd.DataFrame([(len(c), sorted(c), ''.join(sorted(c))) for c in clique.enumerate_all_cliques(G) if len(c) > 2], columns=['clique_size', 'clique_list', 'clique'])\n",
    "df_cliques['maximal_clique'] = df_cliques.clique.isin(maximal_cliques)\n",
    "df_cliques.query( \"maximal_clique == True\")"
   ]
  },
  {
   "cell_type": "code",
   "execution_count": 12,
   "metadata": {},
   "outputs": [
    {
     "output_type": "execute_result",
     "data": {
      "text/plain": "   clique_size clique_list clique  maximal_clique\n0            3   [A, D, F]    ADF            True\n1            3   [E, G, H]    EGH            True\n2            3   [G, H, I]    GHI            True",
      "text/html": "<div>\n<style scoped>\n    .dataframe tbody tr th:only-of-type {\n        vertical-align: middle;\n    }\n\n    .dataframe tbody tr th {\n        vertical-align: top;\n    }\n\n    .dataframe thead th {\n        text-align: right;\n    }\n</style>\n<table border=\"1\" class=\"dataframe\">\n  <thead>\n    <tr style=\"text-align: right;\">\n      <th></th>\n      <th>clique_size</th>\n      <th>clique_list</th>\n      <th>clique</th>\n      <th>maximal_clique</th>\n    </tr>\n  </thead>\n  <tbody>\n    <tr>\n      <th>0</th>\n      <td>3</td>\n      <td>[A, D, F]</td>\n      <td>ADF</td>\n      <td>True</td>\n    </tr>\n    <tr>\n      <th>1</th>\n      <td>3</td>\n      <td>[E, G, H]</td>\n      <td>EGH</td>\n      <td>True</td>\n    </tr>\n    <tr>\n      <th>2</th>\n      <td>3</td>\n      <td>[G, H, I]</td>\n      <td>GHI</td>\n      <td>True</td>\n    </tr>\n  </tbody>\n</table>\n</div>"
     },
     "metadata": {},
     "execution_count": 12
    }
   ],
   "source": [
    "df_cliques.query('clique_size == 3')"
   ]
  },
  {
   "cell_type": "markdown",
   "metadata": {},
   "source": [
    "# k-core"
   ]
  },
  {
   "cell_type": "code",
   "execution_count": 13,
   "metadata": {},
   "outputs": [
    {
     "output_type": "stream",
     "name": "stdout",
     "text": "maximal k-core with k =  2 :  ABCDEFGHI\n"
    }
   ],
   "source": [
    "print('maximal k-core with k = ', max(df_measures.core), ': ', ''.join(sorted([k for k in core.k_core(G)])))"
   ]
  },
  {
   "cell_type": "code",
   "execution_count": 14,
   "metadata": {},
   "outputs": [
    {
     "output_type": "execute_result",
     "data": {
      "text/plain": "'ABCDEFGHI'"
     },
     "metadata": {},
     "execution_count": 14
    }
   ],
   "source": [
    "k = 2\n",
    "''.join(sorted(df_measures.query(f'core >= {k}')['node']))"
   ]
  },
  {
   "cell_type": "code",
   "execution_count": 15,
   "metadata": {},
   "outputs": [
    {
     "output_type": "execute_result",
     "data": {
      "text/plain": "[]"
     },
     "metadata": {},
     "execution_count": 15
    }
   ],
   "source": [
    "[c for c in nx.isolates(G)]"
   ]
  },
  {
   "cell_type": "markdown",
   "metadata": {},
   "source": [
    "# network traversal: BFS and DFS"
   ]
  },
  {
   "cell_type": "code",
   "execution_count": 16,
   "metadata": {},
   "outputs": [],
   "source": [
    "start_node = 'A'"
   ]
  },
  {
   "cell_type": "code",
   "execution_count": 17,
   "metadata": {},
   "outputs": [
    {
     "output_type": "stream",
     "name": "stdout",
     "text": "BFS traversal start at A:  A B D F C E I H G\n"
    }
   ],
   "source": [
    "print(f'BFS traversal start at {start_node}: ', ' '.join([b for b in traversal.bfs_tree(G, start_node)]))"
   ]
  },
  {
   "cell_type": "code",
   "execution_count": 18,
   "metadata": {},
   "outputs": [
    {
     "output_type": "stream",
     "name": "stdout",
     "text": "DFS traversal start at A:  A B C G E D F H I\n"
    }
   ],
   "source": [
    "print(f'DFS traversal start at {start_node}: ', ' '.join([b for b in traversal.dfs_tree(G, start_node)]))"
   ]
  },
  {
   "cell_type": "markdown",
   "metadata": {},
   "source": [
    "Edge Betweenness "
   ]
  },
  {
   "cell_type": "code",
   "execution_count": 20,
   "metadata": {},
   "outputs": [
    {
     "output_type": "execute_result",
     "data": {
      "text/plain": "[('A', 'B'),\n ('A', 'D'),\n ('A', 'F'),\n ('B', 'C'),\n ('B', 'E'),\n ('D', 'F'),\n ('D', 'E'),\n ('D', 'I'),\n ('F', 'H'),\n ('C', 'G'),\n ('E', 'G'),\n ('E', 'H'),\n ('I', 'H'),\n ('I', 'G'),\n ('H', 'G')]"
     },
     "metadata": {},
     "execution_count": 20
    }
   ],
   "source": [
    "[e for e in traversal.edge_bfs(G, 'A')]"
   ]
  },
  {
   "cell_type": "code",
   "execution_count": null,
   "metadata": {},
   "outputs": [],
   "source": []
  },
  {
   "cell_type": "code",
   "execution_count": null,
   "metadata": {},
   "outputs": [],
   "source": []
  }
 ],
 "metadata": {
  "language_info": {
   "codemirror_mode": {
    "name": "ipython",
    "version": 3
   },
   "file_extension": ".py",
   "mimetype": "text/x-python",
   "name": "python",
   "nbconvert_exporter": "python",
   "pygments_lexer": "ipython3",
   "version": "3.8.3-final"
  },
  "orig_nbformat": 2,
  "kernelspec": {
   "name": "python38364bitb680b9ea85ba4b86b35b18465fd75df3",
   "display_name": "Python 3.8.3 64-bit"
  }
 },
 "nbformat": 4,
 "nbformat_minor": 2
}