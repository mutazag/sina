{
 "cells": [
  {
   "cell_type": "markdown",
   "metadata": {},
   "source": [
    "For a give set of edges: \n",
    "- load edges file\n",
    "- construct network\n",
    "- do a bunch of excercises and calculations: \n",
    "    - cliques \n",
    "\n"
   ]
  },
  {
   "cell_type": "code",
   "execution_count": 187,
   "metadata": {},
   "outputs": [],
   "source": [
    "import pandas as pd\n",
    "import networkx as nx\n",
    "from networkx import centrality\n",
    "from networkx.algorithms import clique\n",
    "from networkx.algorithms import core\n",
    "from networkx.algorithms import traversal\n",
    "from networkx.algorithms import distance_measures\n",
    "from networkx.algorithms import approximation\n",
    "from networkx.algorithms import shortest_paths\n",
    "from networkx.algorithms import bridges, has_bridges, local_bridges\n",
    "from helpers import graph_search"
   ]
  },
  {
   "cell_type": "code",
   "execution_count": 188,
   "metadata": {},
   "outputs": [],
   "source": [
    "# filename  = 'edges/example1.txt'\n",
    "# filename = 'edges/week5_kcore.txt'\n",
    "# filename = 'edges/at2_q1.txt'\n",
    "# filename = 'edges/edge_betweeness_flow.txt'\n",
    "# filename = 'edges/sample_exam_A2.txt'\n",
    "filename = 'edges/isomorphism_g1.txt'"
   ]
  },
  {
   "cell_type": "code",
   "execution_count": 189,
   "metadata": {},
   "outputs": [],
   "source": [
    "df_edges = pd.read_csv(filename, sep=':', header=None, names=['from', 'to_list'])\n",
    "df_edges['to_list_split'] = df_edges.to_list.str.strip().str.split(',')\n",
    "df_edges = df_edges.explode('to_list_split')\n",
    "df_edges['from'] = df_edges['from'].astype('str')\n",
    "# keep hold of nodes with no edges \n",
    "add_nodes = df_edges['from'][df_edges.to_list_split.isna()]\n",
    "# drop incomplete edges \n",
    "df_edges.drop(list(add_nodes.index), inplace=True)\n",
    "# list(df_edges[['from','to_list_split']].itertuples(index=False))\n",
    "# [tuple(e) for i,e in df_edges[['from','to_list_split']].iterrows()]\n",
    "# list(zip(df_edges['from'], df_edges['to_list_split']))\n",
    "edges = [tuple(e) for e in df_edges[['from','to_list_split']].to_records(index=False)]"
   ]
  },
  {
   "cell_type": "code",
   "execution_count": 190,
   "metadata": {},
   "outputs": [
    {
     "output_type": "execute_result",
     "data": {
      "text/plain": "{'A', 'B', 'C', 'D', 'E'}"
     },
     "metadata": {},
     "execution_count": 190
    }
   ],
   "source": [
    "set(df_edges['to_list_split'].astype(df_edges['from'].dtype))"
   ]
  },
  {
   "cell_type": "code",
   "execution_count": 191,
   "metadata": {},
   "outputs": [
    {
     "output_type": "display_data",
     "data": {
      "text/plain": "<Figure size 432x288 with 1 Axes>",
      "image/svg+xml": "<?xml version=\"1.0\" encoding=\"utf-8\" standalone=\"no\"?>\r\n<!DOCTYPE svg PUBLIC \"-//W3C//DTD SVG 1.1//EN\"\r\n  \"http://www.w3.org/Graphics/SVG/1.1/DTD/svg11.dtd\">\r\n<!-- Created with matplotlib (https://matplotlib.org/) -->\r\n<svg height=\"231.84pt\" version=\"1.1\" viewBox=\"0 0 349.2 231.84\" width=\"349.2pt\" xmlns=\"http://www.w3.org/2000/svg\" xmlns:xlink=\"http://www.w3.org/1999/xlink\">\r\n <defs>\r\n  <style type=\"text/css\">\r\n*{stroke-linecap:butt;stroke-linejoin:round;}\r\n  </style>\r\n </defs>\r\n <g id=\"figure_1\">\r\n  <g id=\"patch_1\">\r\n   <path d=\"M 0 231.84 \r\nL 349.2 231.84 \r\nL 349.2 0 \r\nL 0 0 \r\nz\r\n\" style=\"fill:none;\"/>\r\n  </g>\r\n  <g id=\"axes_1\">\r\n   <g id=\"patch_2\">\r\n    <path d=\"M 7.2 224.64 \r\nL 342 224.64 \r\nL 342 7.2 \r\nL 7.2 7.2 \r\nz\r\n\" style=\"fill:#ffffff;\"/>\r\n   </g>\r\n   <g id=\"LineCollection_1\">\r\n    <path clip-path=\"url(#pbf210da0fe)\" d=\"M 326.781818 87.391424 \r\nL 204.365792 159.228881 \r\n\" style=\"fill:none;stroke:#000000;\"/>\r\n    <path clip-path=\"url(#pbf210da0fe)\" d=\"M 326.781818 87.391424 \r\nL 223.697128 17.083636 \r\n\" style=\"fill:none;stroke:#000000;\"/>\r\n    <path clip-path=\"url(#pbf210da0fe)\" d=\"M 326.781818 87.391424 \r\nL 111.766891 95.987884 \r\n\" style=\"fill:none;stroke:#000000;\"/>\r\n    <path clip-path=\"url(#pbf210da0fe)\" d=\"M 204.365792 159.228881 \r\nL 223.697128 17.083636 \r\n\" style=\"fill:none;stroke:#000000;\"/>\r\n    <path clip-path=\"url(#pbf210da0fe)\" d=\"M 204.365792 159.228881 \r\nL 111.766891 95.987884 \r\n\" style=\"fill:none;stroke:#000000;\"/>\r\n    <path clip-path=\"url(#pbf210da0fe)\" d=\"M 204.365792 159.228881 \r\nL 22.418182 214.756364 \r\n\" style=\"fill:none;stroke:#000000;\"/>\r\n    <path clip-path=\"url(#pbf210da0fe)\" d=\"M 223.697128 17.083636 \r\nL 111.766891 95.987884 \r\n\" style=\"fill:none;stroke:#000000;\"/>\r\n    <path clip-path=\"url(#pbf210da0fe)\" d=\"M 111.766891 95.987884 \r\nL 22.418182 214.756364 \r\n\" style=\"fill:none;stroke:#000000;\"/>\r\n   </g>\r\n   <g id=\"matplotlib.axis_1\">\r\n    <g id=\"xtick_1\"/>\r\n    <g id=\"xtick_2\"/>\r\n    <g id=\"xtick_3\"/>\r\n    <g id=\"xtick_4\"/>\r\n    <g id=\"xtick_5\"/>\r\n    <g id=\"xtick_6\"/>\r\n    <g id=\"xtick_7\"/>\r\n    <g id=\"xtick_8\"/>\r\n    <g id=\"xtick_9\"/>\r\n   </g>\r\n   <g id=\"matplotlib.axis_2\">\r\n    <g id=\"ytick_1\"/>\r\n    <g id=\"ytick_2\"/>\r\n    <g id=\"ytick_3\"/>\r\n    <g id=\"ytick_4\"/>\r\n    <g id=\"ytick_5\"/>\r\n    <g id=\"ytick_6\"/>\r\n    <g id=\"ytick_7\"/>\r\n    <g id=\"ytick_8\"/>\r\n    <g id=\"ytick_9\"/>\r\n   </g>\r\n   <g id=\"PathCollection_1\">\r\n    <defs>\r\n     <path d=\"M 0 11.18034 \r\nC 2.965061 11.18034 5.80908 10.002309 7.905694 7.905694 \r\nC 10.002309 5.80908 11.18034 2.965061 11.18034 0 \r\nC 11.18034 -2.965061 10.002309 -5.80908 7.905694 -7.905694 \r\nC 5.80908 -10.002309 2.965061 -11.18034 0 -11.18034 \r\nC -2.965061 -11.18034 -5.80908 -10.002309 -7.905694 -7.905694 \r\nC -10.002309 -5.80908 -11.18034 -2.965061 -11.18034 0 \r\nC -11.18034 2.965061 -10.002309 5.80908 -7.905694 7.905694 \r\nC -5.80908 10.002309 -2.965061 11.18034 0 11.18034 \r\nz\r\n\" id=\"m6674099795\" style=\"stroke:#808080;\"/>\r\n    </defs>\r\n    <g clip-path=\"url(#pbf210da0fe)\">\r\n     <use style=\"fill:#808080;stroke:#808080;\" x=\"326.781818\" xlink:href=\"#m6674099795\" y=\"87.391424\"/>\r\n     <use style=\"fill:#808080;stroke:#808080;\" x=\"204.365792\" xlink:href=\"#m6674099795\" y=\"159.228881\"/>\r\n     <use style=\"fill:#808080;stroke:#808080;\" x=\"223.697128\" xlink:href=\"#m6674099795\" y=\"17.083636\"/>\r\n     <use style=\"fill:#808080;stroke:#808080;\" x=\"111.766891\" xlink:href=\"#m6674099795\" y=\"95.987884\"/>\r\n     <use style=\"fill:#808080;stroke:#808080;\" x=\"22.418182\" xlink:href=\"#m6674099795\" y=\"214.756364\"/>\r\n    </g>\r\n   </g>\r\n   <g id=\"patch_3\">\r\n    <path d=\"M 7.2 224.64 \r\nL 7.2 7.2 \r\n\" style=\"fill:none;stroke:#000000;stroke-linecap:square;stroke-linejoin:miter;stroke-width:0.8;\"/>\r\n   </g>\r\n   <g id=\"patch_4\">\r\n    <path d=\"M 342 224.64 \r\nL 342 7.2 \r\n\" style=\"fill:none;stroke:#000000;stroke-linecap:square;stroke-linejoin:miter;stroke-width:0.8;\"/>\r\n   </g>\r\n   <g id=\"patch_5\">\r\n    <path d=\"M 7.2 224.64 \r\nL 342 224.64 \r\n\" style=\"fill:none;stroke:#000000;stroke-linecap:square;stroke-linejoin:miter;stroke-width:0.8;\"/>\r\n   </g>\r\n   <g id=\"patch_6\">\r\n    <path d=\"M 7.2 7.2 \r\nL 342 7.2 \r\n\" style=\"fill:none;stroke:#000000;stroke-linecap:square;stroke-linejoin:miter;stroke-width:0.8;\"/>\r\n   </g>\r\n   <g id=\"text_1\">\r\n    <g clip-path=\"url(#pbf210da0fe)\">\r\n     <!-- A -->\r\n     <defs>\r\n      <path d=\"M 34.1875 63.1875 \r\nL 20.796875 26.90625 \r\nL 47.609375 26.90625 \r\nz\r\nM 28.609375 72.90625 \r\nL 39.796875 72.90625 \r\nL 67.578125 0 \r\nL 57.328125 0 \r\nL 50.6875 18.703125 \r\nL 17.828125 18.703125 \r\nL 11.1875 0 \r\nL 0.78125 0 \r\nz\r\n\" id=\"DejaVuSans-65\"/>\r\n     </defs>\r\n     <g transform=\"translate(322.677443 90.702674)scale(0.12 -0.12)\">\r\n      <use xlink:href=\"#DejaVuSans-65\"/>\r\n     </g>\r\n    </g>\r\n   </g>\r\n   <g id=\"text_2\">\r\n    <g clip-path=\"url(#pbf210da0fe)\">\r\n     <!-- B -->\r\n     <defs>\r\n      <path d=\"M 19.671875 34.8125 \r\nL 19.671875 8.109375 \r\nL 35.5 8.109375 \r\nQ 43.453125 8.109375 47.28125 11.40625 \r\nQ 51.125 14.703125 51.125 21.484375 \r\nQ 51.125 28.328125 47.28125 31.5625 \r\nQ 43.453125 34.8125 35.5 34.8125 \r\nz\r\nM 19.671875 64.796875 \r\nL 19.671875 42.828125 \r\nL 34.28125 42.828125 \r\nQ 41.5 42.828125 45.03125 45.53125 \r\nQ 48.578125 48.25 48.578125 53.8125 \r\nQ 48.578125 59.328125 45.03125 62.0625 \r\nQ 41.5 64.796875 34.28125 64.796875 \r\nz\r\nM 9.8125 72.90625 \r\nL 35.015625 72.90625 \r\nQ 46.296875 72.90625 52.390625 68.21875 \r\nQ 58.5 63.53125 58.5 54.890625 \r\nQ 58.5 48.1875 55.375 44.234375 \r\nQ 52.25 40.28125 46.1875 39.3125 \r\nQ 53.46875 37.75 57.5 32.78125 \r\nQ 61.53125 27.828125 61.53125 20.40625 \r\nQ 61.53125 10.640625 54.890625 5.3125 \r\nQ 48.25 0 35.984375 0 \r\nL 9.8125 0 \r\nz\r\n\" id=\"DejaVuSans-66\"/>\r\n     </defs>\r\n     <g transform=\"translate(200.249229 162.540131)scale(0.12 -0.12)\">\r\n      <use xlink:href=\"#DejaVuSans-66\"/>\r\n     </g>\r\n    </g>\r\n   </g>\r\n   <g id=\"text_3\">\r\n    <g clip-path=\"url(#pbf210da0fe)\">\r\n     <!-- C -->\r\n     <defs>\r\n      <path d=\"M 64.40625 67.28125 \r\nL 64.40625 56.890625 \r\nQ 59.421875 61.53125 53.78125 63.8125 \r\nQ 48.140625 66.109375 41.796875 66.109375 \r\nQ 29.296875 66.109375 22.65625 58.46875 \r\nQ 16.015625 50.828125 16.015625 36.375 \r\nQ 16.015625 21.96875 22.65625 14.328125 \r\nQ 29.296875 6.6875 41.796875 6.6875 \r\nQ 48.140625 6.6875 53.78125 8.984375 \r\nQ 59.421875 11.28125 64.40625 15.921875 \r\nL 64.40625 5.609375 \r\nQ 59.234375 2.09375 53.4375 0.328125 \r\nQ 47.65625 -1.421875 41.21875 -1.421875 \r\nQ 24.65625 -1.421875 15.125 8.703125 \r\nQ 5.609375 18.84375 5.609375 36.375 \r\nQ 5.609375 53.953125 15.125 64.078125 \r\nQ 24.65625 74.21875 41.21875 74.21875 \r\nQ 47.75 74.21875 53.53125 72.484375 \r\nQ 59.328125 70.75 64.40625 67.28125 \r\nz\r\n\" id=\"DejaVuSans-67\"/>\r\n     </defs>\r\n     <g transform=\"translate(219.507441 20.394886)scale(0.12 -0.12)\">\r\n      <use xlink:href=\"#DejaVuSans-67\"/>\r\n     </g>\r\n    </g>\r\n   </g>\r\n   <g id=\"text_4\">\r\n    <g clip-path=\"url(#pbf210da0fe)\">\r\n     <!-- D -->\r\n     <defs>\r\n      <path d=\"M 19.671875 64.796875 \r\nL 19.671875 8.109375 \r\nL 31.59375 8.109375 \r\nQ 46.6875 8.109375 53.6875 14.9375 \r\nQ 60.6875 21.78125 60.6875 36.53125 \r\nQ 60.6875 51.171875 53.6875 57.984375 \r\nQ 46.6875 64.796875 31.59375 64.796875 \r\nz\r\nM 9.8125 72.90625 \r\nL 30.078125 72.90625 \r\nQ 51.265625 72.90625 61.171875 64.09375 \r\nQ 71.09375 55.28125 71.09375 36.53125 \r\nQ 71.09375 17.671875 61.125 8.828125 \r\nQ 51.171875 0 30.078125 0 \r\nL 9.8125 0 \r\nz\r\n\" id=\"DejaVuSans-68\"/>\r\n     </defs>\r\n     <g transform=\"translate(107.146891 99.299134)scale(0.12 -0.12)\">\r\n      <use xlink:href=\"#DejaVuSans-68\"/>\r\n     </g>\r\n    </g>\r\n   </g>\r\n   <g id=\"text_5\">\r\n    <g clip-path=\"url(#pbf210da0fe)\">\r\n     <!-- E -->\r\n     <defs>\r\n      <path d=\"M 9.8125 72.90625 \r\nL 55.90625 72.90625 \r\nL 55.90625 64.59375 \r\nL 19.671875 64.59375 \r\nL 19.671875 43.015625 \r\nL 54.390625 43.015625 \r\nL 54.390625 34.71875 \r\nL 19.671875 34.71875 \r\nL 19.671875 8.296875 \r\nL 56.78125 8.296875 \r\nL 56.78125 0 \r\nL 9.8125 0 \r\nz\r\n\" id=\"DejaVuSans-69\"/>\r\n     </defs>\r\n     <g transform=\"translate(18.626932 218.067614)scale(0.12 -0.12)\">\r\n      <use xlink:href=\"#DejaVuSans-69\"/>\r\n     </g>\r\n    </g>\r\n   </g>\r\n  </g>\r\n </g>\r\n <defs>\r\n  <clipPath id=\"pbf210da0fe\">\r\n   <rect height=\"217.44\" width=\"334.8\" x=\"7.2\" y=\"7.2\"/>\r\n  </clipPath>\r\n </defs>\r\n</svg>\r\n",
      "image/png": "[encoded data removed]"
     },
     "metadata": {}
    }
   ],
   "source": [
    "G = nx.Graph()\n",
    "G.add_edges_from(edges)\n",
    "G.add_nodes_from(add_nodes)\n",
    "\n",
    "pos = nx.layout.spring_layout(G)\n",
    "nx.draw_networkx(G, pos=pos, node_size=500, node_color='grey')"
   ]
  },
  {
   "cell_type": "code",
   "execution_count": 192,
   "metadata": {},
   "outputs": [
    {
     "output_type": "stream",
     "name": "stdout",
     "text": "nodes 5\nedges 8\naverage_degree 3.2\ndiameter 2\naverage_clustering_coefficient 0.843\n"
    }
   ],
   "source": [
    "# print(nx.info(G))\n",
    "network_properties = { \n",
    "    'nodes': G.order(), \n",
    "    'edges': G.size(),\n",
    "    'average_degree': float(format(2 * G.size()/G.order(),'.3f')),\n",
    "    'diameter': distance_measures.diameter(G), \n",
    "    'average_clustering_coefficient': approximation.average_clustering(G)\n",
    "    }\n",
    "\n",
    "for k,v in network_properties.items():\n",
    "    print(k,v)"
   ]
  },
  {
   "cell_type": "code",
   "execution_count": 193,
   "metadata": {},
   "outputs": [],
   "source": [
    "def get_df(measure, column_name):\n",
    "    return pd.DataFrame(dict(measure).items(), columns=['node', column_name])\n",
    "\n",
    "def add_measure(df, measure,column_name): \n",
    "    temp = df.join(get_df(measure,column_name),lsuffix='',rsuffix='_r')\n",
    "    return temp.drop(columns=temp.columns[temp.columns.str.endswith('_r')])"
   ]
  },
  {
   "cell_type": "code",
   "execution_count": 194,
   "metadata": {},
   "outputs": [
    {
     "output_type": "execute_result",
     "data": {
      "text/plain": "  node\n0    A\n1    B\n2    C\n3    D\n4    E",
      "text/html": "<div>\n<style scoped>\n    .dataframe tbody tr th:only-of-type {\n        vertical-align: middle;\n    }\n\n    .dataframe tbody tr th {\n        vertical-align: top;\n    }\n\n    .dataframe thead th {\n        text-align: right;\n    }\n</style>\n<table border=\"1\" class=\"dataframe\">\n  <thead>\n    <tr style=\"text-align: right;\">\n      <th></th>\n      <th>node</th>\n    </tr>\n  </thead>\n  <tbody>\n    <tr>\n      <th>0</th>\n      <td>A</td>\n    </tr>\n    <tr>\n      <th>1</th>\n      <td>B</td>\n    </tr>\n    <tr>\n      <th>2</th>\n      <td>C</td>\n    </tr>\n    <tr>\n      <th>3</th>\n      <td>D</td>\n    </tr>\n    <tr>\n      <th>4</th>\n      <td>E</td>\n    </tr>\n  </tbody>\n</table>\n</div>"
     },
     "metadata": {},
     "execution_count": 194
    }
   ],
   "source": [
    "df_measures = pd.DataFrame(list(G.nodes()), columns=['node'])\n",
    "df_measures"
   ]
  },
  {
   "cell_type": "markdown",
   "metadata": {},
   "source": [
    "# add measures \n",
    "\n",
    "* clustering coefficient \n",
    "* degree\n",
    "* degree centrality \n",
    "* closenness cenrality \n",
    "* betweenness cenrality "
   ]
  },
  {
   "cell_type": "code",
   "execution_count": 195,
   "metadata": {},
   "outputs": [],
   "source": [
    "df_measures = add_measure(df_measures, nx.clustering(G), 'clustring')\n",
    "df_measures = add_measure(df_measures, nx.degree(G), 'degree')\n",
    "df_measures = add_measure(df_measures, centrality.degree_centrality(G), 'degree_centrality')\n",
    "df_measures = add_measure(df_measures, centrality.closeness_centrality(G), 'closeness_centrality')\n",
    "df_measures['closeness_inv'] = 1/df_measures['closeness_centrality']\n",
    "df_measures = add_measure(df_measures, centrality.betweenness_centrality(G, normalized=False), 'betweenness')\n",
    "df_measures = add_measure(df_measures, centrality.betweenness_centrality(G, normalized=True), 'betweenness_centrality')\n",
    "df_measures = add_measure(df_measures, core.core_number(G), 'core')\n"
   ]
  },
  {
   "cell_type": "code",
   "execution_count": 196,
   "metadata": {},
   "outputs": [
    {
     "output_type": "execute_result",
     "data": {
      "text/plain": "  node  clustring  degree  degree_centrality  closeness_centrality  \\\n0    A   1.000000       3               0.75              0.800000   \n1    B   0.666667       4               1.00              1.000000   \n2    C   1.000000       3               0.75              0.800000   \n3    D   0.666667       4               1.00              1.000000   \n4    E   1.000000       2               0.50              0.666667   \n\n   closeness_inv  betweenness  betweenness_centrality  core  \n0           1.25          0.0                0.000000     3  \n1           1.00          1.0                0.166667     3  \n2           1.25          0.0                0.000000     3  \n3           1.00          1.0                0.166667     3  \n4           1.50          0.0                0.000000     2  ",
      "text/html": "<div>\n<style scoped>\n    .dataframe tbody tr th:only-of-type {\n        vertical-align: middle;\n    }\n\n    .dataframe tbody tr th {\n        vertical-align: top;\n    }\n\n    .dataframe thead th {\n        text-align: right;\n    }\n</style>\n<table border=\"1\" class=\"dataframe\">\n  <thead>\n    <tr style=\"text-align: right;\">\n      <th></th>\n      <th>node</th>\n      <th>clustring</th>\n      <th>degree</th>\n      <th>degree_centrality</th>\n      <th>closeness_centrality</th>\n      <th>closeness_inv</th>\n      <th>betweenness</th>\n      <th>betweenness_centrality</th>\n      <th>core</th>\n    </tr>\n  </thead>\n  <tbody>\n    <tr>\n      <th>0</th>\n      <td>A</td>\n      <td>1.000000</td>\n      <td>3</td>\n      <td>0.75</td>\n      <td>0.800000</td>\n      <td>1.25</td>\n      <td>0.0</td>\n      <td>0.000000</td>\n      <td>3</td>\n    </tr>\n    <tr>\n      <th>1</th>\n      <td>B</td>\n      <td>0.666667</td>\n      <td>4</td>\n      <td>1.00</td>\n      <td>1.000000</td>\n      <td>1.00</td>\n      <td>1.0</td>\n      <td>0.166667</td>\n      <td>3</td>\n    </tr>\n    <tr>\n      <th>2</th>\n      <td>C</td>\n      <td>1.000000</td>\n      <td>3</td>\n      <td>0.75</td>\n      <td>0.800000</td>\n      <td>1.25</td>\n      <td>0.0</td>\n      <td>0.000000</td>\n      <td>3</td>\n    </tr>\n    <tr>\n      <th>3</th>\n      <td>D</td>\n      <td>0.666667</td>\n      <td>4</td>\n      <td>1.00</td>\n      <td>1.000000</td>\n      <td>1.00</td>\n      <td>1.0</td>\n      <td>0.166667</td>\n      <td>3</td>\n    </tr>\n    <tr>\n      <th>4</th>\n      <td>E</td>\n      <td>1.000000</td>\n      <td>2</td>\n      <td>0.50</td>\n      <td>0.666667</td>\n      <td>1.50</td>\n      <td>0.0</td>\n      <td>0.000000</td>\n      <td>2</td>\n    </tr>\n  </tbody>\n</table>\n</div>"
     },
     "metadata": {},
     "execution_count": 196
    }
   ],
   "source": [
    "add_measure(df_measures, centrality.closeness_centrality(G), 'closeness_centrality')"
   ]
  },
  {
   "cell_type": "markdown",
   "metadata": {},
   "source": [
    "The core number of a node is the largest value k of a k-core containing that node."
   ]
  },
  {
   "cell_type": "markdown",
   "metadata": {},
   "source": [
    "# find all cliques and maximal cliques "
   ]
  },
  {
   "cell_type": "code",
   "execution_count": 197,
   "metadata": {},
   "outputs": [
    {
     "output_type": "stream",
     "name": "stdout",
     "text": "maximal cliques\n['BDE', 'ABCD']\n"
    }
   ],
   "source": [
    "\n",
    "maximal_cliques = [''.join(sorted(c)) for c in clique.find_cliques(G)]\n",
    "print('maximal cliques')\n",
    "print(maximal_cliques)"
   ]
  },
  {
   "cell_type": "code",
   "execution_count": 198,
   "metadata": {},
   "outputs": [
    {
     "output_type": "execute_result",
     "data": {
      "text/plain": "   clique_size   clique_list clique  maximal_clique\n4            3     [B, D, E]    BDE            True\n5            4  [A, B, C, D]   ABCD            True",
      "text/html": "<div>\n<style scoped>\n    .dataframe tbody tr th:only-of-type {\n        vertical-align: middle;\n    }\n\n    .dataframe tbody tr th {\n        vertical-align: top;\n    }\n\n    .dataframe thead th {\n        text-align: right;\n    }\n</style>\n<table border=\"1\" class=\"dataframe\">\n  <thead>\n    <tr style=\"text-align: right;\">\n      <th></th>\n      <th>clique_size</th>\n      <th>clique_list</th>\n      <th>clique</th>\n      <th>maximal_clique</th>\n    </tr>\n  </thead>\n  <tbody>\n    <tr>\n      <th>4</th>\n      <td>3</td>\n      <td>[B, D, E]</td>\n      <td>BDE</td>\n      <td>True</td>\n    </tr>\n    <tr>\n      <th>5</th>\n      <td>4</td>\n      <td>[A, B, C, D]</td>\n      <td>ABCD</td>\n      <td>True</td>\n    </tr>\n  </tbody>\n</table>\n</div>"
     },
     "metadata": {},
     "execution_count": 198
    }
   ],
   "source": [
    "df_cliques = pd.DataFrame([(len(c), sorted(c), ''.join(sorted(c))) for c in clique.enumerate_all_cliques(G) if len(c) > 2], columns=['clique_size', 'clique_list', 'clique'])\n",
    "df_cliques['maximal_clique'] = df_cliques.clique.isin(maximal_cliques)\n",
    "df_cliques.query( \"maximal_clique == True\")"
   ]
  },
  {
   "cell_type": "code",
   "execution_count": 199,
   "metadata": {},
   "outputs": [
    {
     "output_type": "execute_result",
     "data": {
      "text/plain": "   clique_size clique_list clique  maximal_clique\n0            3   [A, B, C]    ABC           False\n1            3   [A, B, D]    ABD           False\n2            3   [A, C, D]    ACD           False\n3            3   [B, C, D]    BCD           False\n4            3   [B, D, E]    BDE            True",
      "text/html": "<div>\n<style scoped>\n    .dataframe tbody tr th:only-of-type {\n        vertical-align: middle;\n    }\n\n    .dataframe tbody tr th {\n        vertical-align: top;\n    }\n\n    .dataframe thead th {\n        text-align: right;\n    }\n</style>\n<table border=\"1\" class=\"dataframe\">\n  <thead>\n    <tr style=\"text-align: right;\">\n      <th></th>\n      <th>clique_size</th>\n      <th>clique_list</th>\n      <th>clique</th>\n      <th>maximal_clique</th>\n    </tr>\n  </thead>\n  <tbody>\n    <tr>\n      <th>0</th>\n      <td>3</td>\n      <td>[A, B, C]</td>\n      <td>ABC</td>\n      <td>False</td>\n    </tr>\n    <tr>\n      <th>1</th>\n      <td>3</td>\n      <td>[A, B, D]</td>\n      <td>ABD</td>\n      <td>False</td>\n    </tr>\n    <tr>\n      <th>2</th>\n      <td>3</td>\n      <td>[A, C, D]</td>\n      <td>ACD</td>\n      <td>False</td>\n    </tr>\n    <tr>\n      <th>3</th>\n      <td>3</td>\n      <td>[B, C, D]</td>\n      <td>BCD</td>\n      <td>False</td>\n    </tr>\n    <tr>\n      <th>4</th>\n      <td>3</td>\n      <td>[B, D, E]</td>\n      <td>BDE</td>\n      <td>True</td>\n    </tr>\n  </tbody>\n</table>\n</div>"
     },
     "metadata": {},
     "execution_count": 199
    }
   ],
   "source": [
    "df_cliques.query('clique_size == 3')"
   ]
  },
  {
   "cell_type": "markdown",
   "metadata": {},
   "source": [
    "# k-core"
   ]
  },
  {
   "cell_type": "code",
   "execution_count": 200,
   "metadata": {},
   "outputs": [
    {
     "output_type": "stream",
     "name": "stdout",
     "text": "maximal k-core with k =  3 :  ABCD\n"
    }
   ],
   "source": [
    "print('maximal k-core with k = ', max(df_measures.core), ': ', ''.join(sorted([k for k in core.k_core(G)])))"
   ]
  },
  {
   "cell_type": "code",
   "execution_count": 201,
   "metadata": {},
   "outputs": [
    {
     "output_type": "execute_result",
     "data": {
      "text/plain": "'ABCDE'"
     },
     "metadata": {},
     "execution_count": 201
    }
   ],
   "source": [
    "k = 2\n",
    "''.join(sorted(df_measures.query(f'core >= {k}')['node']))"
   ]
  },
  {
   "cell_type": "code",
   "execution_count": 202,
   "metadata": {},
   "outputs": [
    {
     "output_type": "execute_result",
     "data": {
      "text/plain": "[]"
     },
     "metadata": {},
     "execution_count": 202
    }
   ],
   "source": [
    "[c for c in nx.isolates(G)]"
   ]
  },
  {
   "cell_type": "markdown",
   "metadata": {},
   "source": [
    "# network traversal: BFS and DFS"
   ]
  },
  {
   "cell_type": "code",
   "execution_count": 203,
   "metadata": {},
   "outputs": [],
   "source": [
    "start_node = 'A'"
   ]
  },
  {
   "cell_type": "code",
   "execution_count": 204,
   "metadata": {},
   "outputs": [
    {
     "output_type": "stream",
     "name": "stdout",
     "text": "BFS traversal start at A:  A B C D E\n"
    }
   ],
   "source": [
    "print(f'BFS traversal start at {start_node}: ', ' '.join([b for b in traversal.bfs_tree(G, start_node)]))"
   ]
  },
  {
   "cell_type": "code",
   "execution_count": 205,
   "metadata": {},
   "outputs": [
    {
     "output_type": "stream",
     "name": "stdout",
     "text": "DFS traversal start at A:  A B C D E\n"
    }
   ],
   "source": [
    "print(f'DFS traversal start at {start_node}: ', ' '.join([b for b in traversal.dfs_tree(G, start_node)]))"
   ]
  },
  {
   "cell_type": "markdown",
   "metadata": {},
   "source": [
    "Edge Betweenness "
   ]
  },
  {
   "cell_type": "code",
   "execution_count": 206,
   "metadata": {},
   "outputs": [
    {
     "output_type": "execute_result",
     "data": {
      "text/plain": "[('A', 'B'),\n ('A', 'C'),\n ('A', 'D'),\n ('B', 'C'),\n ('B', 'D'),\n ('B', 'E'),\n ('C', 'D'),\n ('D', 'E')]"
     },
     "metadata": {},
     "execution_count": 206
    }
   ],
   "source": [
    "[e for e in traversal.edge_bfs(G, 'A')]"
   ]
  },
  {
   "cell_type": "markdown",
   "metadata": {},
   "source": [
    "# shortest paths"
   ]
  },
  {
   "cell_type": "code",
   "execution_count": 207,
   "metadata": {},
   "outputs": [
    {
     "output_type": "stream",
     "name": "stdout",
     "text": "0 A\nupdate diameter\n1 B\n\n2 C\n\n3 D\n\n4 E\n\n"
    }
   ],
   "source": [
    "nodes_list = list(G.nodes)\n",
    "\n",
    "diameter = 0\n",
    "diameter_path = None\n",
    "all_shortest_paths = []\n",
    "for i, start_n in enumerate(G.nodes): \n",
    "    print(i, start_n)\n",
    "    nodes_list.pop(0) # remove current node from nodes list\n",
    "    str = \"\"\n",
    "\n",
    "    diameter_updated = False\n",
    "    for j, target_n in enumerate(nodes_list):\n",
    "        # shortest_path = nx.dijkstra_path(G, source=start_n, target=target_n)\n",
    "        shortest_path = shortest_paths.all_shortest_paths(G, source=start_n, target=target_n)\n",
    "        shortest_path = [''.join(sp) for sp in shortest_path]\n",
    "        shortest_path_length = nx.dijkstra_path_length(G, source=start_n, target=target_n)\n",
    "        # str = str + f\"({j}, {target_n}, {'-'.join(shortest_path)}, {shortest_path_length})\"\n",
    "        all_shortest_paths.append((start_n, target_n, shortest_path, shortest_path_length, len(shortest_path)))\n",
    "        if shortest_path_length > diameter:\n",
    "            diameter = shortest_path_length\n",
    "            diameter_path = shortest_path\n",
    "            diameter_updated = True\n",
    "    # print(str)\n",
    "    print(f\"{'update diameter' if diameter_updated else ''}\")\n",
    "\n",
    "shortest_paths_df = pd.DataFrame(all_shortest_paths, columns=['from', 'to', 'geodesic', 'length', 'count'])"
   ]
  },
  {
   "cell_type": "markdown",
   "metadata": {},
   "source": [
    "## potential local bridges"
   ]
  },
  {
   "cell_type": "code",
   "execution_count": 208,
   "metadata": {},
   "outputs": [
    {
     "output_type": "stream",
     "name": "stdout",
     "text": "potential local bridges, if span > 2\n"
    },
    {
     "output_type": "execute_result",
     "data": {
      "text/plain": "  from to geodesic  length  count\n0    A  B     [AB]       1      1\n1    A  C     [AC]       1      1\n2    A  D     [AD]       1      1\n4    B  C     [BC]       1      1\n5    B  D     [BD]       1      1\n6    B  E     [BE]       1      1\n7    C  D     [CD]       1      1\n9    D  E     [DE]       1      1",
      "text/html": "<div>\n<style scoped>\n    .dataframe tbody tr th:only-of-type {\n        vertical-align: middle;\n    }\n\n    .dataframe tbody tr th {\n        vertical-align: top;\n    }\n\n    .dataframe thead th {\n        text-align: right;\n    }\n</style>\n<table border=\"1\" class=\"dataframe\">\n  <thead>\n    <tr style=\"text-align: right;\">\n      <th></th>\n      <th>from</th>\n      <th>to</th>\n      <th>geodesic</th>\n      <th>length</th>\n      <th>count</th>\n    </tr>\n  </thead>\n  <tbody>\n    <tr>\n      <th>0</th>\n      <td>A</td>\n      <td>B</td>\n      <td>[AB]</td>\n      <td>1</td>\n      <td>1</td>\n    </tr>\n    <tr>\n      <th>1</th>\n      <td>A</td>\n      <td>C</td>\n      <td>[AC]</td>\n      <td>1</td>\n      <td>1</td>\n    </tr>\n    <tr>\n      <th>2</th>\n      <td>A</td>\n      <td>D</td>\n      <td>[AD]</td>\n      <td>1</td>\n      <td>1</td>\n    </tr>\n    <tr>\n      <th>4</th>\n      <td>B</td>\n      <td>C</td>\n      <td>[BC]</td>\n      <td>1</td>\n      <td>1</td>\n    </tr>\n    <tr>\n      <th>5</th>\n      <td>B</td>\n      <td>D</td>\n      <td>[BD]</td>\n      <td>1</td>\n      <td>1</td>\n    </tr>\n    <tr>\n      <th>6</th>\n      <td>B</td>\n      <td>E</td>\n      <td>[BE]</td>\n      <td>1</td>\n      <td>1</td>\n    </tr>\n    <tr>\n      <th>7</th>\n      <td>C</td>\n      <td>D</td>\n      <td>[CD]</td>\n      <td>1</td>\n      <td>1</td>\n    </tr>\n    <tr>\n      <th>9</th>\n      <td>D</td>\n      <td>E</td>\n      <td>[DE]</td>\n      <td>1</td>\n      <td>1</td>\n    </tr>\n  </tbody>\n</table>\n</div>"
     },
     "metadata": {},
     "execution_count": 208
    }
   ],
   "source": [
    "print('potential local bridges, if span > 2')\n",
    "shortest_paths_df.query('length == 1')"
   ]
  },
  {
   "cell_type": "code",
   "execution_count": 209,
   "metadata": {},
   "outputs": [
    {
     "output_type": "execute_result",
     "data": {
      "text/plain": "False"
     },
     "metadata": {},
     "execution_count": 209
    }
   ],
   "source": [
    "has_bridges(G)"
   ]
  },
  {
   "cell_type": "code",
   "execution_count": 210,
   "metadata": {},
   "outputs": [],
   "source": [
    "# G_bridges = [b for b in bridges(G)]\n",
    "df_local_bridges = pd.DataFrame([b for b in local_bridges(G)], columns=['from', 'to', 'span'])"
   ]
  },
  {
   "cell_type": "markdown",
   "metadata": {},
   "source": [
    "## detecting bridges and local bridges \n",
    "\n",
    "definitins: \n",
    "* a-b is bridge -> graph disconnects if a-b is removed \n",
    "* a-b is local bridge -> there is another path between a-b with span > 2 and not other common connected nodes. \n",
    "\n",
    "`local_bridges()`: \n",
    "\n",
    "A local bridge is an edge whose endpoints have no common neighbors. That is, the edge is not part of a triangle in the graph.\n",
    "The span of a local bridge is the shortest path length between the endpoints if the local bridge is removed.\n",
    "\n",
    "in result of `local_bridges()`, if `span is inf`, then this global bridge, that is graph will disconnect if edge removed. "
   ]
  },
  {
   "cell_type": "code",
   "execution_count": 211,
   "metadata": {},
   "outputs": [
    {
     "output_type": "stream",
     "name": "stdout",
     "text": "local bridges, alternate span inf > means a bridge, will disconnect network if removed \nEmpty DataFrame\nColumns: [from, to, span]\nIndex: []\n"
    }
   ],
   "source": [
    "print('local bridges, alternate span inf > means a bridge, will disconnect network if removed ')\n",
    "print(df_local_bridges)"
   ]
  },
  {
   "cell_type": "markdown",
   "metadata": {},
   "source": [
    "# Isomorphism "
   ]
  },
  {
   "cell_type": "code",
   "execution_count": 212,
   "metadata": {},
   "outputs": [],
   "source": [
    "g2_filename = 'edges\\isomorphism_g2.txt'\n",
    "df_edges2 = pd.read_csv(g2_filename, sep=':', header=None, names=['from', 'to_list'])\n",
    "df_edges2['to_list_split'] = df_edges2.to_list.str.strip().str.split(',')\n",
    "df_edges2 = df_edges2.explode('to_list_split')\n",
    "df_edges2['from'] = df_edges2['from'].astype('str')\n",
    "add_nodes2 = df_edges2['from'][df_edges2.to_list_split.isna()]\n",
    "df_edges2.drop(list(add_nodes2.index), inplace=True)\n",
    "edges2 = [tuple(e) for e in df_edges2[['from','to_list_split']].to_records(index=False)]\n",
    "G2 = nx.Graph()\n",
    "G2.add_edges_from(edges2)\n",
    "G2.add_nodes_from(add_nodes2)"
   ]
  },
  {
   "cell_type": "code",
   "execution_count": 213,
   "metadata": {},
   "outputs": [
    {
     "output_type": "display_data",
     "data": {
      "text/plain": "<Figure size 432x288 with 1 Axes>",
      "image/svg+xml": "<?xml version=\"1.0\" encoding=\"utf-8\" standalone=\"no\"?>\r\n<!DOCTYPE svg PUBLIC \"-//W3C//DTD SVG 1.1//EN\"\r\n  \"http://www.w3.org/Graphics/SVG/1.1/DTD/svg11.dtd\">\r\n<!-- Created with matplotlib (https://matplotlib.org/) -->\r\n<svg height=\"231.84pt\" version=\"1.1\" viewBox=\"0 0 349.2 231.84\" width=\"349.2pt\" xmlns=\"http://www.w3.org/2000/svg\" xmlns:xlink=\"http://www.w3.org/1999/xlink\">\r\n <defs>\r\n  <style type=\"text/css\">\r\n*{stroke-linecap:butt;stroke-linejoin:round;}\r\n  </style>\r\n </defs>\r\n <g id=\"figure_1\">\r\n  <g id=\"patch_1\">\r\n   <path d=\"M 0 231.84 \r\nL 349.2 231.84 \r\nL 349.2 0 \r\nL 0 0 \r\nz\r\n\" style=\"fill:none;\"/>\r\n  </g>\r\n  <g id=\"axes_1\">\r\n   <g id=\"patch_2\">\r\n    <path d=\"M 7.2 224.64 \r\nL 342 224.64 \r\nL 342 7.2 \r\nL 7.2 7.2 \r\nz\r\n\" style=\"fill:#ffffff;\"/>\r\n   </g>\r\n   <g id=\"LineCollection_1\">\r\n    <path clip-path=\"url(#p9d3859620a)\" d=\"M 22.418182 108.212391 \r\nL 326.781818 23.463099 \r\n\" style=\"fill:none;stroke:#000000;\"/>\r\n    <path clip-path=\"url(#p9d3859620a)\" d=\"M 22.418182 108.212391 \r\nL 287.232365 114.04033 \r\n\" style=\"fill:none;stroke:#000000;\"/>\r\n    <path clip-path=\"url(#p9d3859620a)\" d=\"M 22.418182 108.212391 \r\nL 31.881297 17.083636 \r\n\" style=\"fill:none;stroke:#000000;\"/>\r\n    <path clip-path=\"url(#p9d3859620a)\" d=\"M 22.418182 108.212391 \r\nL 126.788512 214.756364 \r\n\" style=\"fill:none;stroke:#000000;\"/>\r\n    <path clip-path=\"url(#p9d3859620a)\" d=\"M 326.781818 23.463099 \r\nL 31.881297 17.083636 \r\n\" style=\"fill:none;stroke:#000000;\"/>\r\n    <path clip-path=\"url(#p9d3859620a)\" d=\"M 326.781818 23.463099 \r\nL 287.232365 114.04033 \r\n\" style=\"fill:none;stroke:#000000;\"/>\r\n    <path clip-path=\"url(#p9d3859620a)\" d=\"M 287.232365 114.04033 \r\nL 126.788512 214.756364 \r\n\" style=\"fill:none;stroke:#000000;\"/>\r\n    <path clip-path=\"url(#p9d3859620a)\" d=\"M 287.232365 114.04033 \r\nL 31.881297 17.083636 \r\n\" style=\"fill:none;stroke:#000000;\"/>\r\n   </g>\r\n   <g id=\"matplotlib.axis_1\">\r\n    <g id=\"xtick_1\"/>\r\n    <g id=\"xtick_2\"/>\r\n    <g id=\"xtick_3\"/>\r\n    <g id=\"xtick_4\"/>\r\n    <g id=\"xtick_5\"/>\r\n    <g id=\"xtick_6\"/>\r\n    <g id=\"xtick_7\"/>\r\n    <g id=\"xtick_8\"/>\r\n   </g>\r\n   <g id=\"matplotlib.axis_2\">\r\n    <g id=\"ytick_1\"/>\r\n    <g id=\"ytick_2\"/>\r\n    <g id=\"ytick_3\"/>\r\n    <g id=\"ytick_4\"/>\r\n    <g id=\"ytick_5\"/>\r\n    <g id=\"ytick_6\"/>\r\n    <g id=\"ytick_7\"/>\r\n   </g>\r\n   <g id=\"PathCollection_1\">\r\n    <defs>\r\n     <path d=\"M 0 11.18034 \r\nC 2.965061 11.18034 5.80908 10.002309 7.905694 7.905694 \r\nC 10.002309 5.80908 11.18034 2.965061 11.18034 0 \r\nC 11.18034 -2.965061 10.002309 -5.80908 7.905694 -7.905694 \r\nC 5.80908 -10.002309 2.965061 -11.18034 0 -11.18034 \r\nC -2.965061 -11.18034 -5.80908 -10.002309 -7.905694 -7.905694 \r\nC -10.002309 -5.80908 -11.18034 -2.965061 -11.18034 0 \r\nC -11.18034 2.965061 -10.002309 5.80908 -7.905694 7.905694 \r\nC -5.80908 10.002309 -2.965061 11.18034 0 11.18034 \r\nz\r\n\" id=\"m6674dfd488\" style=\"stroke:#808080;\"/>\r\n    </defs>\r\n    <g clip-path=\"url(#p9d3859620a)\">\r\n     <use style=\"fill:#808080;stroke:#808080;\" x=\"22.418182\" xlink:href=\"#m6674dfd488\" y=\"108.212391\"/>\r\n     <use style=\"fill:#808080;stroke:#808080;\" x=\"326.781818\" xlink:href=\"#m6674dfd488\" y=\"23.463099\"/>\r\n     <use style=\"fill:#808080;stroke:#808080;\" x=\"287.232365\" xlink:href=\"#m6674dfd488\" y=\"114.04033\"/>\r\n     <use style=\"fill:#808080;stroke:#808080;\" x=\"31.881297\" xlink:href=\"#m6674dfd488\" y=\"17.083636\"/>\r\n     <use style=\"fill:#808080;stroke:#808080;\" x=\"126.788512\" xlink:href=\"#m6674dfd488\" y=\"214.756364\"/>\r\n    </g>\r\n   </g>\r\n   <g id=\"patch_3\">\r\n    <path d=\"M 7.2 224.64 \r\nL 7.2 7.2 \r\n\" style=\"fill:none;stroke:#000000;stroke-linecap:square;stroke-linejoin:miter;stroke-width:0.8;\"/>\r\n   </g>\r\n   <g id=\"patch_4\">\r\n    <path d=\"M 342 224.64 \r\nL 342 7.2 \r\n\" style=\"fill:none;stroke:#000000;stroke-linecap:square;stroke-linejoin:miter;stroke-width:0.8;\"/>\r\n   </g>\r\n   <g id=\"patch_5\">\r\n    <path d=\"M 7.2 224.64 \r\nL 342 224.64 \r\n\" style=\"fill:none;stroke:#000000;stroke-linecap:square;stroke-linejoin:miter;stroke-width:0.8;\"/>\r\n   </g>\r\n   <g id=\"patch_6\">\r\n    <path d=\"M 7.2 7.2 \r\nL 342 7.2 \r\n\" style=\"fill:none;stroke:#000000;stroke-linecap:square;stroke-linejoin:miter;stroke-width:0.8;\"/>\r\n   </g>\r\n   <g id=\"text_1\">\r\n    <g clip-path=\"url(#p9d3859620a)\">\r\n     <!-- a -->\r\n     <defs>\r\n      <path d=\"M 34.28125 27.484375 \r\nQ 23.390625 27.484375 19.1875 25 \r\nQ 14.984375 22.515625 14.984375 16.5 \r\nQ 14.984375 11.71875 18.140625 8.90625 \r\nQ 21.296875 6.109375 26.703125 6.109375 \r\nQ 34.1875 6.109375 38.703125 11.40625 \r\nQ 43.21875 16.703125 43.21875 25.484375 \r\nL 43.21875 27.484375 \r\nz\r\nM 52.203125 31.203125 \r\nL 52.203125 0 \r\nL 43.21875 0 \r\nL 43.21875 8.296875 \r\nQ 40.140625 3.328125 35.546875 0.953125 \r\nQ 30.953125 -1.421875 24.3125 -1.421875 \r\nQ 15.921875 -1.421875 10.953125 3.296875 \r\nQ 6 8.015625 6 15.921875 \r\nQ 6 25.140625 12.171875 29.828125 \r\nQ 18.359375 34.515625 30.609375 34.515625 \r\nL 43.21875 34.515625 \r\nL 43.21875 35.40625 \r\nQ 43.21875 41.609375 39.140625 45 \r\nQ 35.0625 48.390625 27.6875 48.390625 \r\nQ 23 48.390625 18.546875 47.265625 \r\nQ 14.109375 46.140625 10.015625 43.890625 \r\nL 10.015625 52.203125 \r\nQ 14.9375 54.109375 19.578125 55.046875 \r\nQ 24.21875 56 28.609375 56 \r\nQ 40.484375 56 46.34375 49.84375 \r\nQ 52.203125 43.703125 52.203125 31.203125 \r\nz\r\n\" id=\"DejaVuSans-97\"/>\r\n     </defs>\r\n     <g transform=\"translate(18.741307 111.523641)scale(0.12 -0.12)\">\r\n      <use xlink:href=\"#DejaVuSans-97\"/>\r\n     </g>\r\n    </g>\r\n   </g>\r\n   <g id=\"text_2\">\r\n    <g clip-path=\"url(#p9d3859620a)\">\r\n     <!-- b -->\r\n     <defs>\r\n      <path d=\"M 48.6875 27.296875 \r\nQ 48.6875 37.203125 44.609375 42.84375 \r\nQ 40.53125 48.484375 33.40625 48.484375 \r\nQ 26.265625 48.484375 22.1875 42.84375 \r\nQ 18.109375 37.203125 18.109375 27.296875 \r\nQ 18.109375 17.390625 22.1875 11.75 \r\nQ 26.265625 6.109375 33.40625 6.109375 \r\nQ 40.53125 6.109375 44.609375 11.75 \r\nQ 48.6875 17.390625 48.6875 27.296875 \r\nz\r\nM 18.109375 46.390625 \r\nQ 20.953125 51.265625 25.265625 53.625 \r\nQ 29.59375 56 35.59375 56 \r\nQ 45.5625 56 51.78125 48.09375 \r\nQ 58.015625 40.1875 58.015625 27.296875 \r\nQ 58.015625 14.40625 51.78125 6.484375 \r\nQ 45.5625 -1.421875 35.59375 -1.421875 \r\nQ 29.59375 -1.421875 25.265625 0.953125 \r\nQ 20.953125 3.328125 18.109375 8.203125 \r\nL 18.109375 0 \r\nL 9.078125 0 \r\nL 9.078125 75.984375 \r\nL 18.109375 75.984375 \r\nz\r\n\" id=\"DejaVuSans-98\"/>\r\n     </defs>\r\n     <g transform=\"translate(322.972756 26.774349)scale(0.12 -0.12)\">\r\n      <use xlink:href=\"#DejaVuSans-98\"/>\r\n     </g>\r\n    </g>\r\n   </g>\r\n   <g id=\"text_3\">\r\n    <g clip-path=\"url(#p9d3859620a)\">\r\n     <!-- e -->\r\n     <defs>\r\n      <path d=\"M 56.203125 29.59375 \r\nL 56.203125 25.203125 \r\nL 14.890625 25.203125 \r\nQ 15.484375 15.921875 20.484375 11.0625 \r\nQ 25.484375 6.203125 34.421875 6.203125 \r\nQ 39.59375 6.203125 44.453125 7.46875 \r\nQ 49.3125 8.734375 54.109375 11.28125 \r\nL 54.109375 2.78125 \r\nQ 49.265625 0.734375 44.1875 -0.34375 \r\nQ 39.109375 -1.421875 33.890625 -1.421875 \r\nQ 20.796875 -1.421875 13.15625 6.1875 \r\nQ 5.515625 13.8125 5.515625 26.8125 \r\nQ 5.515625 40.234375 12.765625 48.109375 \r\nQ 20.015625 56 32.328125 56 \r\nQ 43.359375 56 49.78125 48.890625 \r\nQ 56.203125 41.796875 56.203125 29.59375 \r\nz\r\nM 47.21875 32.234375 \r\nQ 47.125 39.59375 43.09375 43.984375 \r\nQ 39.0625 48.390625 32.421875 48.390625 \r\nQ 24.90625 48.390625 20.390625 44.140625 \r\nQ 15.875 39.890625 15.1875 32.171875 \r\nz\r\n\" id=\"DejaVuSans-101\"/>\r\n     </defs>\r\n     <g transform=\"translate(283.54049 117.35158)scale(0.12 -0.12)\">\r\n      <use xlink:href=\"#DejaVuSans-101\"/>\r\n     </g>\r\n    </g>\r\n   </g>\r\n   <g id=\"text_4\">\r\n    <g clip-path=\"url(#p9d3859620a)\">\r\n     <!-- d -->\r\n     <defs>\r\n      <path d=\"M 45.40625 46.390625 \r\nL 45.40625 75.984375 \r\nL 54.390625 75.984375 \r\nL 54.390625 0 \r\nL 45.40625 0 \r\nL 45.40625 8.203125 \r\nQ 42.578125 3.328125 38.25 0.953125 \r\nQ 33.9375 -1.421875 27.875 -1.421875 \r\nQ 17.96875 -1.421875 11.734375 6.484375 \r\nQ 5.515625 14.40625 5.515625 27.296875 \r\nQ 5.515625 40.1875 11.734375 48.09375 \r\nQ 17.96875 56 27.875 56 \r\nQ 33.9375 56 38.25 53.625 \r\nQ 42.578125 51.265625 45.40625 46.390625 \r\nz\r\nM 14.796875 27.296875 \r\nQ 14.796875 17.390625 18.875 11.75 \r\nQ 22.953125 6.109375 30.078125 6.109375 \r\nQ 37.203125 6.109375 41.296875 11.75 \r\nQ 45.40625 17.390625 45.40625 27.296875 \r\nQ 45.40625 37.203125 41.296875 42.84375 \r\nQ 37.203125 48.484375 30.078125 48.484375 \r\nQ 22.953125 48.484375 18.875 42.84375 \r\nQ 14.796875 37.203125 14.796875 27.296875 \r\nz\r\n\" id=\"DejaVuSans-100\"/>\r\n     </defs>\r\n     <g transform=\"translate(28.072235 20.394886)scale(0.12 -0.12)\">\r\n      <use xlink:href=\"#DejaVuSans-100\"/>\r\n     </g>\r\n    </g>\r\n   </g>\r\n   <g id=\"text_5\">\r\n    <g clip-path=\"url(#p9d3859620a)\">\r\n     <!-- c -->\r\n     <defs>\r\n      <path d=\"M 48.78125 52.59375 \r\nL 48.78125 44.1875 \r\nQ 44.96875 46.296875 41.140625 47.34375 \r\nQ 37.3125 48.390625 33.40625 48.390625 \r\nQ 24.65625 48.390625 19.8125 42.84375 \r\nQ 14.984375 37.3125 14.984375 27.296875 \r\nQ 14.984375 17.28125 19.8125 11.734375 \r\nQ 24.65625 6.203125 33.40625 6.203125 \r\nQ 37.3125 6.203125 41.140625 7.25 \r\nQ 44.96875 8.296875 48.78125 10.40625 \r\nL 48.78125 2.09375 \r\nQ 45.015625 0.34375 40.984375 -0.53125 \r\nQ 36.96875 -1.421875 32.421875 -1.421875 \r\nQ 20.0625 -1.421875 12.78125 6.34375 \r\nQ 5.515625 14.109375 5.515625 27.296875 \r\nQ 5.515625 40.671875 12.859375 48.328125 \r\nQ 20.21875 56 33.015625 56 \r\nQ 37.15625 56 41.109375 55.140625 \r\nQ 45.0625 54.296875 48.78125 52.59375 \r\nz\r\n\" id=\"DejaVuSans-99\"/>\r\n     </defs>\r\n     <g transform=\"translate(123.48945 218.067614)scale(0.12 -0.12)\">\r\n      <use xlink:href=\"#DejaVuSans-99\"/>\r\n     </g>\r\n    </g>\r\n   </g>\r\n  </g>\r\n </g>\r\n <defs>\r\n  <clipPath id=\"p9d3859620a\">\r\n   <rect height=\"217.44\" width=\"334.8\" x=\"7.2\" y=\"7.2\"/>\r\n  </clipPath>\r\n </defs>\r\n</svg>\r\n",
      "image/png": "[encoded data removed]"
     },
     "metadata": {}
    }
   ],
   "source": [
    "\n",
    "pos2 = nx.layout.spring_layout(G2)\n",
    "nx.draw_networkx(G2, pos=pos2, node_size=500, node_color='grey')"
   ]
  },
  {
   "cell_type": "code",
   "execution_count": 214,
   "metadata": {},
   "outputs": [
    {
     "output_type": "display_data",
     "data": {
      "text/plain": "<Figure size 432x288 with 1 Axes>",
      "image/svg+xml": "<?xml version=\"1.0\" encoding=\"utf-8\" standalone=\"no\"?>\r\n<!DOCTYPE svg PUBLIC \"-//W3C//DTD SVG 1.1//EN\"\r\n  \"http://www.w3.org/Graphics/SVG/1.1/DTD/svg11.dtd\">\r\n<!-- Created with matplotlib (https://matplotlib.org/) -->\r\n<svg height=\"231.84pt\" version=\"1.1\" viewBox=\"0 0 349.2 231.84\" width=\"349.2pt\" xmlns=\"http://www.w3.org/2000/svg\" xmlns:xlink=\"http://www.w3.org/1999/xlink\">\r\n <defs>\r\n  <style type=\"text/css\">\r\n*{stroke-linecap:butt;stroke-linejoin:round;}\r\n  </style>\r\n </defs>\r\n <g id=\"figure_1\">\r\n  <g id=\"patch_1\">\r\n   <path d=\"M 0 231.84 \r\nL 349.2 231.84 \r\nL 349.2 0 \r\nL 0 0 \r\nz\r\n\" style=\"fill:none;\"/>\r\n  </g>\r\n  <g id=\"axes_1\">\r\n   <g id=\"patch_2\">\r\n    <path d=\"M 7.2 224.64 \r\nL 342 224.64 \r\nL 342 7.2 \r\nL 7.2 7.2 \r\nz\r\n\" style=\"fill:#ffffff;\"/>\r\n   </g>\r\n   <g id=\"LineCollection_1\">\r\n    <path clip-path=\"url(#pad0ce48034)\" d=\"M 326.781818 87.391424 \r\nL 204.365792 159.228881 \r\n\" style=\"fill:none;stroke:#000000;\"/>\r\n    <path clip-path=\"url(#pad0ce48034)\" d=\"M 326.781818 87.391424 \r\nL 223.697128 17.083636 \r\n\" style=\"fill:none;stroke:#000000;\"/>\r\n    <path clip-path=\"url(#pad0ce48034)\" d=\"M 326.781818 87.391424 \r\nL 111.766891 95.987884 \r\n\" style=\"fill:none;stroke:#000000;\"/>\r\n    <path clip-path=\"url(#pad0ce48034)\" d=\"M 204.365792 159.228881 \r\nL 223.697128 17.083636 \r\n\" style=\"fill:none;stroke:#000000;\"/>\r\n    <path clip-path=\"url(#pad0ce48034)\" d=\"M 204.365792 159.228881 \r\nL 111.766891 95.987884 \r\n\" style=\"fill:none;stroke:#000000;\"/>\r\n    <path clip-path=\"url(#pad0ce48034)\" d=\"M 204.365792 159.228881 \r\nL 22.418182 214.756364 \r\n\" style=\"fill:none;stroke:#000000;\"/>\r\n    <path clip-path=\"url(#pad0ce48034)\" d=\"M 223.697128 17.083636 \r\nL 111.766891 95.987884 \r\n\" style=\"fill:none;stroke:#000000;\"/>\r\n    <path clip-path=\"url(#pad0ce48034)\" d=\"M 111.766891 95.987884 \r\nL 22.418182 214.756364 \r\n\" style=\"fill:none;stroke:#000000;\"/>\r\n   </g>\r\n   <g id=\"matplotlib.axis_1\">\r\n    <g id=\"xtick_1\"/>\r\n    <g id=\"xtick_2\"/>\r\n    <g id=\"xtick_3\"/>\r\n    <g id=\"xtick_4\"/>\r\n    <g id=\"xtick_5\"/>\r\n    <g id=\"xtick_6\"/>\r\n    <g id=\"xtick_7\"/>\r\n    <g id=\"xtick_8\"/>\r\n    <g id=\"xtick_9\"/>\r\n   </g>\r\n   <g id=\"matplotlib.axis_2\">\r\n    <g id=\"ytick_1\"/>\r\n    <g id=\"ytick_2\"/>\r\n    <g id=\"ytick_3\"/>\r\n    <g id=\"ytick_4\"/>\r\n    <g id=\"ytick_5\"/>\r\n    <g id=\"ytick_6\"/>\r\n    <g id=\"ytick_7\"/>\r\n    <g id=\"ytick_8\"/>\r\n    <g id=\"ytick_9\"/>\r\n   </g>\r\n   <g id=\"PathCollection_1\">\r\n    <defs>\r\n     <path d=\"M 0 11.18034 \r\nC 2.965061 11.18034 5.80908 10.002309 7.905694 7.905694 \r\nC 10.002309 5.80908 11.18034 2.965061 11.18034 0 \r\nC 11.18034 -2.965061 10.002309 -5.80908 7.905694 -7.905694 \r\nC 5.80908 -10.002309 2.965061 -11.18034 0 -11.18034 \r\nC -2.965061 -11.18034 -5.80908 -10.002309 -7.905694 -7.905694 \r\nC -10.002309 -5.80908 -11.18034 -2.965061 -11.18034 0 \r\nC -11.18034 2.965061 -10.002309 5.80908 -7.905694 7.905694 \r\nC -5.80908 10.002309 -2.965061 11.18034 0 11.18034 \r\nz\r\n\" id=\"mb1b08fe3ad\" style=\"stroke:#808080;\"/>\r\n    </defs>\r\n    <g clip-path=\"url(#pad0ce48034)\">\r\n     <use style=\"fill:#808080;stroke:#808080;\" x=\"326.781818\" xlink:href=\"#mb1b08fe3ad\" y=\"87.391424\"/>\r\n     <use style=\"fill:#808080;stroke:#808080;\" x=\"204.365792\" xlink:href=\"#mb1b08fe3ad\" y=\"159.228881\"/>\r\n     <use style=\"fill:#808080;stroke:#808080;\" x=\"223.697128\" xlink:href=\"#mb1b08fe3ad\" y=\"17.083636\"/>\r\n     <use style=\"fill:#808080;stroke:#808080;\" x=\"111.766891\" xlink:href=\"#mb1b08fe3ad\" y=\"95.987884\"/>\r\n     <use style=\"fill:#808080;stroke:#808080;\" x=\"22.418182\" xlink:href=\"#mb1b08fe3ad\" y=\"214.756364\"/>\r\n    </g>\r\n   </g>\r\n   <g id=\"patch_3\">\r\n    <path d=\"M 7.2 224.64 \r\nL 7.2 7.2 \r\n\" style=\"fill:none;stroke:#000000;stroke-linecap:square;stroke-linejoin:miter;stroke-width:0.8;\"/>\r\n   </g>\r\n   <g id=\"patch_4\">\r\n    <path d=\"M 342 224.64 \r\nL 342 7.2 \r\n\" style=\"fill:none;stroke:#000000;stroke-linecap:square;stroke-linejoin:miter;stroke-width:0.8;\"/>\r\n   </g>\r\n   <g id=\"patch_5\">\r\n    <path d=\"M 7.2 224.64 \r\nL 342 224.64 \r\n\" style=\"fill:none;stroke:#000000;stroke-linecap:square;stroke-linejoin:miter;stroke-width:0.8;\"/>\r\n   </g>\r\n   <g id=\"patch_6\">\r\n    <path d=\"M 7.2 7.2 \r\nL 342 7.2 \r\n\" style=\"fill:none;stroke:#000000;stroke-linecap:square;stroke-linejoin:miter;stroke-width:0.8;\"/>\r\n   </g>\r\n   <g id=\"text_1\">\r\n    <g clip-path=\"url(#pad0ce48034)\">\r\n     <!-- A -->\r\n     <defs>\r\n      <path d=\"M 34.1875 63.1875 \r\nL 20.796875 26.90625 \r\nL 47.609375 26.90625 \r\nz\r\nM 28.609375 72.90625 \r\nL 39.796875 72.90625 \r\nL 67.578125 0 \r\nL 57.328125 0 \r\nL 50.6875 18.703125 \r\nL 17.828125 18.703125 \r\nL 11.1875 0 \r\nL 0.78125 0 \r\nz\r\n\" id=\"DejaVuSans-65\"/>\r\n     </defs>\r\n     <g transform=\"translate(322.677443 90.702674)scale(0.12 -0.12)\">\r\n      <use xlink:href=\"#DejaVuSans-65\"/>\r\n     </g>\r\n    </g>\r\n   </g>\r\n   <g id=\"text_2\">\r\n    <g clip-path=\"url(#pad0ce48034)\">\r\n     <!-- B -->\r\n     <defs>\r\n      <path d=\"M 19.671875 34.8125 \r\nL 19.671875 8.109375 \r\nL 35.5 8.109375 \r\nQ 43.453125 8.109375 47.28125 11.40625 \r\nQ 51.125 14.703125 51.125 21.484375 \r\nQ 51.125 28.328125 47.28125 31.5625 \r\nQ 43.453125 34.8125 35.5 34.8125 \r\nz\r\nM 19.671875 64.796875 \r\nL 19.671875 42.828125 \r\nL 34.28125 42.828125 \r\nQ 41.5 42.828125 45.03125 45.53125 \r\nQ 48.578125 48.25 48.578125 53.8125 \r\nQ 48.578125 59.328125 45.03125 62.0625 \r\nQ 41.5 64.796875 34.28125 64.796875 \r\nz\r\nM 9.8125 72.90625 \r\nL 35.015625 72.90625 \r\nQ 46.296875 72.90625 52.390625 68.21875 \r\nQ 58.5 63.53125 58.5 54.890625 \r\nQ 58.5 48.1875 55.375 44.234375 \r\nQ 52.25 40.28125 46.1875 39.3125 \r\nQ 53.46875 37.75 57.5 32.78125 \r\nQ 61.53125 27.828125 61.53125 20.40625 \r\nQ 61.53125 10.640625 54.890625 5.3125 \r\nQ 48.25 0 35.984375 0 \r\nL 9.8125 0 \r\nz\r\n\" id=\"DejaVuSans-66\"/>\r\n     </defs>\r\n     <g transform=\"translate(200.249229 162.540131)scale(0.12 -0.12)\">\r\n      <use xlink:href=\"#DejaVuSans-66\"/>\r\n     </g>\r\n    </g>\r\n   </g>\r\n   <g id=\"text_3\">\r\n    <g clip-path=\"url(#pad0ce48034)\">\r\n     <!-- C -->\r\n     <defs>\r\n      <path d=\"M 64.40625 67.28125 \r\nL 64.40625 56.890625 \r\nQ 59.421875 61.53125 53.78125 63.8125 \r\nQ 48.140625 66.109375 41.796875 66.109375 \r\nQ 29.296875 66.109375 22.65625 58.46875 \r\nQ 16.015625 50.828125 16.015625 36.375 \r\nQ 16.015625 21.96875 22.65625 14.328125 \r\nQ 29.296875 6.6875 41.796875 6.6875 \r\nQ 48.140625 6.6875 53.78125 8.984375 \r\nQ 59.421875 11.28125 64.40625 15.921875 \r\nL 64.40625 5.609375 \r\nQ 59.234375 2.09375 53.4375 0.328125 \r\nQ 47.65625 -1.421875 41.21875 -1.421875 \r\nQ 24.65625 -1.421875 15.125 8.703125 \r\nQ 5.609375 18.84375 5.609375 36.375 \r\nQ 5.609375 53.953125 15.125 64.078125 \r\nQ 24.65625 74.21875 41.21875 74.21875 \r\nQ 47.75 74.21875 53.53125 72.484375 \r\nQ 59.328125 70.75 64.40625 67.28125 \r\nz\r\n\" id=\"DejaVuSans-67\"/>\r\n     </defs>\r\n     <g transform=\"translate(219.507441 20.394886)scale(0.12 -0.12)\">\r\n      <use xlink:href=\"#DejaVuSans-67\"/>\r\n     </g>\r\n    </g>\r\n   </g>\r\n   <g id=\"text_4\">\r\n    <g clip-path=\"url(#pad0ce48034)\">\r\n     <!-- D -->\r\n     <defs>\r\n      <path d=\"M 19.671875 64.796875 \r\nL 19.671875 8.109375 \r\nL 31.59375 8.109375 \r\nQ 46.6875 8.109375 53.6875 14.9375 \r\nQ 60.6875 21.78125 60.6875 36.53125 \r\nQ 60.6875 51.171875 53.6875 57.984375 \r\nQ 46.6875 64.796875 31.59375 64.796875 \r\nz\r\nM 9.8125 72.90625 \r\nL 30.078125 72.90625 \r\nQ 51.265625 72.90625 61.171875 64.09375 \r\nQ 71.09375 55.28125 71.09375 36.53125 \r\nQ 71.09375 17.671875 61.125 8.828125 \r\nQ 51.171875 0 30.078125 0 \r\nL 9.8125 0 \r\nz\r\n\" id=\"DejaVuSans-68\"/>\r\n     </defs>\r\n     <g transform=\"translate(107.146891 99.299134)scale(0.12 -0.12)\">\r\n      <use xlink:href=\"#DejaVuSans-68\"/>\r\n     </g>\r\n    </g>\r\n   </g>\r\n   <g id=\"text_5\">\r\n    <g clip-path=\"url(#pad0ce48034)\">\r\n     <!-- E -->\r\n     <defs>\r\n      <path d=\"M 9.8125 72.90625 \r\nL 55.90625 72.90625 \r\nL 55.90625 64.59375 \r\nL 19.671875 64.59375 \r\nL 19.671875 43.015625 \r\nL 54.390625 43.015625 \r\nL 54.390625 34.71875 \r\nL 19.671875 34.71875 \r\nL 19.671875 8.296875 \r\nL 56.78125 8.296875 \r\nL 56.78125 0 \r\nL 9.8125 0 \r\nz\r\n\" id=\"DejaVuSans-69\"/>\r\n     </defs>\r\n     <g transform=\"translate(18.626932 218.067614)scale(0.12 -0.12)\">\r\n      <use xlink:href=\"#DejaVuSans-69\"/>\r\n     </g>\r\n    </g>\r\n   </g>\r\n  </g>\r\n </g>\r\n <defs>\r\n  <clipPath id=\"pad0ce48034\">\r\n   <rect height=\"217.44\" width=\"334.8\" x=\"7.2\" y=\"7.2\"/>\r\n  </clipPath>\r\n </defs>\r\n</svg>\r\n",
      "image/png": "[encoded data removed]"
     },
     "metadata": {}
    }
   ],
   "source": [
    "nx.draw_networkx(G, pos=pos, node_size=500, node_color='grey')"
   ]
  },
  {
   "cell_type": "code",
   "execution_count": 221,
   "metadata": {},
   "outputs": [
    {
     "output_type": "stream",
     "name": "stdout",
     "text": "could be isomorphic:  True\n"
    }
   ],
   "source": [
    "from networkx.algorithms import isomorphism\n",
    "\n",
    "print('could be isomorphic: ', isomorphism.could_be_isomorphic(G,G2))"
   ]
  },
  {
   "cell_type": "code",
   "execution_count": 223,
   "metadata": {},
   "outputs": [
    {
     "output_type": "execute_result",
     "data": {
      "text/plain": "True"
     },
     "metadata": {},
     "execution_count": 223
    }
   ],
   "source": [
    "GM = isomorphism.GraphMatcher(G, G2)\n",
    "GM.is_isomorphic()"
   ]
  },
  {
   "cell_type": "code",
   "execution_count": 227,
   "metadata": {},
   "outputs": [
    {
     "output_type": "execute_result",
     "data": {
      "text/plain": "   G G1\n1  A  b\n0  B  a\n3  C  d\n2  D  e\n4  E  c",
      "text/html": "<div>\n<style scoped>\n    .dataframe tbody tr th:only-of-type {\n        vertical-align: middle;\n    }\n\n    .dataframe tbody tr th {\n        vertical-align: top;\n    }\n\n    .dataframe thead th {\n        text-align: right;\n    }\n</style>\n<table border=\"1\" class=\"dataframe\">\n  <thead>\n    <tr style=\"text-align: right;\">\n      <th></th>\n      <th>G</th>\n      <th>G1</th>\n    </tr>\n  </thead>\n  <tbody>\n    <tr>\n      <th>1</th>\n      <td>A</td>\n      <td>b</td>\n    </tr>\n    <tr>\n      <th>0</th>\n      <td>B</td>\n      <td>a</td>\n    </tr>\n    <tr>\n      <th>3</th>\n      <td>C</td>\n      <td>d</td>\n    </tr>\n    <tr>\n      <th>2</th>\n      <td>D</td>\n      <td>e</td>\n    </tr>\n    <tr>\n      <th>4</th>\n      <td>E</td>\n      <td>c</td>\n    </tr>\n  </tbody>\n</table>\n</div>"
     },
     "metadata": {},
     "execution_count": 227
    }
   ],
   "source": [
    "pd.DataFrame(GM.mapping.items(), columns={'G', 'G1'}).sort_values(by='G')"
   ]
  },
  {
   "cell_type": "code",
   "execution_count": 216,
   "metadata": {},
   "outputs": [
    {
     "output_type": "stream",
     "name": "stdout",
     "text": "Name: \nType: Graph\nNumber of nodes: 5\nNumber of edges: 8\nAverage degree:   3.2000\n"
    }
   ],
   "source": [
    "print(nx.info(G))"
   ]
  },
  {
   "cell_type": "code",
   "execution_count": 217,
   "metadata": {},
   "outputs": [
    {
     "output_type": "stream",
     "name": "stdout",
     "text": "Name: \nType: Graph\nNumber of nodes: 5\nNumber of edges: 8\nAverage degree:   3.2000\n"
    }
   ],
   "source": [
    "print(nx.info(G2))"
   ]
  },
  {
   "cell_type": "code",
   "execution_count": 218,
   "metadata": {},
   "outputs": [
    {
     "output_type": "execute_result",
     "data": {
      "text/plain": "[('A', 'B'),\n ('A', 'C'),\n ('A', 'D'),\n ('B', 'C'),\n ('B', 'D'),\n ('B', 'E'),\n ('C', 'D'),\n ('D', 'E')]"
     },
     "metadata": {},
     "execution_count": 218
    }
   ],
   "source": [
    "[e for e in G.edges()]"
   ]
  },
  {
   "cell_type": "code",
   "execution_count": 219,
   "metadata": {},
   "outputs": [
    {
     "output_type": "execute_result",
     "data": {
      "text/plain": "[('a', 'b'),\n ('a', 'e'),\n ('a', 'd'),\n ('a', 'c'),\n ('b', 'd'),\n ('b', 'e'),\n ('e', 'c'),\n ('e', 'd')]"
     },
     "metadata": {},
     "execution_count": 219
    }
   ],
   "source": [
    "[e for e in G2.edges()]"
   ]
  },
  {
   "cell_type": "code",
   "execution_count": null,
   "metadata": {},
   "outputs": [],
   "source": []
  }
 ],
 "metadata": {
  "language_info": {
   "codemirror_mode": {
    "name": "ipython",
    "version": 3
   },
   "file_extension": ".py",
   "mimetype": "text/x-python",
   "name": "python",
   "nbconvert_exporter": "python",
   "pygments_lexer": "ipython3",
   "version": "3.8.3-final"
  },
  "orig_nbformat": 2,
  "kernelspec": {
   "name": "python38364bitb680b9ea85ba4b86b35b18465fd75df3",
   "display_name": "Python 3.8.3 64-bit"
  }
 },
 "nbformat": 4,
 "nbformat_minor": 2
}