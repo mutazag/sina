{
 "nbformat": 4,
 "nbformat_minor": 2,
 "metadata": {
  "language_info": {
   "name": "python",
   "codemirror_mode": {
    "name": "ipython",
    "version": 3
   }
  },
  "orig_nbformat": 2,
  "file_extension": ".py",
  "mimetype": "text/x-python",
  "name": "python",
  "npconvert_exporter": "python",
  "pygments_lexer": "ipython3",
  "version": 3
 },
 "cells": [
  {
   "cell_type": "markdown",
   "metadata": {},
   "source": [
    "# Simulating Q4 in AT1\n",
    "\n",
    "In the given network, what are the clustering coefficients of the nodes A and G. Show the solution steps, rather ahn simply provide the answer. \n",
    "\n",
    "\n",
    "![Question 4](images/AT1-Q4-question-figure.png)    \n"
   ]
  }
 ]
}