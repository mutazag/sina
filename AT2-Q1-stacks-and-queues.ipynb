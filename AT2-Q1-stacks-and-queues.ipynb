{
 "cells": [
  {
   "cell_type": "markdown",
   "metadata": {},
   "source": [
    "# Stacks and queue"
   ]
  },
  {
   "cell_type": "markdown",
   "metadata": {},
   "source": [
    "## Stack\n",
    "\n",
    "Stack is LIFO (FILO) structure, you always pop the last item added to the stack, this example uses a List in python to implement a stack behaviour. \n",
    "- `append()` will add an item to the stack \n",
    "- `pop()` will pop the last item added to the stack\n",
    "\n",
    "\n",
    "reference: https://realpython.com/how-to-implement-python-stack/ "
   ]
  },
  {
   "cell_type": "code",
   "execution_count": 35,
   "metadata": {},
   "outputs": [
    {
     "output_type": "stream",
     "name": "stdout",
     "text": "3\n['a', 'b', 'c']\npop:  c\npop:  b\n1\n['a']\npop:  a\n0\n[]\n"
    }
   ],
   "source": [
    "myStack = [] \n",
    "myStack.append('a')\n",
    "myStack.append('b')\n",
    "myStack.append('c')\n",
    "print(len(myStack))\n",
    "print(myStack)\n",
    "print('pop: ', myStack.pop())\n",
    "print('pop: ', myStack.pop())\n",
    "print(len(myStack))\n",
    "print(myStack)\n",
    "print('pop: ', myStack.pop())\n",
    "print(len(myStack))\n",
    "print(myStack)\n",
    "\n"
   ]
  },
  {
   "cell_type": "markdown",
   "metadata": {},
   "source": [
    "Alternative option to implementing stacks is to use `deque` "
   ]
  },
  {
   "cell_type": "code",
   "execution_count": 32,
   "metadata": {},
   "outputs": [
    {
     "output_type": "stream",
     "name": "stdout",
     "text": "3\ndeque(['a', 'b', 'c'])\npop:  c\npop:  b\n1\ndeque(['a'])\npop:  a\nlength: 0\n"
    }
   ],
   "source": [
    "from collections import deque\n",
    "myStack2 = deque()\n",
    "myStack2.append('a')\n",
    "myStack2.append('b')\n",
    "myStack2.append('c')\n",
    "print(len(myStack2))\n",
    "print(myStack2)\n",
    "print('pop: ', myStack2.pop())\n",
    "print('pop: ', myStack2.pop())\n",
    "print(len(myStack2))\n",
    "print(myStack2)\n",
    "print('pop: ', myStack2.pop())\n",
    "print(f'length: {len(myStack2)}')"
   ]
  },
  {
   "cell_type": "code",
   "execution_count": 20,
   "metadata": {},
   "outputs": [
    {
     "output_type": "stream",
     "name": "stdout",
     "text": "3\n['a', 'b', 'c']\npop:  c\npop:  b\n['a']\npop:  a\n"
    }
   ],
   "source": [
    "# another implentation for multi threading is t use LifeQueu \n",
    "from queue import LifoQueue\n",
    "myStack3 = LifoQueue() \n",
    "myStack3.put('a')\n",
    "myStack3.put('b')\n",
    "myStack3.put('c')\n",
    "print(myStack3.qsize())\n",
    "print(myStack3.queue)\n",
    "print('pop: ', myStack3.get())\n",
    "print('pop: ', myStack3.get())\n",
    "print(myStack3.queue)\n",
    "print('pop: ', myStack3.get())\n",
    "\n"
   ]
  },
  {
   "cell_type": "code",
   "execution_count": 25,
   "metadata": {},
   "outputs": [
    {
     "output_type": "execute_result",
     "data": {
      "text/plain": "True"
     },
     "metadata": {},
     "execution_count": 25
    }
   ],
   "source": [
    "myStack3.empty()"
   ]
  },
  {
   "cell_type": "markdown",
   "metadata": {},
   "source": [
    "## Queues \n",
    "\n",
    "queue is a FIFO structure \n",
    "\n",
    "using `queue.Queue()`\n"
   ]
  },
  {
   "cell_type": "code",
   "execution_count": 46,
   "metadata": {},
   "outputs": [
    {
     "output_type": "stream",
     "name": "stdout",
     "text": "3\ndeque(['a', 'b', 'c'])\npop:  a\npop:  b\ndeque(['c', 'g'])\npop:  c\npop:  g\nQ empty?: True\n"
    }
   ],
   "source": [
    "from queue import Queue\n",
    "\n",
    "q = Queue()\n",
    "q.put('a')\n",
    "q.put('b')\n",
    "q.put('c')\n",
    "\n",
    "print(q.qsize())\n",
    "print(q.queue)\n",
    "\n",
    "print('pop: ', q.get())\n",
    "print('pop: ', q.get())\n",
    "\n",
    "\n",
    "q.put('g')\n",
    "print(q.queue)\n",
    "\n",
    "print('pop: ', q.get())\n",
    "print('pop: ', q.get())\n",
    "\n",
    "\n",
    "print(f'Q empty?: {q.empty()}')"
   ]
  },
  {
   "cell_type": "code",
   "execution_count": null,
   "metadata": {},
   "outputs": [],
   "source": []
  }
 ],
 "metadata": {
  "language_info": {
   "codemirror_mode": {
    "name": "ipython",
    "version": 3
   },
   "file_extension": ".py",
   "mimetype": "text/x-python",
   "name": "python",
   "nbconvert_exporter": "python",
   "pygments_lexer": "ipython3",
   "version": "3.8.2-final"
  },
  "orig_nbformat": 2,
  "kernelspec": {
   "name": "python38264bita77b78139ed74c0680b374d0446532ec",
   "display_name": "Python 3.8.2 64-bit"
  }
 },
 "nbformat": 4,
 "nbformat_minor": 2
}